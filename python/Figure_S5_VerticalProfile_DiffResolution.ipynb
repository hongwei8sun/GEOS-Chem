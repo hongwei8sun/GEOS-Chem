{
 "cells": [
  {
   "cell_type": "code",
   "execution_count": 2,
   "metadata": {},
   "outputs": [],
   "source": [
    "import numpy as np\n",
    "from numpy import ma\n",
    "import math\n",
    "import scipy\n",
    "import os\n",
    "from IPython.display import Image\n",
    "from tqdm import tqdm\n",
    "\n",
    "from netCDF4 import Dataset\n",
    "\n",
    "from cartopy import config\n",
    "import cartopy.crs as ccrs\n",
    "from cartopy.mpl.ticker import LongitudeFormatter, LatitudeFormatter\n",
    "from cartopy.util import add_cyclic_point\n",
    "\n",
    "import matplotlib.pyplot as plt\n",
    "import matplotlib.colors as colors\n",
    "from matplotlib.cm import get_cmap\n",
    "from matplotlib import ticker\n",
    "\n",
    "# from matplotlib.mlab import bivariate_normal\n",
    "\n",
    "NA = 6.022e+23"
   ]
  },
  {
   "cell_type": "code",
   "execution_count": 3,
   "metadata": {},
   "outputs": [],
   "source": [
    "FILEDIR = '/n/home12/hongwei/HONGWEI/GC_run_13.0/final_continuous_injection/gc_2x25_eulerian_final'\n",
    "NcFile   = Dataset(FILEDIR+'/OutputDir/GEOSChem.SpeciesConc.20150101_0005z.nc4','r',format='NETCDF4_CLASSIC')\n",
    "\n",
    "Ap = NcFile.variables['hyai']\n",
    "\n",
    "del NcFile"
   ]
  },
  {
   "cell_type": "code",
   "execution_count": 4,
   "metadata": {},
   "outputs": [],
   "source": [
    "# 0.5x0.625\n",
    "FILEDIR1 = '/n/home12/hongwei/HONGWEI/GC_run_13.0/final_continuous_injection/gc_05x0625_eulerian_final'\n",
    "NcFile1   = Dataset(FILEDIR1+'/OutputDir/GEOSChem.SpeciesConc.20150101_0005z.nc4','r',format='NETCDF4_CLASSIC')\n",
    "\n",
    "lat1             = NcFile1.variables['lat'][:]\n",
    "lon1             = NcFile1.variables['lon'][:]\n",
    "\n",
    "# EU1              = NcFile1.variables['SpeciesConc_PASV_EU2']\n",
    "EU11             = NcFile1.variables['SpeciesConc_PASV_EU']\n",
    "\n",
    "GC_AREA1 = NcFile1.variables['AREA'][:,:]\n",
    "\n",
    "# 1*1.25\n",
    "FILEDIR2 = '/n/home12/hongwei/HONGWEI/GC_run_13.0/final_continuous_injection/gc_1x125_eulerian_final'\n",
    "NcFile2   = Dataset(FILEDIR2+'/OutputDir/GEOSChem.SpeciesConc.20150101_0005z.nc4','r',format='NETCDF4_CLASSIC')\n",
    "\n",
    "\n",
    "lat2             = NcFile2.variables['lat'][:]\n",
    "lon2             = NcFile2.variables['lon'][:]\n",
    "\n",
    "# EU2              = NcFile2.variables['SpeciesConc_PASV_EU2']\n",
    "EU22             = NcFile2.variables['SpeciesConc_PASV_EU']\n",
    "\n",
    "GC_AREA2 = NcFile2.variables['AREA'][:,:];\n",
    "\n",
    "# 2*2.5\n",
    "FILEDIR3 = '/n/home12/hongwei/HONGWEI/GC_run_13.0/final_continuous_injection/gc_2x25_eulerian_final'\n",
    "NcFile3   = Dataset(FILEDIR3+'/OutputDir/GEOSChem.SpeciesConc.20150101_0005z.nc4','r',format='NETCDF4_CLASSIC')\n",
    "\n",
    "lat3             = NcFile3.variables['lat'][:]\n",
    "lon3             = NcFile3.variables['lon'][:]\n",
    "\n",
    "# EU3              = NcFile3.variables['SpeciesConc_PASV_EU2']\n",
    "EU33             = NcFile3.variables['SpeciesConc_PASV_EU']\n",
    "\n",
    "GC_AREA3 = NcFile3.variables['AREA'][:,:];\n",
    "\n",
    "\n",
    "# 4*5\n",
    "FILEDIR4 = '/n/home12/hongwei/HONGWEI/GC_run_13.0/final_continuous_injection/gc_4x5_eulerian_final'\n",
    "NcFile4   = Dataset(FILEDIR4+'/OutputDir/GEOSChem.SpeciesConc.20150101_0005z.nc4','r',format='NETCDF4_CLASSIC')\n",
    "\n",
    "lat4             = NcFile4.variables['lat'][:]\n",
    "lon4             = NcFile4.variables['lon'][:]\n",
    "# EU4              = NcFile4.variables['SpeciesConc_PASV_EU2']\n",
    "EU44             = NcFile4.variables['SpeciesConc_PASV_EU']\n",
    "\n",
    "GC_AREA4 = NcFile4.variables['AREA'][:,:];\n",
    "\n",
    "\n",
    "# lagrange: 2*2.5\n",
    "FILEDIR0 = '/n/home12/hongwei/HONGWEI/GC_run_13.0/final_continuous_injection/gc_2x25_lagrange_final'\n",
    "NcFile0   = Dataset(FILEDIR0+'/OutputDir/GEOSChem.SpeciesConc.20150101_0005z.nc4','r',format='NETCDF4_CLASSIC')\n",
    "\n",
    "lat0             = NcFile0.variables['lat'][:]\n",
    "lon0             = NcFile0.variables['lon'][:]\n",
    "\n",
    "# LA0              = NcFile0.variables['SpeciesConc_PASV_LA2'][:,:,:,:]\n",
    "LA00              = NcFile0.variables['SpeciesConc_PASV_LA'][:,:,:,:]\n",
    "LA03              = NcFile0.variables['SpeciesConc_PASV_LA3'][:,:,:,:]\n",
    "LA00 = LA00 + LA03\n",
    "\n",
    "GC_AREA0 = NcFile0.variables['AREA'][:,:];\n"
   ]
  },
  {
   "cell_type": "code",
   "execution_count": 5,
   "metadata": {},
   "outputs": [
    {
     "data": {
      "text/plain": [
       "<class 'netCDF4._netCDF4.Variable'>\n",
       "float32 AREA(lat, lon)\n",
       "    long_name: Surface area\n",
       "    units: m2\n",
       "unlimited dimensions: \n",
       "current shape = (91, 144)\n",
       "filling off"
      ]
     },
     "execution_count": 5,
     "metadata": {},
     "output_type": "execute_result"
    }
   ],
   "source": [
    "NcFile0.variables['AREA']"
   ]
  },
  {
   "cell_type": "code",
   "execution_count": 6,
   "metadata": {},
   "outputs": [
    {
     "data": {
      "text/plain": [
       "<class 'netCDF4._netCDF4.Variable'>\n",
       "float32 SpeciesConc_PASV_EU(time, lev, lat, lon)\n",
       "    long_name: Dry mixing ratio of species PASV_EU\n",
       "    units: mol mol-1 dry\n",
       "    averaging_method: instantaneous\n",
       "unlimited dimensions: time\n",
       "current shape = (30, 72, 181, 288)\n",
       "filling off"
      ]
     },
     "execution_count": 6,
     "metadata": {},
     "output_type": "execute_result"
    }
   ],
   "source": [
    "Nx1 = len(EU11[0,0,0,:])\n",
    "Ny1 = len(EU11[0,0,:,0])\n",
    "Nz1 = len(EU11[0,:,0,0])\n",
    "Nt1 = len(EU11[:,0,0,0])\n",
    "\n",
    "Nx2 = len(EU22[0,0,0,:])\n",
    "Ny2 = len(EU22[0,0,:,0])\n",
    "Nz2 = len(EU22[0,:,0,0])\n",
    "Nt2 = len(EU22[:,0,0,0])\n",
    "\n",
    "Nx3 = len(EU33[0,0,0,:])\n",
    "Ny3 = len(EU33[0,0,:,0])\n",
    "Nz3 = len(EU33[0,:,0,0])\n",
    "Nt3 = len(EU33[:,0,0,0])\n",
    "\n",
    "Nx4 = len(EU44[0,0,0,:])\n",
    "Ny4 = len(EU44[0,0,:,0])\n",
    "Nz4 = len(EU44[0,:,0,0])\n",
    "Nt4 = len(EU44[:,0,0,0])\n",
    "\n",
    "Nx0 = len(LA00[0,0,0,:])\n",
    "Ny0 = len(LA00[0,0,:,0])\n",
    "Nz0 = len(LA00[0,:,0,0])\n",
    "Nt0 = len(LA00[:,0,0,0])\n",
    "\n",
    "EU22"
   ]
  },
  {
   "cell_type": "code",
   "execution_count": 7,
   "metadata": {},
   "outputs": [],
   "source": [
    "del NcFile0, NcFile1, NcFile2, NcFile3, NcFile4"
   ]
  },
  {
   "cell_type": "code",
   "execution_count": 8,
   "metadata": {},
   "outputs": [],
   "source": [
    "#------------------------------------------------\n",
    "# total air mass in each grid  ------------------\n",
    "#------------------------------------------------\n",
    "\n",
    "# 0.5x0.625\n",
    "AD_file1 = Dataset(FILEDIR1+'/OutputDir/GEOSChem.StateMet.20150101_0000z.nc4','r',format='NETCDF4_CLASSIC')\n",
    "GC_AD1   = AD_file1.variables['Met_AD']\n",
    "\n",
    "# 1x1.25\n",
    "AD_file2 = Dataset(FILEDIR2+'/OutputDir/GEOSChem.StateMet.20150101_0000z.nc4','r',format='NETCDF4_CLASSIC')\n",
    "GC_AD2   = AD_file2.variables['Met_AD']\n",
    "\n",
    "# 2x2.5\n",
    "AD_file3 = Dataset(FILEDIR3+'/OutputDir/GEOSChem.StateMet.20150101_0000z.nc4','r',format='NETCDF4_CLASSIC')\n",
    "GC_AD3   = AD_file3.variables['Met_AD']\n",
    "\n",
    "# 4x5\n",
    "AD_file4 = Dataset(FILEDIR4+'/OutputDir/GEOSChem.StateMet.20150101_0000z.nc4','r',format='NETCDF4_CLASSIC')\n",
    "GC_AD4   = AD_file4.variables['Met_AD']\n",
    "\n",
    "# 2x2.5\n",
    "AD_file0 = Dataset(FILEDIR0+'/OutputDir/GEOSChem.StateMet.20150101_0000z.nc4','r',format='NETCDF4_CLASSIC')\n",
    "GC_AD0   = AD_file0.variables['Met_AD']\n"
   ]
  },
  {
   "cell_type": "code",
   "execution_count": 9,
   "metadata": {},
   "outputs": [
    {
     "data": {
      "text/plain": [
       "<class 'netCDF4._netCDF4.Variable'>\n",
       "float32 Met_AD(time, lev, lat, lon)\n",
       "    long_name: Dry air mass\n",
       "    units: kg\n",
       "    averaging_method: time-averaged\n",
       "unlimited dimensions: time\n",
       "current shape = (31, 72, 361, 576)\n",
       "filling off"
      ]
     },
     "execution_count": 9,
     "metadata": {},
     "output_type": "execute_result"
    }
   ],
   "source": [
    "GC_AD1"
   ]
  },
  {
   "cell_type": "code",
   "execution_count": 10,
   "metadata": {},
   "outputs": [],
   "source": [
    "del AD_file0, AD_file1, AD_file2, AD_file3, AD_file4"
   ]
  },
  {
   "cell_type": "code",
   "execution_count": null,
   "metadata": {},
   "outputs": [],
   "source": []
  },
  {
   "cell_type": "code",
   "execution_count": 11,
   "metadata": {},
   "outputs": [],
   "source": [
    "# # for 2nd order production\n",
    "# ### change unit, do average\n",
    "\n",
    "# # 0.5x0.625\n",
    "# EU1_molec = EU1[:,:,:,:]*0.0\n",
    "# for i in range(Nt1):\n",
    "#     EU1_molec[i,:,:,:] = EU1[i,:,:,:]*(GC_AD1[i,:,:,:]*1000.0/28.97)*NA # [mol/mol] to [molec]\n",
    "    \n",
    "\n",
    "# EU1_Zsum = np.sum(EU1_molec[:,:,:,:], axis=1)\n",
    "# for i in range(Nt1):\n",
    "#     EU1_Zsum[i,:,:] = EU1_Zsum[i,:,:]/GC_AREA1[:,:]/1e4 # [molec/cm2]\n",
    "\n",
    "# EU1_Zsum_Xmean = np.mean(EU1_Zsum[:,:,:], axis=2)\n",
    "\n",
    "\n",
    "# # 1.0x1.25\n",
    "# EU2_molec = EU2[:,:,:,:]*0.0\n",
    "# for i in range(Nt2):\n",
    "#     EU2_molec[i,:,:,:] = EU2[i,:,:,:]*(GC_AD2[i,:,:,:]*1000.0/28.97)*NA # [mol/mol] to [molec]\n",
    "    \n",
    "\n",
    "# EU2_Zsum = np.sum(EU2_molec[:,:,:,:], axis=1)\n",
    "# for i in range(Nt2):\n",
    "#     EU2_Zsum[i,:,:] = EU2_Zsum[i,:,:]/GC_AREA2[:,:]/1e4 # [molec/cm2]\n",
    "\n",
    "# EU2_Zsum_Xmean = np.mean(EU2_Zsum[:,:,:], axis=2)\n",
    "\n",
    "\n",
    "# # 2.0x2.5\n",
    "# EU3_molec = EU3[:,:,:,:]*0.0\n",
    "# for i in range(Nt3):\n",
    "#     EU3_molec[i,:,:,:] = EU3[i,:,:,:]*(GC_AD3[i,:,:,:]*1000.0/28.97)*NA # [mol/mol] to [molec]\n",
    "    \n",
    "\n",
    "# EU3_Zsum = np.sum(EU3_molec[:,:,:,:], axis=1)\n",
    "# for i in range(Nt3):\n",
    "#     EU3_Zsum[i,:,:] = EU3_Zsum[i,:,:]/GC_AREA3[:,:]/1e4 # [molec/cm2]\n",
    "\n",
    "# EU3_Zsum_Xmean = np.mean(EU3_Zsum[:,:,:], axis=2)\n",
    "\n",
    "\n",
    "# # 4x5\n",
    "# EU4_molec = EU4[:,:,:,:]*0.0\n",
    "# for i in range(Nt4):\n",
    "#     EU4_molec[i,:,:,:] = EU4[i,:,:,:]*(GC_AD4[i,:,:,:]*1000.0/28.97)*NA # [mol/mol] to [molec]\n",
    "    \n",
    "\n",
    "# EU4_Zsum = np.sum(EU4_molec[:,:,:,:], axis=1)\n",
    "# for i in range(Nt4):\n",
    "#     EU4_Zsum[i,:,:] = EU4_Zsum[i,:,:]/GC_AREA4[:,:]/1e4 # [molec/cm2]\n",
    "\n",
    "# EU4_Zsum_Xmean = np.mean(EU4_Zsum[:,:,:], axis=2)\n",
    "\n",
    "\n",
    "# # lagrange: 2.0x2.5\n",
    "# LA0_molec = LA0[:,:,:,:]*0.0\n",
    "# for i in range(Nt0):\n",
    "#     LA0_molec[i,:,:,:] = LA0[i,:,:,:]*(GC_AD0[i,:,:,:]*1000.0/28.97)*NA\n",
    "\n",
    "\n",
    "# LA0_Zsum = np.sum(LA0_molec[:,:,:,:], axis=1)\n",
    "# for i in range(Nt0):\n",
    "#     LA0_Zsum[i,:,:]   = LA0_Zsum[i,:,:]/GC_AREA0[:,:]/1e4\n",
    "\n",
    "# LA0_Zsum_Xmean = np.mean(LA0_Zsum[:,:,:], axis=2)\n",
    "\n",
    "# del EU1, EU2, EU3, EU4, LA0"
   ]
  },
  {
   "cell_type": "code",
   "execution_count": 12,
   "metadata": {},
   "outputs": [],
   "source": [
    "# for injected tracer\n",
    "\n",
    "### change unit, do average\n",
    "\n",
    "# 0.5x0.625\n",
    "EU11_molec  = EU11[:,:,:,:]*0.0\n",
    "EU11_concnt = EU11[:,:,:,:]*0.0\n",
    "\n",
    "for i in range(Nt1):\n",
    "    EU11_molec[i,:,:,:]  = EU11[i,:,:,:]*(GC_AD1[i,:,:,:]*1000.0/28.97)*NA # [mol/mol] to [molec]\n",
    "    EU11_concnt[i,:,:,:] = EU11_molec[i,:,:,:]/GC_AREA1[:,:]/1e4 # [molec/cm2]  \n",
    "    \n",
    "EU11_Xmean = np.mean(EU11_concnt[:,:,:,:], axis=3)\n",
    "    \n",
    "del EU11\n",
    "\n",
    "\n",
    "# 1.0x1.25\n",
    "EU22_molec  = EU22[:,:,:,:]*0.0\n",
    "EU22_concnt = EU22[:,:,:,:]*0.0\n",
    "\n",
    "for i in range(Nt2):\n",
    "    EU22_molec[i,:,:,:]  = EU22[i,:,:,:]*(GC_AD2[i,:,:,:]*1000.0/28.97)*NA # [mol/mol] to [molec]\n",
    "    EU22_concnt[i,:,:,:] = EU22_molec[i,:,:,:]/GC_AREA2[:,:]/1e4 # [molec/cm2]  \n",
    "    \n",
    "EU22_Xmean = np.mean(EU22_concnt[:,:,:,:], axis=3)\n",
    "    \n",
    "del EU22\n",
    "\n",
    "\n",
    "# 2.0x2.5\n",
    "EU33_molec  = EU33[:,:,:,:]*0.0\n",
    "EU33_concnt = EU33[:,:,:,:]*0.0\n",
    "\n",
    "for i in range(Nt3):\n",
    "    EU33_molec[i,:,:,:]  = EU33[i,:,:,:]*(GC_AD3[i,:,:,:]*1000.0/28.97)*NA # [mol/mol] to [molec]\n",
    "    EU33_concnt[i,:,:,:] = EU33_molec[i,:,:,:]/GC_AREA3[:,:]/1e4 # [molec/cm2]  \n",
    "    \n",
    "EU33_Xmean = np.mean(EU33_concnt[:,:,:,:], axis=3)\n",
    "    \n",
    "del EU33\n",
    "\n",
    "\n",
    "# 4x5\n",
    "EU44_molec  = EU44[:,:,:,:]*0.0\n",
    "EU44_concnt = EU44[:,:,:,:]*0.0\n",
    "\n",
    "for i in range(Nt4):\n",
    "    EU44_molec[i,:,:,:]  = EU44[i,:,:,:]*(GC_AD4[i,:,:,:]*1000.0/28.97)*NA # [mol/mol] to [molec]\n",
    "    EU44_concnt[i,:,:,:] = EU44_molec[i,:,:,:]/GC_AREA4[:,:]/1e4 # [molec/cm2]  \n",
    "    \n",
    "EU44_Xmean = np.mean(EU44_concnt[:,:,:,:], axis=3)\n",
    "    \n",
    "del EU44\n",
    "\n",
    "# lagrange: 2.0x2.5\n",
    "LA00_molec  = LA00[:,:,:,:]*0.0\n",
    "LA00_concnt = LA00[:,:,:,:]*0.0\n",
    "\n",
    "for i in range(Nt0):\n",
    "    LA00_molec[i,:,:,:]  = LA00[i,:,:,:]*(GC_AD0[i,:,:,:]*1000.0/28.97)*NA\n",
    "    LA00_concnt[i,:,:,:] = LA00_molec[i,:,:,:]/GC_AREA0[:,:]/1e4 # [molec/cm2]  \n",
    "    \n",
    "LA00_Xmean = np.mean(LA00_concnt[:,:,:,:], axis=3)\n",
    "    \n",
    "del LA00"
   ]
  },
  {
   "cell_type": "code",
   "execution_count": 13,
   "metadata": {},
   "outputs": [
    {
     "data": {
      "text/plain": [
       "array(52.01591)"
      ]
     },
     "execution_count": 13,
     "metadata": {},
     "output_type": "execute_result"
    }
   ],
   "source": [
    "lev = []\n",
    "for i in range(len(Ap)-1):\n",
    "    lev.append( (Ap[i]+Ap[i+1])/2 )\n",
    "    \n",
    "np.array(lev[38])"
   ]
  },
  {
   "cell_type": "code",
   "execution_count": null,
   "metadata": {},
   "outputs": [],
   "source": []
  },
  {
   "cell_type": "code",
   "execution_count": 14,
   "metadata": {},
   "outputs": [
    {
     "ename": "NameError",
     "evalue": "name 'begin' is not defined",
     "output_type": "error",
     "traceback": [
      "\u001b[0;31m---------------------------------------------------------------------------\u001b[0m",
      "\u001b[0;31mNameError\u001b[0m                                 Traceback (most recent call last)",
      "\u001b[0;32m<ipython-input-14-e2c654219fb3>\u001b[0m in \u001b[0;36m<module>\u001b[0;34m\u001b[0m\n\u001b[0;32m----> 1\u001b[0;31m \u001b[0mAp\u001b[0m\u001b[0;34m[\u001b[0m\u001b[0mbegin\u001b[0m\u001b[0;34m:\u001b[0m\u001b[0mend\u001b[0m\u001b[0;34m]\u001b[0m\u001b[0;34m\u001b[0m\u001b[0;34m\u001b[0m\u001b[0m\n\u001b[0m",
      "\u001b[0;31mNameError\u001b[0m: name 'begin' is not defined"
     ]
    }
   ],
   "source": [
    " Ap[begin:end]"
   ]
  },
  {
   "cell_type": "code",
   "execution_count": 15,
   "metadata": {},
   "outputs": [
    {
     "name": "stdout",
     "output_type": "stream",
     "text": [
      "52.01591\n",
      "[-30. -28. -26. -24. -22. -20. -18. -16. -14. -12. -10.  -8.  -6.  -4.\n",
      "  -2.   0.   2.   4.   6.   8.  10.  12.  14.  16.  18.  20.  22.  24.\n",
      "  26.  28.  30.]\n",
      "3.7507572e+31 2.9312353e+31 0.2795824\n"
     ]
    }
   ],
   "source": [
    "k_inject = 38\n",
    "t = 20\n",
    "\n",
    "j1 = 30\n",
    "j2 = 61\n",
    "\n",
    "mass_LA00 = np.sum(LA00_molec[t,k_inject,j1:j2,:])\n",
    "mass_EU33 = np.sum(EU33_molec[t,k_inject,j1:j2,:])\n",
    "    \n",
    "print(lev[k_inject])\n",
    "print(lat0[j1:j2])\n",
    "print(mass_LA00, mass_EU33, (mass_LA00-mass_EU33)/mass_EU33)\n",
    "\n"
   ]
  },
  {
   "cell_type": "code",
   "execution_count": null,
   "metadata": {},
   "outputs": [],
   "source": []
  },
  {
   "cell_type": "code",
   "execution_count": 16,
   "metadata": {},
   "outputs": [
    {
     "data": {
      "text/plain": [
       "<matplotlib.legend.Legend at 0x2aedc2c2afd0>"
      ]
     },
     "execution_count": 16,
     "metadata": {},
     "output_type": "execute_result"
    },
    {
     "data": {
      "image/png": "[encoded data removed]",
      "text/plain": [
       "<Figure size 600x675 with 1 Axes>"
      ]
     },
     "metadata": {
      "needs_background": "light"
     },
     "output_type": "display_data"
    }
   ],
   "source": [
    "t = 20\n",
    "\n",
    "# print(f'Total tracer mass [molec] in the end: ')\n",
    "mass11_vertical = np.sum(EU11_molec[t,:,:,:],axis=(1,2)) /np.sum(GC_AREA0)\n",
    "mass22_vertical = np.sum(EU22_molec[t,:,:,:],axis=(1,2)) /np.sum(GC_AREA1)\n",
    "mass33_vertical = np.sum(EU33_molec[t,:,:,:],axis=(1,2)) /np.sum(GC_AREA2)\n",
    "mass44_vertical = np.sum(EU44_molec[t,:,:,:],axis=(1,2)) /np.sum(GC_AREA3)\n",
    "mass00_vertical = np.sum(LA00_molec[t,:,:,:],axis=(1,2)) /np.sum(GC_AREA4)\n",
    "\n",
    "\n",
    "plt.figure(figsize=(4,4.5), dpi=150)\n",
    "Y = np.arange(0,72,1)\n",
    "\n",
    "begin = 33\n",
    "end = 50\n",
    "\n",
    "# plt.axhline(y=Ap[38], color='k', linestyle='--')\n",
    "\n",
    "plt.plot( mass11_vertical[begin:end], lev[begin:end], 'm--', label='GEOS-Chem 0.5x0.625')\n",
    "plt.plot( mass22_vertical[begin:end], lev[begin:end], 'y--', label='GEOS-Chem 1x1.25')\n",
    "plt.plot( mass33_vertical[begin:end], lev[begin:end], 'b', label='GEOS-Chem 2x2.5')\n",
    "plt.plot( mass44_vertical[begin:end], lev[begin:end], 'c--', label='GEOS-Chem 4x5')\n",
    "plt.plot( mass00_vertical[begin:end], lev[begin:end], 'r', label='PiG model 2x2.5')\n",
    "\n",
    "plt.gca().invert_yaxis()\n",
    "# plt.yscale('log')\n",
    "\n",
    "plt.xlabel('Concentration [$molec \\cdot m^{-2}$]', fontsize=11)\n",
    "plt.ylabel('Pressure [hPa]', fontsize=11)\n",
    "plt.title(f'day={t}')\n",
    "plt.legend()"
   ]
  },
  {
   "cell_type": "code",
   "execution_count": 22,
   "metadata": {},
   "outputs": [
    {
     "data": {
      "text/plain": [
       "[<matplotlib.lines.Line2D at 0x2ac40fbdc0a0>]"
      ]
     },
     "execution_count": 22,
     "metadata": {},
     "output_type": "execute_result"
    },
    {
     "data": {
      "image/png": "[encoded data removed]",
      "text/plain": [
       "<Figure size 432x288 with 1 Axes>"
      ]
     },
     "metadata": {
      "needs_background": "light"
     },
     "output_type": "display_data"
    }
   ],
   "source": [
    "# plt.plot(mass00_vertical[37:40])\n",
    "# plt.plot(mass11_vertical[37:40])\n",
    "# plt.plot(mass22_vertical[37:40])\n",
    "# plt.plot(mass33_vertical[37:40])\n",
    "# plt.plot(mass44_vertical[37:40])\n"
   ]
  },
  {
   "cell_type": "code",
   "execution_count": null,
   "metadata": {},
   "outputs": [],
   "source": []
  }
 ],
 "metadata": {
  "kernelspec": {
   "display_name": "Python [conda env:.conda-SUNenv]",
   "language": "python",
   "name": "conda-env-.conda-SUNenv-py"
  },
  "language_info": {
   "codemirror_mode": {
    "name": "ipython",
    "version": 3
   },
   "file_extension": ".py",
   "mimetype": "text/x-python",
   "name": "python",
   "nbconvert_exporter": "python",
   "pygments_lexer": "ipython3",
   "version": "3.8.5"
  }
 },
 "nbformat": 4,
 "nbformat_minor": 2
}
