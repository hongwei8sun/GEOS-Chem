{
 "cells": [
  {
   "cell_type": "code",
   "execution_count": 1,
   "id": "97e4ef92",
   "metadata": {},
   "outputs": [],
   "source": [
    "import numpy as np\n",
    "import matplotlib.pyplot as plt"
   ]
  },
  {
   "cell_type": "code",
   "execution_count": 25,
   "id": "ceaa91aa",
   "metadata": {},
   "outputs": [],
   "source": [
    "option = 3\n",
    "\n",
    "if option==1: # choose 1000 um as an example from OPAC suso files\n",
    "    M_h2so4 = complex(1.422, 1.530E-06)\n",
    "    R_dry = 6.950E-02 # um\n",
    "\n",
    "    # mix of h2so4 and h2o\n",
    "    M_mix_50 = complex(1.361, 2.405E-06)\n",
    "    M_mix_70 = complex(1.352E+00, 2.537E-06)\n",
    "    M_mix_99 = complex(1.330E+00, 2.853E-06)\n",
    "    R_wet_50 = 9.800E-02\n",
    "    R_wet_70 = 1.090E-01\n",
    "    R_wet_99 = 2.310E-01\n",
    "\n",
    "if option==2: # choose 300 um as an example from OPAC suso files\n",
    "    M_h2so4 = complex(1.422, 1.530E-06)\n",
    "    R_dry = 6.950E-02 # um\n",
    "\n",
    "    # mix of h2so4 and h2o\n",
    "    M_mix_50 = complex(1.392E+00 -1.386E-08)\n",
    "    M_mix_70 = complex(1.380E+00 -1.444E-08)\n",
    "    M_mix_99 = complex(1.352E+00 -1.584E-08)\n",
    "    R_wet_50 = 9.800E-02\n",
    "    R_wet_70 = 1.090E-01\n",
    "    R_wet_99 = 2.310E-01   \n",
    "\n",
    "if option==3: # choose 300 um as an example from h2so4_GC.dat\n",
    "    M_h2so4 = complex(1.4690, 1.000e-08)\n",
    "    R_dry = 0.089 # um\n",
    "\n",
    "    # mix of h2so4 and h2o\n",
    "    M_mix_50 = complex(1.3920, 1.390e-08)\n",
    "    M_mix_70 = complex(1.3800, 1.440e-08)\n",
    "    M_mix_99 = complex(1.3520, 1.580e-08)\n",
    "    R_wet_50 = 0.118\n",
    "    R_wet_70 = 0.129\n",
    "    R_wet_99 = 0.251"
   ]
  },
  {
   "cell_type": "code",
   "execution_count": null,
   "id": "03effe9c",
   "metadata": {},
   "outputs": [],
   "source": []
  },
  {
   "cell_type": "code",
   "execution_count": 26,
   "id": "ee90f624",
   "metadata": {},
   "outputs": [],
   "source": [
    "def get_h2o_M(R_dry, R_wet, M_dry, M_wet):\n",
    "    \n",
    "    M_h2o = (M_wet-M_dry*(R_dry/R_wet)**3) / (1-(R_dry/R_wet)**3)\n",
    "    \n",
    "    return M_h2o"
   ]
  },
  {
   "cell_type": "code",
   "execution_count": 23,
   "id": "a9432471",
   "metadata": {},
   "outputs": [],
   "source": [
    "M_water1 = get_h2o_M(R_dry, R_wet_50, M_h2so4, M_mix_50)\n",
    "M_water2 = get_h2o_M(R_dry, R_wet_70, M_h2so4, M_mix_70)\n",
    "M_water3 = get_h2o_M(R_dry, R_wet_99, M_h2so4, M_mix_99)"
   ]
  },
  {
   "cell_type": "code",
   "execution_count": 24,
   "id": "c9a63bf2",
   "metadata": {},
   "outputs": [
    {
     "name": "stdout",
     "output_type": "stream",
     "text": [
      "(1.3753670406905465-8.482798260168375e-07j)\n",
      "(1.365302692448238-5.354012078524352e-07j)\n",
      "(1.3500401991716275-4.2835290767130575e-08j)\n"
     ]
    }
   ],
   "source": [
    "print(M_water1)\n",
    "print(M_water2)\n",
    "print(M_water3)"
   ]
  },
  {
   "cell_type": "code",
   "execution_count": 27,
   "id": "fe81a7cd",
   "metadata": {},
   "outputs": [
    {
     "name": "stdout",
     "output_type": "stream",
     "text": [
      "(1.3753670406905465-8.482798260168375e-07j)\n",
      "(1.365302692448238-5.354012078524352e-07j)\n",
      "(1.3500401991716275-4.2835290767130575e-08j)\n"
     ]
    }
   ],
   "source": [
    "print(M_water1)\n",
    "print(M_water2)\n",
    "print(M_water3)"
   ]
  },
  {
   "cell_type": "code",
   "execution_count": null,
   "id": "e640bc45",
   "metadata": {},
   "outputs": [],
   "source": []
  },
  {
   "cell_type": "code",
   "execution_count": null,
   "id": "ca30318b",
   "metadata": {},
   "outputs": [],
   "source": []
  }
 ],
 "metadata": {
  "kernelspec": {
   "display_name": "Python [conda env:.conda-SUNenv]",
   "language": "python",
   "name": "conda-env-.conda-SUNenv-py"
  },
  "language_info": {
   "codemirror_mode": {
    "name": "ipython",
    "version": 3
   },
   "file_extension": ".py",
   "mimetype": "text/x-python",
   "name": "python",
   "nbconvert_exporter": "python",
   "pygments_lexer": "ipython3",
   "version": "3.8.5"
  }
 },
 "nbformat": 4,
 "nbformat_minor": 5
}
