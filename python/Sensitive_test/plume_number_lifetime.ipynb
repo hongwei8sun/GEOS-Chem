{
 "cells": [
  {
   "cell_type": "code",
   "execution_count": 1,
   "metadata": {},
   "outputs": [],
   "source": [
    "import numpy as np\n",
    "from numpy import ma\n",
    "import math\n",
    "import scipy\n",
    "import os\n",
    "from IPython.display import Image\n",
    "\n",
    "from netCDF4 import Dataset\n",
    "import pandas as pd\n",
    "\n",
    "from cartopy import config\n",
    "import cartopy.crs as ccrs\n",
    "from cartopy.mpl.ticker import LongitudeFormatter, LatitudeFormatter\n",
    "from cartopy.util import add_cyclic_point\n",
    "\n",
    "import matplotlib.pyplot as plt\n",
    "import matplotlib.colors as colors\n",
    "from matplotlib.cm import get_cmap\n",
    "from matplotlib import ticker\n",
    "\n",
    "# from matplotlib.mlab import bivariate_normal\n",
    "\n",
    "NA = 6.022e+23"
   ]
  },
  {
   "cell_type": "code",
   "execution_count": 6,
   "metadata": {},
   "outputs": [],
   "source": [
    "days = np.arange(1,32,1)\n",
    "\n",
    "FILEDIR1    = '/n/home12/hongwei/HONGWEI/GC_run_13.0/1_plume_in_60deg/gc_2x25_lagrange'\n",
    "df10_life   = pd.read_fwf(FILEDIR1+'/Plume_lifetime_seconds.txt', header=None)\n",
    "df10_number = pd.read_fwf(FILEDIR1+'/Plume_number.txt', header=None)\n",
    "\n",
    "Num1_plume = df10_number.loc[:,3]\n",
    "Num1_2D = df10_number.loc[:,1]\n",
    "Num1_1D = df10_number.loc[:,0]\n",
    "Num1_dissolved = df10_number.loc[:,2]\n",
    "lifetime1 = df10_life.loc[:,1]/(3600*24)\n",
    "\n",
    "\n",
    "# FILEDIR2    = '/n/home12/hongwei/HONGWEI/GC_run_13.0/1_plume_in_60deg/gc_2x25_eulerian'\n",
    "# df20_life   = pd.read_fwf(FILEDIR2+'/Plume_lifetime_seconds.txt', header=None)\n",
    "# df20_number = pd.read_fwf(FILEDIR2+'/Plume_number.txt', header=None)\n",
    "\n",
    "# Num2_plume = df20_number.loc[:,3]\n",
    "# Num2_2D = df20_number.loc[:,1]\n",
    "# Num2_1D = df20_number.loc[:,0]\n",
    "# Num2_dissolved = df20_number.loc[:,2]\n",
    "# lifetime2 = df20_life.loc[:,1]/(3600*24)"
   ]
  },
  {
   "cell_type": "code",
   "execution_count": 3,
   "metadata": {},
   "outputs": [
    {
     "data": {
      "text/html": [
       "<div>\n",
       "<style scoped>\n",
       "    .dataframe tbody tr th:only-of-type {\n",
       "        vertical-align: middle;\n",
       "    }\n",
       "\n",
       "    .dataframe tbody tr th {\n",
       "        vertical-align: top;\n",
       "    }\n",
       "\n",
       "    .dataframe thead th {\n",
       "        text-align: right;\n",
       "    }\n",
       "</style>\n",
       "<table border=\"1\" class=\"dataframe\">\n",
       "  <thead>\n",
       "    <tr style=\"text-align: right;\">\n",
       "      <th></th>\n",
       "      <th>0</th>\n",
       "      <th>1</th>\n",
       "      <th>2</th>\n",
       "      <th>3</th>\n",
       "    </tr>\n",
       "  </thead>\n",
       "  <tbody>\n",
       "    <tr>\n",
       "      <th>0</th>\n",
       "      <td>0</td>\n",
       "      <td>67</td>\n",
       "      <td>0</td>\n",
       "      <td>67</td>\n",
       "    </tr>\n",
       "    <tr>\n",
       "      <th>1</th>\n",
       "      <td>3185</td>\n",
       "      <td>0</td>\n",
       "      <td>28</td>\n",
       "      <td>3213</td>\n",
       "    </tr>\n",
       "    <tr>\n",
       "      <th>2</th>\n",
       "      <td>3235</td>\n",
       "      <td>0</td>\n",
       "      <td>504</td>\n",
       "      <td>3739</td>\n",
       "    </tr>\n",
       "    <tr>\n",
       "      <th>3</th>\n",
       "      <td>3059</td>\n",
       "      <td>0</td>\n",
       "      <td>1162</td>\n",
       "      <td>4221</td>\n",
       "    </tr>\n",
       "    <tr>\n",
       "      <th>4</th>\n",
       "      <td>3120</td>\n",
       "      <td>0</td>\n",
       "      <td>1783</td>\n",
       "      <td>4903</td>\n",
       "    </tr>\n",
       "  </tbody>\n",
       "</table>\n",
       "</div>"
      ],
      "text/plain": [
       "      0   1     2     3\n",
       "0     0  67     0    67\n",
       "1  3185   0    28  3213\n",
       "2  3235   0   504  3739\n",
       "3  3059   0  1162  4221\n",
       "4  3120   0  1783  4903"
      ]
     },
     "execution_count": 3,
     "metadata": {},
     "output_type": "execute_result"
    }
   ],
   "source": [
    "df10_number.head()"
   ]
  },
  {
   "cell_type": "code",
   "execution_count": null,
   "metadata": {},
   "outputs": [],
   "source": []
  },
  {
   "cell_type": "code",
   "execution_count": null,
   "metadata": {},
   "outputs": [],
   "source": []
  },
  {
   "cell_type": "code",
   "execution_count": 7,
   "metadata": {},
   "outputs": [
    {
     "data": {
      "text/plain": [
       "Text(0.5, 0, 'day')"
      ]
     },
     "execution_count": 7,
     "metadata": {},
     "output_type": "execute_result"
    },
    {
     "data": {
      "image/png": "[encoded data removed]",
      "text/plain": [
       "<Figure size 1008x576 with 1 Axes>"
      ]
     },
     "metadata": {
      "needs_background": "light"
     },
     "output_type": "display_data"
    }
   ],
   "source": [
    "fig = plt.figure(figsize=(14,8));\n",
    "#     gs = fig.add_gridspec(15, 8)\n",
    "\n",
    "ax1 = plt.subplot(2,2,1);\n",
    "ax1.plot(Num1_plume, 'k', label='Total injected plume')\n",
    "ax1.plot(Num1_1D, 'r', label='active 1D plume')\n",
    "ax1.plot(Num1_2D, 'b', label='active 2D plume')\n",
    "ax1.plot(Num1_dissolved, 'c', label='dissolved plume')\n",
    "ax1.legend()\n",
    "ax1.set_title('Split to 1')\n",
    "\n",
    "# ax2 = plt.subplot(2,2,2);\n",
    "# ax2.plot(Num2_plume, 'k', label='Total injected plume')\n",
    "# ax2.plot(Num2_1D, 'r', label='active 1D plume')\n",
    "# ax2.plot(Num2_2D, 'b', label='active 2D plume')\n",
    "# ax2.plot(Num2_dissolved, 'c', label='dissolved plume')\n",
    "# ax2.legend()\n",
    "# ax2.set_title('Split to 3')\n",
    "\n",
    "\n",
    "# plt.title('(a) Number of plumes in different types')\n",
    "plt.xlabel('day')\n",
    "# plt.ylabel('number')\n",
    "\n"
   ]
  },
  {
   "cell_type": "code",
   "execution_count": 8,
   "metadata": {},
   "outputs": [
    {
     "ename": "NameError",
     "evalue": "name 'Num4_plume' is not defined",
     "output_type": "error",
     "traceback": [
      "\u001b[0;31m---------------------------------------------------------------------------\u001b[0m",
      "\u001b[0;31mNameError\u001b[0m                                 Traceback (most recent call last)",
      "\u001b[0;32m<ipython-input-8-ef2765305ef6>\u001b[0m in \u001b[0;36m<module>\u001b[0;34m\u001b[0m\n\u001b[0;32m----> 1\u001b[0;31m \u001b[0mcompare\u001b[0m \u001b[0;34m=\u001b[0m \u001b[0mNum4_plume\u001b[0m\u001b[0;34m==\u001b[0m\u001b[0mNum3_plume\u001b[0m\u001b[0;34m\u001b[0m\u001b[0;34m\u001b[0m\u001b[0m\n\u001b[0m\u001b[1;32m      2\u001b[0m \u001b[0mcompare\u001b[0m\u001b[0;34m\u001b[0m\u001b[0;34m\u001b[0m\u001b[0m\n",
      "\u001b[0;31mNameError\u001b[0m: name 'Num4_plume' is not defined"
     ]
    }
   ],
   "source": [
    "compare = Num4_plume==Num3_plume\n",
    "compare"
   ]
  },
  {
   "cell_type": "code",
   "execution_count": 11,
   "metadata": {},
   "outputs": [
    {
     "data": {
      "image/png": "[encoded data removed]",
      "text/plain": [
       "<Figure size 1008x576 with 1 Axes>"
      ]
     },
     "metadata": {
      "needs_background": "light"
     },
     "output_type": "display_data"
    }
   ],
   "source": [
    "fig = plt.figure(figsize=(14,8));\n",
    "#     gs = fig.add_gridspec(15, 8)\n",
    "\n",
    "max_num = 1000\n",
    "\n",
    "ax1 = plt.subplot(2,2,1);\n",
    "ax1.hist(lifetime1, bins=30, label='Split to 1')\n",
    "ax1.set_ylim(0,max_num)\n",
    "ax1.legend()\n",
    "\n",
    "\n",
    "# ax2 = plt.subplot(2,2,2);\n",
    "# ax2.hist(lifetime2, bins=30, label='Split to 3')\n",
    "# ax2.set_ylim(0,max_num)\n",
    "# ax2.legend()\n",
    "\n",
    "\n",
    "plt.xlabel('lifetime [day]');\n",
    "plt.ylabel('plume number');\n",
    "plt.title('(b) The distribution of plume lifetime in plume model');"
   ]
  },
  {
   "cell_type": "code",
   "execution_count": null,
   "metadata": {},
   "outputs": [],
   "source": []
  }
 ],
 "metadata": {
  "kernelspec": {
   "display_name": "Python [conda env:.conda-SUNenv]",
   "language": "python",
   "name": "conda-env-.conda-SUNenv-py"
  },
  "language_info": {
   "codemirror_mode": {
    "name": "ipython",
    "version": 3
   },
   "file_extension": ".py",
   "mimetype": "text/x-python",
   "name": "python",
   "nbconvert_exporter": "python",
   "pygments_lexer": "ipython3",
   "version": "3.8.5"
  }
 },
 "nbformat": 4,
 "nbformat_minor": 2
}
