{
 "cells": [
  {
   "cell_type": "code",
   "execution_count": 51,
   "metadata": {},
   "outputs": [],
   "source": [
    "import numpy as np\n",
    "from numpy import ma\n",
    "import math\n",
    "import scipy\n",
    "import scipy.constants as constants\n",
    "import os\n",
    "from IPython.display import Image\n",
    "\n",
    "from netCDF4 import Dataset\n",
    "      \n",
    "from cartopy import config\n",
    "import cartopy.crs as ccrs\n",
    "from cartopy.mpl.ticker import LongitudeFormatter, LatitudeFormatter\n",
    "\n",
    "import matplotlib.pyplot as plt\n",
    "import matplotlib.colors as colors\n",
    "from matplotlib.cm import get_cmap\n",
    "from matplotlib import ticker\n",
    "\n",
    "# from tqdm.notebook import tqdm,trange\n",
    "# from matplotlib.mlab import bivariate_normal\n",
    "\n",
    "NA = 6.022e+23"
   ]
  },
  {
   "cell_type": "code",
   "execution_count": 52,
   "metadata": {},
   "outputs": [
    {
     "data": {
      "text/plain": [
       "(58, 72, 91, 144)"
      ]
     },
     "execution_count": 52,
     "metadata": {},
     "output_type": "execute_result"
    }
   ],
   "source": [
    "# split number is 3\n",
    "\n",
    "FILEDIR1 = '/n/home12/hongwei/HONGWEI/GC_run_13.0/1_plume_in_60deg/Splitting_number/gc_2x25_lagrange_N3'\n",
    "NcFile1   = Dataset(FILEDIR1+'/OutputDir/GEOSChem.SpeciesConc.201501_02.nc4','r',format='NETCDF4_CLASSIC')\n",
    "\n",
    "lat1             = NcFile1.variables['lat'][:]\n",
    "lon1             = NcFile1.variables['lon'][:]\n",
    "LA1              = NcFile1.variables['SpeciesConc_PASV_LA']\n",
    "LA11             = NcFile1.variables['SpeciesConc_PASV_LA3'][:,:,:,:]\n",
    "LA1 = LA1 + LA11\n",
    "\n",
    "GC_AREA1 = NcFile1.variables['AREA'][:,:];\n",
    "\n",
    "\n",
    "# split number is 5\n",
    "\n",
    "FILEDIR2 = '/n/home12/hongwei/HONGWEI/GC_run_13.0/1_plume_in_60deg/Splitting_number/gc_2x25_lagrange_N5'\n",
    "NcFile2   = Dataset(FILEDIR2+'/OutputDir/GEOSChem.SpeciesConc.201501_02.nc4','r',format='NETCDF4_CLASSIC')\n",
    "\n",
    "lat2             = NcFile2.variables['lat'][:]\n",
    "lon2             = NcFile2.variables['lon'][:]\n",
    "LA2              = NcFile2.variables['SpeciesConc_PASV_LA']\n",
    "LA22            = NcFile2.variables['SpeciesConc_PASV_LA3'][:,:,:,:]\n",
    "LA2 = LA2 + LA22\n",
    "\n",
    "GC_AREA2 = NcFile2.variables['AREA'][:,:];\n",
    "\n",
    "\n",
    "# split number is 7\n",
    "FILEDIR3 = '/n/home12/hongwei/HONGWEI/GC_run_13.0/1_plume_in_60deg/Splitting_number/gc_2x25_lagrange_N7'\n",
    "NcFile3   = Dataset(FILEDIR3+'/OutputDir/GEOSChem.SpeciesConc.201501_02.nc4','r',format='NETCDF4_CLASSIC')\n",
    "\n",
    "lat3             = NcFile3.variables['lat'][:]\n",
    "lon3             = NcFile3.variables['lon'][:]\n",
    "LA3              = NcFile3.variables['SpeciesConc_PASV_LA']\n",
    "LA33             = NcFile3.variables['SpeciesConc_PASV_LA3'][:,:,:,:]\n",
    "LA3 = LA3 + LA33\n",
    "\n",
    "GC_AREA3 = NcFile3.variables['AREA'][:,:];\n",
    "\n",
    "\n",
    "\n",
    "LA1.shape"
   ]
  },
  {
   "cell_type": "code",
   "execution_count": 53,
   "metadata": {},
   "outputs": [],
   "source": [
    "del NcFile1, NcFile2, NcFile3"
   ]
  },
  {
   "cell_type": "code",
   "execution_count": 54,
   "metadata": {},
   "outputs": [],
   "source": [
    "#------------------------------------------------\n",
    "# total air mass in each grid  ------------------\n",
    "#------------------------------------------------\n",
    "            \n",
    "\n",
    "# 2x2.5         \n",
    "AD_file1 = open(FILEDIR1+'/State_Met_AD.txt','r')\n",
    "\n",
    "GC_AD1 = LA1[0,:,:,:]*0.0\n",
    "\n",
    "Nx = len(LA1[0,0,0,:])\n",
    "Ny = len(LA1[0,0,:,0])\n",
    "Nz = len(LA1[0,:,0,0])\n",
    "Nt = len(LA1[:,0,0,0])\n",
    "\n",
    "for ix in range(Nx):\n",
    "    for iy in range(Ny):\n",
    "        for iz in range(Nz):\n",
    "            line = AD_file1.readline()\n",
    "            GC_AD1[iz,iy,ix] = float(line)\n",
    "            \n"
   ]
  },
  {
   "cell_type": "code",
   "execution_count": 55,
   "metadata": {},
   "outputs": [],
   "source": [
    "del AD_file1\n"
   ]
  },
  {
   "cell_type": "code",
   "execution_count": 56,
   "metadata": {},
   "outputs": [],
   "source": [
    "# # 3-D entropy\n",
    "\n",
    "# k = constants.k\n",
    "# print(f'Boltzmann constant={k}')\n",
    "\n",
    "# # change total air mass from kg to mol\n",
    "\n",
    "# AD1_mol = GC_AD1[:,:,:]*1000.0/28.97\n",
    "# AD2_mol = GC_AD2[:,:,:]*1000.0/28.97\n",
    "\n",
    "# # entropy\n",
    "\n",
    "# Entropy3d_EU1, Entropy3d_LA1, Entropy3d_EU2, Entropy3d_LA2 = [], [], [], []\n",
    "\n",
    "# for it in range(Nt1):\n",
    "#     S_EU1 = -k*np.sum( GC_AD1[:,:,:]*EU1[it,:,:,:]* np.log(EU1[it,:,:,:], out=np.zeros_like(EU1[it,:,:,:]), \\\n",
    "#                                                            where=(EU1[it,:,:,:]!=0)), axis=(0,1,2) )\n",
    "#     S_LA1 = -k*np.sum( GC_AD1[:,:,:]*LA1[it,:,:,:]* np.log(LA1[it,:,:,:], out=np.zeros_like(LA1[it,:,:,:]), \\\n",
    "#                                                            where=(LA1[it,:,:,:]!=0)), axis=(0,1,2) )\n",
    "\n",
    "#     S_EU2 = -k*np.sum( GC_AD2[:,:,:]*EU2[it,:,:,:]* np.log(EU2[it,:,:,:], out=np.zeros_like(EU2[it,:,:,:]), \\\n",
    "#                                                            where=(EU2[it,:,:,:]!=0)), axis=(0,1,2) )\n",
    "#     S_LA2 = -k*np.sum( GC_AD2[:,:,:]*LA2[it,:,:,:]* np.log(LA2[it,:,:,:], out=np.zeros_like(LA2[it,:,:,:]), \\\n",
    "#                                                            where=(LA2[it,:,:,:]!=0)), axis=(0,1,2) )\n",
    "    \n",
    "#     Entropy3d_EU1.append(S_EU1)\n",
    "#     Entropy3d_LA1.append(S_LA1)\n",
    "#     Entropy3d_EU2.append(S_EU2)    \n",
    "#     Entropy3d_LA2.append(S_LA2)\n",
    "    \n",
    "# # print(Entropy3d_EU1, Entropy3d_LA1)\n",
    "# # print(Entropy3d_EU2, Entropy3d_LA2)\n",
    "\n"
   ]
  },
  {
   "cell_type": "code",
   "execution_count": 57,
   "metadata": {},
   "outputs": [],
   "source": [
    "# # Plot CFD curve: mass vs. area\n",
    "# plt.figure(figsize=(10,7), dpi= 80)\n",
    "\n",
    "# plt.plot(Entropy3d_LA1,'b',label=f'Lagrange 2*2.5')\n",
    "# plt.plot(Entropy3d_LA2,'b--',label=f'Lagrange 4*5')\n",
    "\n",
    "# plt.plot(Entropy3d_EU1,'r',label=f'Euler 2*2.5')\n",
    "# plt.plot(Entropy3d_EU2,'r--',label=f'Euler 4*5')\n",
    "\n",
    "\n",
    "# #plt.legend(loc='upper left')\n",
    "# plt.title(' Entropy3d')\n",
    "# plt.xlabel(' day ')\n",
    "# plt.ylabel(' Entropy ')\n",
    "# plt.legend()\n",
    "\n",
    "# plt.savefig('Entropy_time_series.png')\n",
    "# plt.clf();\n",
    "# plt.cla();\n",
    "# plt.close();\n",
    "\n",
    "# Image('Entropy_time_series.png') "
   ]
  },
  {
   "cell_type": "code",
   "execution_count": null,
   "metadata": {},
   "outputs": [],
   "source": []
  },
  {
   "cell_type": "code",
   "execution_count": 58,
   "metadata": {},
   "outputs": [],
   "source": [
    "# # 2-D entropy corresponding to the below contour figure\n",
    "\n",
    "# k = constants.k\n",
    "# print(f'Boltzmann constant={k}')\n",
    "\n",
    "# # change total air mass from kg to mol:\n",
    "# AD1_mol = GC_AD1[:,:,:]*1000.0/28.97\n",
    "# AD2_mol = GC_AD2[:,:,:]*1000.0/28.97\n",
    "\n",
    "\n",
    "# Entropy2d_EU1, Entropy2d_LA1, Entropy2d_EU2, Entropy2d_LA2 = [], [], [], []\n",
    "\n",
    "\n",
    "# AD1_mol_Zsum = np.sum(AD1_mol, axis=0)\n",
    "# AD2_mol_Zsum = np.sum(AD2_mol, axis=0)\n",
    "\n",
    "# for it in range(Nt1):\n",
    "#     # change 3D mixing ratio to 2D:\n",
    "#     EU1_mol_Zsum = np.sum( EU1[it,:,:,:]*AD1_mol[:,:,:], axis=0)\n",
    "#     LA1_mol_Zsum = np.sum( LA1[it,:,:,:]*AD1_mol[:,:,:], axis=0)\n",
    "\n",
    "#     EU2_mol_Zsum = np.sum( EU2[it,:,:,:]*AD2_mol[:,:,:], axis=0)\n",
    "#     LA2_mol_Zsum = np.sum( LA2[it,:,:,:]*AD2_mol[:,:,:], axis=0)\n",
    "\n",
    "#     # calculate 2D mixing ratio:\n",
    "#     EU1_MR = EU1_mol_Zsum/AD1_mol_Zsum\n",
    "#     LA1_MR = LA1_mol_Zsum/AD1_mol_Zsum\n",
    "\n",
    "#     EU2_MR = EU2_mol_Zsum/AD2_mol_Zsum\n",
    "#     LA2_MR = LA2_mol_Zsum/AD2_mol_Zsum\n",
    "\n",
    "#     # entropy\n",
    "#     S2_EU1 = -k*np.sum( AD1_mol_Zsum[:,:]*EU1_MR[:,:]* np.log(EU1_MR[:,:], out=np.zeros_like(EU1_MR[:,:]), \\\n",
    "#                                                               where=(EU1_MR[:,:]!=0)), axis=(0,1) )\n",
    "#     S2_LA1 = -k*np.sum( AD1_mol_Zsum[:,:]*LA1_MR[:,:]* np.log(LA1_MR[:,:], out=np.zeros_like(LA1_MR[:,:]), \\\n",
    "#                                                               where=(LA1_MR[:,:]!=0)), axis=(0,1) )\n",
    "\n",
    "#     S2_EU2 = -k*np.sum( AD2_mol_Zsum[:,:]*EU2_MR[:,:]* np.log(EU2_MR[:,:], out=np.zeros_like(EU2_MR[:,:]), \\\n",
    "#                                                           where=(EU2_MR[:,:]!=0)), axis=(0,1) )\n",
    "#     S2_LA2 = -k*np.sum( AD2_mol_Zsum[:,:]*LA2_MR[:,:]* np.log(LA2_MR[:,:], out=np.zeros_like(LA2_MR[:,:]), \\\n",
    "#                                                           where=(LA2_MR[:,:]!=0)), axis=(0,1) )\n",
    "\n",
    "#     Entropy2d_EU1.append(S2_EU1)\n",
    "#     Entropy2d_LA1.append(S2_LA1)\n",
    "#     Entropy2d_EU2.append(S2_EU2)    \n",
    "#     Entropy2d_LA2.append(S2_LA2)\n",
    "\n",
    "# # print(Entropy2d_EU1, Entropy2d_LA1)\n",
    "# # print(Entropy2d_EU2, Entropy2d_LA2)\n"
   ]
  },
  {
   "cell_type": "code",
   "execution_count": 59,
   "metadata": {},
   "outputs": [],
   "source": [
    "# # Plot CFD curve: mass vs. area\n",
    "# plt.figure(figsize=(10,7), dpi= 80)\n",
    "\n",
    "# plt.plot(Entropy2d_LA1,'b',label=f'Lagrange 2*2.5')\n",
    "# plt.plot(Entropy2d_LA2,'b--',label=f'Lagrange 4*5')\n",
    "\n",
    "# plt.plot(Entropy2d_EU1,'r',label=f'Euler 2*2.5')\n",
    "# plt.plot(Entropy2d_EU2,'r--',label=f'Euler 4*5')\n",
    "\n",
    "\n",
    "# #plt.legend(loc='upper left')\n",
    "# plt.title(' Entropy2d')\n",
    "# plt.xlabel(' day ')\n",
    "# plt.ylabel(' Entropy ')\n",
    "# plt.legend()\n",
    "\n",
    "# plt.savefig('Entropy_time_series.png')\n",
    "# plt.clf();\n",
    "# plt.cla();\n",
    "# plt.close();\n",
    "\n",
    "# Image('Entropy_time_series.png') "
   ]
  },
  {
   "cell_type": "code",
   "execution_count": null,
   "metadata": {},
   "outputs": [],
   "source": []
  },
  {
   "cell_type": "code",
   "execution_count": 60,
   "metadata": {},
   "outputs": [],
   "source": [
    "# for Gini and cumulative distribution function (CDF)"
   ]
  },
  {
   "cell_type": "code",
   "execution_count": 61,
   "metadata": {},
   "outputs": [
    {
     "name": "stdout",
     "output_type": "stream",
     "text": [
      "1.108042e+30\n",
      "1.09579235e+30\n",
      "1.10677015e+30\n"
     ]
    }
   ],
   "source": [
    "### change unit, do average \n",
    "\n",
    "# N3\n",
    "LA1_molec = LA1[:,:,:,:]*0.0\n",
    "for i in range(Nt):\n",
    "    LA1_molec[i,:,:,:] = LA1[i,:,:,:]*(GC_AD1[:,:,:]*1000.0/28.97)*NA\n",
    "\n",
    "LA1_Zsum = np.sum(LA1_molec[:,:,:,:], axis=1)\n",
    "for i in range(Nt):\n",
    "    LA1_Zsum[i,:,:]   = LA1_Zsum[i,:,:]/GC_AREA1[:,:]/1e4\n",
    "    \n",
    "print( np.sum(LA1_molec[Nt-1,:,:,:]) )\n",
    "\n",
    "\n",
    "# N5\n",
    "LA2_molec = LA2[:,:,:,:]*0.0\n",
    "for i in range(Nt):\n",
    "    LA2_molec[i,:,:,:] = LA2[i,:,:,:]*(GC_AD1[:,:,:]*1000.0/28.97)*NA\n",
    "\n",
    "LA2_Zsum = np.sum(LA2_molec[:,:,:,:], axis=1)\n",
    "for i in range(Nt):\n",
    "    LA2_Zsum[i,:,:]   = LA2_Zsum[i,:,:]/GC_AREA2[:,:]/1e4\n",
    "    \n",
    "print( np.sum(LA2_molec[Nt-1,:,:,:]) )\n",
    "\n",
    "\n",
    "# N7\n",
    "LA3_molec = LA3[:,:,:,:]*0.0\n",
    "for i in range(Nt):\n",
    "    LA3_molec[i,:,:,:] = LA3[i,:,:,:]*(GC_AD1[:,:,:]*1000.0/28.97)*NA\n",
    "\n",
    "LA3_Zsum = np.sum(LA3_molec[:,:,:,:], axis=1)\n",
    "for i in range(Nt):\n",
    "    LA3_Zsum[i,:,:]   = LA3_Zsum[i,:,:]/GC_AREA3[:,:]/1e4\n",
    "    \n",
    "print( np.sum(LA3_molec[Nt-1,:,:,:]) )"
   ]
  },
  {
   "cell_type": "code",
   "execution_count": 62,
   "metadata": {},
   "outputs": [],
   "source": [
    "# delete original variable to save memory\n",
    "del LA1, LA2, LA3"
   ]
  },
  {
   "cell_type": "code",
   "execution_count": 63,
   "metadata": {},
   "outputs": [],
   "source": [
    "\n",
    "LA1_area_cumsum_frac_time = []\n",
    "LA2_area_cumsum_frac_time = []\n",
    "LA3_area_cumsum_frac_time = []\n",
    "\n",
    "LA1_mass_cumsum_frac_time = []\n",
    "LA2_mass_cumsum_frac_time = []\n",
    "LA3_mass_cumsum_frac_time = []\n",
    "\n",
    "for it in range(Nt):\n",
    "    # concentration\n",
    "    LA1_Zsum_1D = LA1_Zsum[it,:,:].reshape(Nx*Ny)\n",
    "    LA2_Zsum_1D = LA2_Zsum[it,:,:].reshape(Nx*Ny)\n",
    "    LA3_Zsum_1D = LA3_Zsum[it,:,:].reshape(Nx*Ny)\n",
    "\n",
    "    # grid cell area\n",
    "    GC_AREA1_1D = GC_AREA1.reshape(Nx*Ny)\n",
    "    GC_AREA2_1D = GC_AREA2.reshape(Nx*Ny)\n",
    "    GC_AREA3_1D = GC_AREA3.reshape(Nx*Ny)\n",
    "\n",
    "    # grid cell mass for injected tracer\n",
    "    LA1_molec_Zsum = np.sum(LA1_molec[it,:,:,:], axis=0)\n",
    "    LA2_molec_Zsum = np.sum(LA2_molec[it,:,:,:], axis=0)\n",
    "    LA3_molec_Zsum = np.sum(LA3_molec[it,:,:,:], axis=0)\n",
    "   \n",
    "    LA1_molec_Zsum_1D = LA1_molec_Zsum.reshape(Nx*Ny)\n",
    "    LA2_molec_Zsum_1D = LA2_molec_Zsum.reshape(Nx*Ny)\n",
    "    LA3_molec_Zsum_1D = LA3_molec_Zsum.reshape(Nx*Ny)\n",
    "\n",
    "\n",
    "    # get index for sorted concentration\n",
    "    \n",
    "    LA1_index = LA1_Zsum_1D.argsort()\n",
    "    LA1_area_sorted = GC_AREA1_1D[LA1_index]\n",
    "    LA1_mass_sorted = LA1_molec_Zsum_1D[LA1_index]\n",
    "    \n",
    "    LA2_index = LA2_Zsum_1D.argsort()\n",
    "    LA2_area_sorted = GC_AREA2_1D[LA2_index]\n",
    "    LA2_mass_sorted = LA2_molec_Zsum_1D[LA2_index]\n",
    "    \n",
    "    LA3_index = LA3_Zsum_1D.argsort()\n",
    "    LA3_area_sorted = GC_AREA3_1D[LA3_index]\n",
    "    LA3_mass_sorted = LA3_molec_Zsum_1D[LA3_index]\n",
    "    \n",
    "    # cumulative sum  \n",
    "    LA1_area_cumsum = np.cumsum(LA1_area_sorted)\n",
    "    LA1_mass_cumsum = np.cumsum(LA1_mass_sorted)\n",
    "    \n",
    "    LA2_area_cumsum = np.cumsum(LA2_area_sorted)\n",
    "    LA2_mass_cumsum = np.cumsum(LA2_mass_sorted)\n",
    "    \n",
    "    LA3_area_cumsum = np.cumsum(LA3_area_sorted)\n",
    "    LA3_mass_cumsum = np.cumsum(LA3_mass_sorted)\n",
    "\n",
    "    # calculate fraction\n",
    "    \n",
    "    length1 = len(LA1_area_cumsum)\n",
    "    LA1_area_cumsum_frac = LA1_area_cumsum/LA1_area_cumsum[length1-1]\n",
    "    LA1_mass_cumsum_frac = LA1_mass_cumsum/LA1_mass_cumsum[length1-1]\n",
    "\n",
    "    length2 = len(LA2_area_cumsum)\n",
    "    LA2_area_cumsum_frac = LA2_area_cumsum/LA2_area_cumsum[length2-1]\n",
    "    LA2_mass_cumsum_frac = LA2_mass_cumsum/LA2_mass_cumsum[length2-1]\n",
    "\n",
    "    length3 = len(LA3_area_cumsum)\n",
    "    LA3_area_cumsum_frac = LA3_area_cumsum/LA3_area_cumsum[length3-1]\n",
    "    LA3_mass_cumsum_frac = LA3_mass_cumsum/LA3_mass_cumsum[length3-1]\n",
    "    \n",
    "    #\n",
    "    LA1_area_cumsum_frac_time.append(LA1_area_cumsum_frac)\n",
    "    LA1_mass_cumsum_frac_time.append(LA1_mass_cumsum_frac)\n",
    "    \n",
    "    LA2_area_cumsum_frac_time.append(LA2_area_cumsum_frac)\n",
    "    LA2_mass_cumsum_frac_time.append(LA2_mass_cumsum_frac)\n",
    "    \n",
    "    LA3_area_cumsum_frac_time.append(LA3_area_cumsum_frac)\n",
    "    LA3_mass_cumsum_frac_time.append(LA3_mass_cumsum_frac)"
   ]
  },
  {
   "cell_type": "code",
   "execution_count": 64,
   "metadata": {},
   "outputs": [
    {
     "name": "stdout",
     "output_type": "stream",
     "text": [
      "[2.5199007723131217e-05 5.0398015446262434e-05 7.559702498838305e-05 ...\n",
      " 0.9997859597206116 0.9998929500579834 1.0]\n",
      "[2.6186981472164916e-07 5.256400186226529e-07 7.900278546912887e-07 ...\n",
      " 0.9994943141937256 0.9997467994689941 1.0]\n"
     ]
    }
   ],
   "source": [
    "# del LA1_molec, LA2_molec, LA3_molec\n",
    "# del LA1_molec_Zsum, LA2_molec_Zsum, LA3_molec_Zsum\n",
    "\n",
    "print(LA1_area_cumsum_frac)\n",
    "print(LA2_mass_cumsum_frac)\n"
   ]
  },
  {
   "cell_type": "code",
   "execution_count": 65,
   "metadata": {},
   "outputs": [
    {
     "data": {
      "text/plain": [
       "(13104, 13104)"
      ]
     },
     "execution_count": 65,
     "metadata": {},
     "output_type": "execute_result"
    }
   ],
   "source": [
    "len(LA1_area_cumsum_frac),len(LA2_area_cumsum_frac)"
   ]
  },
  {
   "cell_type": "code",
   "execution_count": 66,
   "metadata": {},
   "outputs": [
    {
     "name": "stdout",
     "output_type": "stream",
     "text": [
      "0.5\n",
      "Gini_La_Eu\n",
      "0.3246847987174988\n",
      "0.32646870613098145\n"
     ]
    }
   ],
   "source": [
    "# calculate Gini coefficient\n",
    "\n",
    "Gini_La1_time, Gini_La2_time, Gini_La3_time = [], [], []\n",
    "\n",
    "for it in range(Nt):\n",
    "    diag = np.linspace(0,1,100)\n",
    "    Al = np.trapz(diag, diag)\n",
    "\n",
    "    LA1 = np.trapz(LA1_mass_cumsum_frac_time[it], LA1_area_cumsum_frac_time[it])\n",
    "    LA2 = np.trapz(LA2_mass_cumsum_frac_time[it], LA2_area_cumsum_frac_time[it])\n",
    "    LA3 = np.trapz(LA3_mass_cumsum_frac_time[it], LA3_area_cumsum_frac_time[it])\n",
    "    \n",
    "    Gini_La1 = (Al-LA1)/Al\n",
    "    Gini_La2 = (Al-LA2)/Al\n",
    "    Gini_La3 = (Al-LA3)/Al\n",
    "    \n",
    "#     print(Gini_Eu3,Gini_La0)\n",
    "    \n",
    "    Gini_La1_time.append(Gini_La1)\n",
    "    Gini_La2_time.append(Gini_La2)\n",
    "    Gini_La3_time.append(Gini_La3)\n",
    "    \n",
    "print(Al)\n",
    "print('Gini_La_Eu')\n",
    "print(Gini_La1)\n",
    "print(Gini_La2)\n"
   ]
  },
  {
   "cell_type": "code",
   "execution_count": null,
   "metadata": {},
   "outputs": [],
   "source": []
  },
  {
   "cell_type": "code",
   "execution_count": 67,
   "metadata": {},
   "outputs": [
    {
     "data": {
      "image/png": "[encoded data removed]",
      "text/plain": [
       "<IPython.core.display.Image object>"
      ]
     },
     "execution_count": 67,
     "metadata": {},
     "output_type": "execute_result"
    }
   ],
   "source": [
    "# Plot CFD curve: mass vs. area in the END of the simulation\n",
    "plt.figure(figsize=(10,7), dpi= 80)\n",
    "\n",
    "plt.plot(LA1_area_cumsum_frac_time[-1],LA1_mass_cumsum_frac_time[-1],'r',label=f'Lagrange 2*2.5 (Gini={Gini_La1:.3f})')\n",
    "plt.plot(LA2_area_cumsum_frac_time[-1],LA2_mass_cumsum_frac_time[-1],'r',label=f'Lagrange 2*2.5 (Gini={Gini_La2:.3f})')\n",
    "plt.plot(LA3_area_cumsum_frac_time[-1],LA3_mass_cumsum_frac_time[-1],'r',label=f'Lagrange 2*2.5 (Gini={Gini_La3:.3f})')\n",
    "\n",
    "\n",
    "diag = np.linspace(0,1,100)\n",
    "plt.plot(diag,diag,'k.')\n",
    "\n",
    "\n",
    "#plt.legend(loc='upper left')\n",
    "plt.title(' Cumulative Fraction from Lower to Higher Concentration')\n",
    "plt.xlabel(' Cumulate Area Fraction ')\n",
    "plt.ylabel(' Cumulate Mass Fraction ')\n",
    "plt.legend()\n",
    "\n",
    "plt.savefig('CDF_Area_Mass.png')\n",
    "plt.clf();\n",
    "plt.cla();\n",
    "plt.close();\n",
    "\n",
    "Image('CDF_Area_Mass.png') "
   ]
  },
  {
   "cell_type": "code",
   "execution_count": 68,
   "metadata": {},
   "outputs": [],
   "source": [
    "# Plot Gini coefficient at different time:\n",
    "\n",
    "plt.figure(figsize=(12,6), dpi= 100)\n",
    "\n",
    "plt.plot(Gini_La1_time,'r-',label=f'N3 (Gini={Gini_La1:.3f})')\n",
    "plt.plot(Gini_La2_time,'k--',label=f'N5 (Gini={Gini_La2:.3f})')\n",
    "plt.plot(Gini_La3_time,'b-.',label=f'N7 (Gini={Gini_La3:.3f})')\n",
    "\n",
    "# add line for 1day, 1mon, 1year\n",
    "# a = 0.5*(Gini_La0_time[1]+Gini_Eu3_time[1])\n",
    "# plt.plot([1, 1], [a, a], 'kX', label='1 day')\n",
    "\n",
    "# a = 0.5*(Gini_La0_time[30]+Gini_Eu3_time[30])\n",
    "# plt.plot([30, 30], [a, a], 'kX', label='1 mon')\n",
    "\n",
    "# a = 0.5*(Gini_La0_time[365]+Gini_Eu3_time[365])\n",
    "# plt.plot([365, 365], [a, a], 'kX', label='1 year')\n",
    "\n",
    "#plt.legend(loc='upper left')\n",
    "plt.title(' Gini Coefficient at different time')\n",
    "plt.xlabel(' Day ')\n",
    "plt.ylabel(' Gini Coefficient ')\n",
    "plt.legend()\n",
    "\n",
    "plt.savefig('Gini_time_series.png')\n",
    "plt.clf();\n",
    "plt.cla();\n",
    "plt.close();\n"
   ]
  },
  {
   "cell_type": "code",
   "execution_count": 69,
   "metadata": {},
   "outputs": [
    {
     "data": {
      "image/png": "[encoded data removed]",
      "text/plain": [
       "<IPython.core.display.Image object>"
      ]
     },
     "execution_count": 69,
     "metadata": {},
     "output_type": "execute_result"
    }
   ],
   "source": [
    "Image('Gini_time_series.png') "
   ]
  },
  {
   "cell_type": "code",
   "execution_count": 29,
   "metadata": {},
   "outputs": [
    {
     "ename": "NameError",
     "evalue": "name 'Gini_La0_time' is not defined",
     "output_type": "error",
     "traceback": [
      "\u001b[0;31m---------------------------------------------------------------------------\u001b[0m",
      "\u001b[0;31mNameError\u001b[0m                                 Traceback (most recent call last)",
      "\u001b[0;32m<ipython-input-29-46b83e14e457>\u001b[0m in \u001b[0;36m<module>\u001b[0;34m\u001b[0m\n\u001b[0;32m----> 1\u001b[0;31m \u001b[0mplt\u001b[0m\u001b[0;34m.\u001b[0m\u001b[0mplot\u001b[0m\u001b[0;34m(\u001b[0m \u001b[0;36m100\u001b[0m\u001b[0;34m*\u001b[0m\u001b[0;34m(\u001b[0m\u001b[0mnp\u001b[0m\u001b[0;34m.\u001b[0m\u001b[0marray\u001b[0m\u001b[0;34m(\u001b[0m\u001b[0mGini_La0_time\u001b[0m\u001b[0;34m)\u001b[0m\u001b[0;34m-\u001b[0m\u001b[0mGini_Eu3_time\u001b[0m\u001b[0;34m)\u001b[0m\u001b[0;34m/\u001b[0m\u001b[0mGini_Eu3_time\u001b[0m \u001b[0;34m)\u001b[0m\u001b[0;34m;\u001b[0m\u001b[0;34m\u001b[0m\u001b[0;34m\u001b[0m\u001b[0m\n\u001b[0m\u001b[1;32m      2\u001b[0m \u001b[0mplt\u001b[0m\u001b[0;34m.\u001b[0m\u001b[0mylabel\u001b[0m\u001b[0;34m(\u001b[0m\u001b[0;34m'percentage difference [%]'\u001b[0m\u001b[0;34m)\u001b[0m\u001b[0;34m;\u001b[0m\u001b[0;34m\u001b[0m\u001b[0;34m\u001b[0m\u001b[0m\n\u001b[1;32m      3\u001b[0m \u001b[0mplt\u001b[0m\u001b[0;34m.\u001b[0m\u001b[0mxlabel\u001b[0m\u001b[0;34m(\u001b[0m\u001b[0;34m'day'\u001b[0m\u001b[0;34m)\u001b[0m\u001b[0;34m;\u001b[0m\u001b[0;34m\u001b[0m\u001b[0;34m\u001b[0m\u001b[0m\n",
      "\u001b[0;31mNameError\u001b[0m: name 'Gini_La0_time' is not defined"
     ]
    }
   ],
   "source": [
    "plt.plot( 100*(np.array(Gini_La0_time)-Gini_Eu3_time)/Gini_Eu3_time );\n",
    "plt.ylabel('percentage difference [%]');\n",
    "plt.xlabel('day');"
   ]
  },
  {
   "cell_type": "code",
   "execution_count": null,
   "metadata": {},
   "outputs": [],
   "source": []
  },
  {
   "cell_type": "code",
   "execution_count": null,
   "metadata": {},
   "outputs": [],
   "source": []
  },
  {
   "cell_type": "code",
   "execution_count": 18,
   "metadata": {},
   "outputs": [],
   "source": [
    "CPU_La0 = 11*24+12\n",
    "\n",
    "CPU_Eu1 = 26*24+2\n",
    "CPU_Eu2 = 6*24+18\n",
    "CPU_Eu3 = 18\n",
    "CPU_Eu4 = 5\n",
    "\n",
    "CPU_Eus = [CPU_Eu1, CPU_Eu2,CPU_Eu3,CPU_Eu4]\n",
    "Gini_Eus = [Gini_Eu1, Gini_Eu2,Gini_Eu3,Gini_Eu4]"
   ]
  },
  {
   "cell_type": "code",
   "execution_count": 19,
   "metadata": {},
   "outputs": [
    {
     "data": {
      "text/plain": [
       "<matplotlib.legend.Legend at 0x2b118185bc10>"
      ]
     },
     "execution_count": 19,
     "metadata": {},
     "output_type": "execute_result"
    },
    {
     "data": {
      "image/png": "[encoded data removed]",
      "text/plain": [
       "<Figure size 800x560 with 1 Axes>"
      ]
     },
     "metadata": {
      "needs_background": "light"
     },
     "output_type": "display_data"
    }
   ],
   "source": [
    "\n",
    "plt.figure(figsize=(10,7), dpi= 80)\n",
    "\n",
    "plt.plot(CPU_Eus, Gini_Eus, 'k--')\n",
    "\n",
    "plt.scatter(CPU_La0,Gini_La0,  marker='X', label='Plume-in-Grid 2x2.5')\n",
    "plt.scatter(CPU_Eu1, Gini_Eu1, marker='s', label='Eulerian 0.5x0.625')\n",
    "plt.scatter(CPU_Eu2, Gini_Eu2, marker='s', label='Eulerian 1x1.25')\n",
    "plt.scatter(CPU_Eu3, Gini_Eu3, marker='s', label='Eulerian 2x2.5')\n",
    "plt.scatter(CPU_Eu4, Gini_Eu4, marker='s', label='Eulerian 4x5')\n",
    "\n",
    "# plt.plot([CPU_Eu1, CPU_Eu1],[0.6,0.7],'y',label='Eulerian 0.5x0.625')\n",
    "\n",
    "plt.xlabel('CPU Time (hour)')\n",
    "plt.ylabel('Gini Coefficient')\n",
    "plt.legend()"
   ]
  },
  {
   "cell_type": "code",
   "execution_count": null,
   "metadata": {},
   "outputs": [],
   "source": []
  }
 ],
 "metadata": {
  "kernelspec": {
   "display_name": "Python [conda env:.conda-SUNenv]",
   "language": "python",
   "name": "conda-env-.conda-SUNenv-py"
  },
  "language_info": {
   "codemirror_mode": {
    "name": "ipython",
    "version": 3
   },
   "file_extension": ".py",
   "mimetype": "text/x-python",
   "name": "python",
   "nbconvert_exporter": "python",
   "pygments_lexer": "ipython3",
   "version": "3.8.5"
  }
 },
 "nbformat": 4,
 "nbformat_minor": 2
}
