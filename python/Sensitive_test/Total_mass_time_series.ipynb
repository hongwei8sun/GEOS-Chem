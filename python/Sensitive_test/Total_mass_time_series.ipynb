{
 "cells": [
  {
   "cell_type": "code",
   "execution_count": 1,
   "metadata": {},
   "outputs": [],
   "source": [
    "import numpy as np\n",
    "from numpy import ma\n",
    "import math\n",
    "import scipy\n",
    "import scipy.constants as constants\n",
    "import os\n",
    "from IPython.display import Image\n",
    "\n",
    "from netCDF4 import Dataset\n",
    "      \n",
    "from cartopy import config\n",
    "import cartopy.crs as ccrs\n",
    "from cartopy.mpl.ticker import LongitudeFormatter, LatitudeFormatter\n",
    "\n",
    "import matplotlib.pyplot as plt\n",
    "import matplotlib.colors as colors\n",
    "from matplotlib.cm import get_cmap\n",
    "from matplotlib import ticker\n",
    "\n",
    "# from tqdm.notebook import tqdm,trange\n",
    "# from matplotlib.mlab import bivariate_normal\n",
    "\n",
    "NA = 6.022e+23"
   ]
  },
  {
   "cell_type": "code",
   "execution_count": 2,
   "metadata": {},
   "outputs": [
    {
     "data": {
      "text/plain": [
       "<class 'netCDF4._netCDF4.Variable'>\n",
       "float32 SpeciesConc_PASV_EU(time, lev, lat, lon)\n",
       "    long_name: Dry mixing ratio of species PASV_EU\n",
       "    units: mol mol-1 dry\n",
       "    averaging_method: instantaneous\n",
       "unlimited dimensions: time\n",
       "current shape = (59, 72, 91, 144)\n",
       "filling off"
      ]
     },
     "execution_count": 2,
     "metadata": {},
     "output_type": "execute_result"
    }
   ],
   "source": [
    "\n",
    "# 2*2.5\n",
    "FILEDIR3 = '/n/home12/hongwei/HONGWEI/GC_run_13.0/1_plume_in_60deg/gc_2x25_eulerian'\n",
    "NcFile3   = Dataset(FILEDIR3+'/OutputDir/GEOSChem.SpeciesConc.201501_02.nc4','r',format='NETCDF4_CLASSIC')\n",
    "\n",
    "lat3             = NcFile3.variables['lat'][:]\n",
    "lon3             = NcFile3.variables['lon'][:]\n",
    "EU3              = NcFile3.variables['SpeciesConc_PASV_EU']\n",
    "\n",
    "GC_AREA3 = NcFile3.variables['AREA'][:,:];\n",
    "\n",
    "\n",
    "# lagrange: 2*2.5\n",
    "FILEDIR0 = '/n/home12/hongwei/HONGWEI/GC_run_13.0/1_plume_in_60deg/gc_2x25_lagrange'\n",
    "NcFile0   = Dataset(FILEDIR0+'/OutputDir/GEOSChem.SpeciesConc.201501_02.nc4','r',format='NETCDF4_CLASSIC')\n",
    "\n",
    "lat0             = NcFile0.variables['lat'][:]\n",
    "lon0             = NcFile0.variables['lon'][:]\n",
    "LA0              = NcFile0.variables['SpeciesConc_PASV_LA'][:,:,:,:]\n",
    "LA0_3            = NcFile0.variables['SpeciesConc_PASV_LA3'][:,:,:,:]\n",
    "\n",
    "LA0 = LA0 + LA0_3\n",
    "\n",
    "GC_AREA0 = NcFile0.variables['AREA'][:,:];\n",
    "\n",
    "EU3"
   ]
  },
  {
   "cell_type": "code",
   "execution_count": 3,
   "metadata": {},
   "outputs": [],
   "source": [
    "del NcFile0, NcFile3"
   ]
  },
  {
   "cell_type": "code",
   "execution_count": 4,
   "metadata": {},
   "outputs": [],
   "source": [
    "#------------------------------------------------\n",
    "# total air mass in each grid  ------------------\n",
    "#------------------------------------------------\n",
    "            \n",
    "\n",
    "# 2x2.5         \n",
    "AD_file3 = open(FILEDIR3+'/State_Met_AD.txt','r')\n",
    "\n",
    "GC_AD3 = EU3[0,:,:,:]*0.0\n",
    "\n",
    "Nx3 = len(EU3[0,0,0,:])\n",
    "Ny3 = len(EU3[0,0,:,0])\n",
    "Nz3 = len(EU3[0,:,0,0])\n",
    "Nt3 = len(EU3[:,0,0,0])\n",
    "\n",
    "for ix in range(Nx3):\n",
    "    for iy in range(Ny3):\n",
    "        for iz in range(Nz3):\n",
    "            line = AD_file3.readline()\n",
    "            GC_AD3[iz,iy,ix] = float(line)\n",
    "            \n",
    "\n",
    "# Lagrange: 2x2.5          \n",
    "AD_file0 = open(FILEDIR0+'/State_Met_AD.txt','r')\n",
    "\n",
    "GC_AD0 = LA0[0,:,:,:]*0.0\n",
    "\n",
    "Nx0 = len(LA0[0,0,0,:])\n",
    "Ny0 = len(LA0[0,0,:,0])\n",
    "Nz0 = len(LA0[0,:,0,0])\n",
    "Nt0 = len(LA0[:,0,0,0])\n",
    "\n",
    "for ix in range(Nx0):\n",
    "    for iy in range(Ny0):\n",
    "        for iz in range(Nz0):\n",
    "            line = AD_file0.readline()\n",
    "            GC_AD0[iz,iy,ix] = float(line)"
   ]
  },
  {
   "cell_type": "code",
   "execution_count": 5,
   "metadata": {},
   "outputs": [],
   "source": [
    "del AD_file0, AD_file3\n"
   ]
  },
  {
   "cell_type": "code",
   "execution_count": null,
   "metadata": {},
   "outputs": [],
   "source": []
  },
  {
   "cell_type": "code",
   "execution_count": 6,
   "metadata": {},
   "outputs": [
    {
     "name": "stdout",
     "output_type": "stream",
     "text": [
      "1.11914676e+30\n",
      "1.1080417e+30\n"
     ]
    }
   ],
   "source": [
    "### change unit, do average \n",
    "\n",
    "\n",
    "# 2.0x2.5\n",
    "EU3_molec = EU3[:,:,:,:]*0.0\n",
    "for i in range(Nt3):\n",
    "    EU3_molec[i,:,:,:] = EU3[i,:,:,:]*(GC_AD3[:,:,:]*1000.0/28.97)*NA # [mol/mol] to [molec]\n",
    "    \n",
    "EU3_Zsum = np.sum(EU3_molec[:,:,:,:], axis=1)\n",
    "for i in range(Nt3):\n",
    "    EU3_Zsum[i,:,:] = EU3_Zsum[i,:,:]/GC_AREA3[:,:]/1e4 # [molec/cm2]\n",
    "     \n",
    "print( np.sum(EU3_molec[-1,:,:,:]) )\n",
    "\n",
    "# lagrange: 2.0x2.5\n",
    "LA0_molec = LA0[:,:,:,:]*0.0\n",
    "for i in range(Nt0):\n",
    "    LA0_molec[i,:,:,:] = LA0[i,:,:,:]*(GC_AD0[:,:,:]*1000.0/28.97)*NA\n",
    "\n",
    "LA0_Zsum = np.sum(LA0_molec[:,:,:,:], axis=1)\n",
    "for i in range(Nt0):\n",
    "    LA0_Zsum[i,:,:]   = LA0_Zsum[i,:,:]/GC_AREA0[:,:]/1e4\n",
    "    \n",
    "print( np.sum(LA0_molec[-1,:,:,:]) )\n",
    "\n"
   ]
  },
  {
   "cell_type": "code",
   "execution_count": 7,
   "metadata": {},
   "outputs": [],
   "source": [
    "# delete original variable to save memory\n",
    "del EU3, LA0"
   ]
  },
  {
   "cell_type": "code",
   "execution_count": 8,
   "metadata": {},
   "outputs": [],
   "source": [
    "LA0_Total_molec, EU3_Total_molec = [],[]\n",
    "\n",
    "inject_molec = []\n",
    "\n",
    "for i in range(Nt0):\n",
    "    LA0_Total_molec.append( np.sum(LA0_molec[i,:,:,:]) )\n",
    "        \n",
    "for i in range(Nt3):\n",
    "    EU3_Total_molec.append( np.sum(EU3_molec[i,:,:,:]) )\n",
    "    \n",
    "\n",
    "for i in range(Nt3):\n",
    "    inject_molec.append( LA0_Total_molec[0]*(i+1) )"
   ]
  },
  {
   "cell_type": "code",
   "execution_count": 9,
   "metadata": {},
   "outputs": [],
   "source": [
    "# Plot Gini coefficient at different time:\n",
    "\n",
    "plt.figure(figsize=(8,6), dpi= 100)\n",
    "\n",
    "plt.plot(LA0_Total_molec,'r',label=f'Total tracer exist in GPD model')\n",
    "plt.plot(EU3_Total_molec,'b--',label=f'Total tracer exist in GEOS-Chem')\n",
    "\n",
    "# plt.plot(inject_molec,'k--',label=f'Total injected tracer ')\n",
    "\n",
    "\n",
    "#plt.legend(loc='upper left')\n",
    "# plt.title(' Total mass at different time')\n",
    "plt.xlabel(' Day ')\n",
    "plt.ylabel(' mass [molec] ')\n",
    "plt.legend()\n",
    "\n",
    "plt.savefig('Total_mass_time_series.png')\n",
    "plt.clf();\n",
    "plt.cla();\n",
    "plt.close();\n"
   ]
  },
  {
   "cell_type": "code",
   "execution_count": 10,
   "metadata": {},
   "outputs": [
    {
     "data": {
      "image/png": "[encoded data removed]",
      "text/plain": [
       "<IPython.core.display.Image object>"
      ]
     },
     "execution_count": 10,
     "metadata": {},
     "output_type": "execute_result"
    }
   ],
   "source": [
    "Image('Total_mass_time_series.png') "
   ]
  },
  {
   "cell_type": "code",
   "execution_count": 13,
   "metadata": {},
   "outputs": [],
   "source": [
    "# LA0_Total_molec"
   ]
  },
  {
   "cell_type": "code",
   "execution_count": 34,
   "metadata": {},
   "outputs": [
    {
     "data": {
      "text/plain": [
       "[1.1191402e+30,\n",
       " 1.11914026e+30,\n",
       " 1.1191404e+30,\n",
       " 1.1191406e+30,\n",
       " 1.1191409e+30,\n",
       " 1.1191407e+30,\n",
       " 1.1191403e+30,\n",
       " 1.11913996e+30,\n",
       " 1.11914e+30,\n",
       " 1.1191401e+30,\n",
       " 1.1191399e+30,\n",
       " 1.1191431e+30,\n",
       " 1.1191414e+30,\n",
       " 1.1191398e+30,\n",
       " 1.1191388e+30,\n",
       " 1.11913784e+30,\n",
       " 1.11913814e+30,\n",
       " 1.1191378e+30,\n",
       " 1.1191385e+30,\n",
       " 1.1191384e+30,\n",
       " 1.1191391e+30,\n",
       " 1.1191386e+30,\n",
       " 1.1191385e+30,\n",
       " 1.11913905e+30,\n",
       " 1.1191408e+30,\n",
       " 1.1191411e+30,\n",
       " 1.11914245e+30,\n",
       " 1.1191416e+30,\n",
       " 1.1191408e+30,\n",
       " 1.1191408e+30]"
      ]
     },
     "execution_count": 34,
     "metadata": {},
     "output_type": "execute_result"
    }
   ],
   "source": [
    "EU3_Total_molec"
   ]
  },
  {
   "cell_type": "code",
   "execution_count": null,
   "metadata": {},
   "outputs": [],
   "source": []
  }
 ],
 "metadata": {
  "kernelspec": {
   "display_name": "Python [conda env:.conda-SUNenv]",
   "language": "python",
   "name": "conda-env-.conda-SUNenv-py"
  },
  "language_info": {
   "codemirror_mode": {
    "name": "ipython",
    "version": 3
   },
   "file_extension": ".py",
   "mimetype": "text/x-python",
   "name": "python",
   "nbconvert_exporter": "python",
   "pygments_lexer": "ipython3",
   "version": "3.8.5"
  }
 },
 "nbformat": 4,
 "nbformat_minor": 2
}
