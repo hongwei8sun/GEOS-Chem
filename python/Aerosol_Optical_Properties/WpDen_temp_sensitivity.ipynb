{
 "cells": [
  {
   "cell_type": "code",
   "execution_count": 76,
   "id": "b89fc898",
   "metadata": {},
   "outputs": [],
   "source": [
    "import numpy as np\n",
    "import matplotlib.pyplot as plt"
   ]
  },
  {
   "cell_type": "code",
   "execution_count": 77,
   "id": "30d3f413",
   "metadata": {},
   "outputs": [],
   "source": [
    "# Input:\n",
    "\n",
    "Den_h2so4 = 1.8 # g/cm³\n",
    "\n",
    "tmp = [220,240,260] # temperature [K]\n",
    "tmp = np.array(tmp)\n",
    "\n",
    "aw = [0.5, 0.7, 0.9, 0.99] # = relative humidity / 100\n",
    "\n",
    "Rdry = [0.089, 1.89, 10.0] # [um]\n",
    "Rdry = np.array(Rdry)"
   ]
  },
  {
   "cell_type": "code",
   "execution_count": 93,
   "id": "43cd5d77",
   "metadata": {},
   "outputs": [],
   "source": [
    "# !        calculation of particle density\n",
    "# !        requires Temperature (temp) and acid mass fraction (so4mfrac)\n",
    "# !\n",
    "# !\n",
    "# !---->Vehkamaeki et al., 2002  (JGR, doi:10.1029/2002JD002184)\n",
    "\n",
    "def density(temp,so4mfrac):\n",
    "    \n",
    "    a1= 0.7681724\n",
    "    a2= 2.184714\n",
    "    a3= 7.163002\n",
    "    a4=-44.31447\n",
    "    a5= 88.74606\n",
    "    a6=-75.73729\n",
    "    a7= 23.43228\n",
    "    \n",
    "    b1= 1.808225e-3\n",
    "    b2=-9.294656e-3\n",
    "    b3=-3.742148e-2\n",
    "    b4= 2.565321e-1\n",
    "    b5=-5.362872e-1\n",
    "    b6= 4.857736e-1\n",
    "    b7=-1.629592e-1\n",
    "     \n",
    "    c1=-3.478524e-6\n",
    "    c2= 1.335867e-5\n",
    "    c3= 5.195706e-5\n",
    "    c4=-3.717636e-4\n",
    "    c5= 7.990811e-4\n",
    "    c6=-7.458060e-4\n",
    "    c7= 2.581390e-4\n",
    "    \n",
    " \n",
    "    so4m2=so4mfrac*so4mfrac\n",
    "    so4m3=so4mfrac*so4m2\n",
    "    so4m4=so4mfrac*so4m3\n",
    "    so4m5=so4mfrac*so4m4\n",
    "    so4m6=so4mfrac*so4m5\n",
    "\n",
    "    a=a1+a2*so4mfrac+a3*so4m2+a4*so4m3 +a5*so4m4+a6*so4m5+a7*so4m6\n",
    "    b=b1+b2*so4mfrac+b3*so4m2+b4*so4m3 +b5*so4m4+b6*so4m5+b7*so4m6\n",
    "    c=c1+c2*so4mfrac+c3*so4m2+c4*so4m3 +c5*so4m4+c6*so4m5+c7*so4m6\n",
    "      \n",
    "    density=(a+b*temp+c*temp*temp) # units are g/cm**3\n",
    "        \n",
    "    return density"
   ]
  },
  {
   "cell_type": "code",
   "execution_count": 103,
   "id": "4c1fc407",
   "metadata": {},
   "outputs": [
    {
     "name": "stdout",
     "output_type": "stream",
     "text": [
      "temp=220.0K, RH=50.0%, wp=38.859 %, xa=0.105, den=1.348 gm/cm**3\n",
      "Rwet=[ 0.13428893  2.85175361 15.08864343]\n",
      "\n",
      "temp=220.0K, RH=70.0%, wp=29.985 %, xa=0.073, den=1.269 gm/cm**3\n",
      "Rwet=[ 0.14938642  3.17236321 16.78499053]\n",
      "\n",
      "temp=220.0K, RH=90.0%, wp=18.275 %, xa=0.039, den=1.163 gm/cm**3\n",
      "Rwet=[ 0.18139704  3.85213933 20.38168957]\n",
      "\n",
      "temp=220.0K, RH=99.0%, wp=15.000 %, xa=0.031, den=1.133 gm/cm**3\n",
      "Rwet=[ 0.19547001  4.15099237 21.96292261]\n",
      "\n",
      "temp=240.0K, RH=50.0%, wp=39.843 %, xa=0.108, den=1.342 gm/cm**3\n",
      "Rwet=[ 0.1333957   2.83278511 14.98828099]\n",
      "\n",
      "temp=240.0K, RH=70.0%, wp=30.550 %, xa=0.075, den=1.260 gm/cm**3\n",
      "Rwet=[ 0.14881573  3.16024421 16.72086886]\n",
      "\n",
      "temp=240.0K, RH=90.0%, wp=17.952 %, xa=0.039, den=1.151 gm/cm**3\n",
      "Rwet=[ 0.18310899  3.88849439 20.57404437]\n",
      "\n",
      "temp=240.0K, RH=99.0%, wp=15.000 %, xa=0.031, den=1.126 gm/cm**3\n",
      "Rwet=[ 0.19588017  4.15970241 22.00900744]\n",
      "\n",
      "temp=260.0K, RH=50.0%, wp=40.795 %, xa=0.112, den=1.335 gm/cm**3\n",
      "Rwet=[ 0.13257729  2.81540532 14.89632446]\n",
      "\n",
      "temp=260.0K, RH=70.0%, wp=31.105 %, xa=0.077, den=1.251 gm/cm**3\n",
      "Rwet=[ 0.14829272  3.14913756 16.66210347]\n",
      "\n",
      "temp=260.0K, RH=90.0%, wp=17.627 %, xa=0.038, den=1.139 gm/cm**3\n",
      "Rwet=[ 0.1848919   3.92635608 20.77437077]\n",
      "\n",
      "temp=260.0K, RH=99.0%, wp=15.000 %, xa=0.031, den=1.118 gm/cm**3\n",
      "Rwet=[ 0.19635042  4.1696888  22.06184549]\n",
      "\n"
     ]
    }
   ],
   "source": [
    "\n",
    "Rwet = np.zeros((len(tmp), len(aw), len(Rdry)))\n",
    "\n",
    "for i in range(len(tmp)):\n",
    "    for k in range(len(aw)):\n",
    "        \n",
    "        if aw[i]==0.0:\n",
    "            print(\"The wet radius is same as the dry radius\")\n",
    "            print(\"Just stop and no need to run the rest!\")\n",
    "    \n",
    "    \n",
    "        if aw[k]>1.0: aw[k]=1.0\n",
    "        if aw[k]<=0.05:\n",
    "            y1=12.372089320*aw[k]**(-0.16125516114) -30.490657554*aw[k] -2.1133114241\n",
    "            y2=13.455394705*aw[k]**(-0.19213122550) -34.285174607*aw[k] -1.7620073078\n",
    "        elif aw[k]<=0.85:\n",
    "            y1=11.820654354*aw[k]**(-0.20786404244) -4.8073063730*aw[k] -5.1727540348\n",
    "            y2=12.891938068*aw[k]**(-0.23233847708) -6.4261237757*aw[k] -4.9005471319\n",
    "        else:\n",
    "            y1=-180.06541028*aw[k]**(-0.38601102592) -93.317846778*aw[k] +273.88132245\n",
    "            y2=-176.95814097*aw[k]**(-0.36257048154) -90.469744201*aw[k] +267.45509988\n",
    "\n",
    "        sulfmolal=y1+((tmp[i]-190.)*(y2-y1)/70.)\n",
    "        \n",
    "        wp=9800.*sulfmolal/(98.*sulfmolal+1000.) # weight percentage\n",
    "        \n",
    "        if wp<15.0: wp=15.0\n",
    "        if wp>99.0: wp=99.0\n",
    "        if wp<15.0 or wp>100.0:\n",
    "            print( 'weight percent= ',wp,  ', T=',tmp[i], ', RH(aw)=', aw[k])\n",
    "            print('*** Stupid Value of Weight Percent ***')\n",
    "             \n",
    "                \n",
    "        # mass fraction\n",
    "        wpp=wp*0.01\n",
    "        # mole fraction\n",
    "        xa=18.*wpp/(18.*wpp+98.*(1.-wpp))\n",
    "        \n",
    "        \n",
    "        den = density(tmp[i],wpp)\n",
    "        \n",
    "        \n",
    "        Vdry = 4/3 *np.pi * Rdry[:]**3\n",
    "        Mdry = Den_h2so4*Vdry[:]\n",
    "\n",
    "        Mwet = Mdry[:]/wpp\n",
    "        Vwet = Mwet[:]/den\n",
    "        \n",
    "        Rwet[i,k,:] = (Vwet[:] / (4/3 *np.pi))**(1/3)\n",
    "        \n",
    "        print( f'temp={tmp[i]:.1f}K, RH={aw[k]*100:.1f}%, wp={wp:.3f} %, xa={xa:.3f}, den={den:.3f} gm/cm**3' )\n",
    "        print(f'Rwet={Rwet[i,k,:]}')\n",
    "        print('')\n",
    "    \n",
    "    "
   ]
  },
  {
   "cell_type": "code",
   "execution_count": 106,
   "id": "4d327eec",
   "metadata": {},
   "outputs": [],
   "source": [
    "# Rwet's sensitivity to temp\n",
    "# Rwet = np.zeros((len(tmp), len(aw), len(Rdry)))\n",
    "\n",
    "Diff = np.zeros(( len(aw), len(Rdry) ))\n",
    "\n",
    "for j in range(len(aw)):\n",
    "    for k in range(len(Rdry)):\n",
    "        Diff[j,k] = (np.max(Rwet[:,j,k])-np.min(Rwet[:,j,k]))/np.min(Rwet[:,j,k])"
   ]
  },
  {
   "cell_type": "code",
   "execution_count": 108,
   "id": "d85163f4",
   "metadata": {},
   "outputs": [
    {
     "data": {
      "text/plain": [
       "array([[1.29104978, 1.29104978, 1.29104978],\n",
       "       [0.7375243 , 0.7375243 , 0.7375243 ],\n",
       "       [1.92663714, 1.92663714, 1.92663714],\n",
       "       [0.45040853, 0.45040853, 0.45040853]])"
      ]
     },
     "execution_count": 108,
     "metadata": {},
     "output_type": "execute_result"
    }
   ],
   "source": [
    "Diff*100"
   ]
  },
  {
   "cell_type": "markdown",
   "id": "dce9e73e",
   "metadata": {},
   "source": [
    "## Conclusion: the change of wet radius caused by temperature is less than 2%, which indicates we can neglect temp's influence on wet radius in the stratosphere."
   ]
  },
  {
   "cell_type": "code",
   "execution_count": null,
   "id": "00c21d66",
   "metadata": {},
   "outputs": [],
   "source": []
  }
 ],
 "metadata": {
  "kernelspec": {
   "display_name": "Python [conda env:.conda-SUNenv]",
   "language": "python",
   "name": "conda-env-.conda-SUNenv-py"
  },
  "language_info": {
   "codemirror_mode": {
    "name": "ipython",
    "version": 3
   },
   "file_extension": ".py",
   "mimetype": "text/x-python",
   "name": "python",
   "nbconvert_exporter": "python",
   "pygments_lexer": "ipython3",
   "version": "3.8.5"
  }
 },
 "nbformat": 4,
 "nbformat_minor": 5
}
