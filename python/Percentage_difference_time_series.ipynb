{
 "cells": [
  {
   "cell_type": "code",
   "execution_count": 1,
   "metadata": {},
   "outputs": [],
   "source": [
    "import numpy as np\n",
    "import math\n",
    "\n",
    "import matplotlib\n",
    "import matplotlib.pyplot as plt\n",
    "from matplotlib import ticker, cm\n",
    "\n",
    "import scipy\n",
    "from scipy import interpolate\n",
    "from scipy.sparse import diags\n",
    "import scipy.sparse as sp\n",
    "\n",
    "import matplotlib.tri as tri\n",
    "import matplotlib.pyplot as plt\n",
    "\n",
    "import pandas as pd\n",
    "\n",
    "from multiprocessing import Pool\n",
    "from tqdm import tqdm \n",
    "\n",
    "PI = math.pi"
   ]
  },
  {
   "cell_type": "code",
   "execution_count": 2,
   "metadata": {},
   "outputs": [],
   "source": [
    "# The function can calculate the scale length (Xscale, Yscale) \n",
    "# of the input concentration distribution (Concnt)\n",
    "\n",
    "def Get_XYscale(Concnt, Dx, Dy, Nx, Ny, frac):\n",
    "    \n",
    "    M2d = Concnt*Dx*Dy\n",
    "    total_mass = np.sum(M2d, axis=(0,1))\n",
    "    \n",
    "    Ysum = np.sum(M2d,axis=1) # sum along x axis\n",
    "    Ysum_sort = sorted(Ysum, reverse=True)\n",
    "    Ysum_cum = np.cumsum(Ysum_sort)\n",
    "    numY = abs(Ysum_cum - frac*total_mass).argmin()\n",
    "    Yscale = numY*Dy\n",
    "    \n",
    "    Xsum = np.sum(M2d,axis=0) # sum along x axis\n",
    "    Xsum_sort = sorted(Xsum, reverse=True)\n",
    "    Xsum_cum = np.cumsum(Xsum_sort)\n",
    "    numX = abs(Xsum_cum - frac*total_mass).argmin()\n",
    "    Xscale = numX*Dx\n",
    "    \n",
    "    return Xscale, Yscale"
   ]
  },
  {
   "cell_type": "code",
   "execution_count": 3,
   "metadata": {},
   "outputs": [],
   "source": [
    "def tilt_C2d(Concnt, x, y, Dx, Dy, Nx, Ny, Theta, Na, Nb, LenA, LenB):\n",
    "    \n",
    "    # find the long and short radius given concentration distribution\n",
    "    # build a 2D nest for integrationn\n",
    "    Nb_mid = int(Nb/2)\n",
    "\n",
    "    # interval in long radius\n",
    "    Adx = LenA*np.sin(Theta)\n",
    "    Ady = LenA*np.cos(Theta)\n",
    "\n",
    "    # interval in short radius\n",
    "    Bdy = LenB*np.sin(Theta)\n",
    "    Bdx = LenB*np.cos(Theta)\n",
    "\n",
    "    # define the location in 2D xy mesh used to determine initial concentration\n",
    "    Y1d = np.zeros((Na,Nb))\n",
    "    X1d = np.zeros((Na,Nb))\n",
    "\n",
    "#     print('Y1d.shape: ', Y1d.shape)\n",
    "\n",
    "    # find the location of 1D grid in 2D XY grids\n",
    "    for i in range(Na):\n",
    "        X1d[i,Nb_mid] = -Adx*Na/2 + Adx*(i+0.5)   # ???\n",
    "        Y1d[i,Nb_mid] = -Ady*Na/2 + Ady*(i+0.5)   # ???\n",
    "\n",
    "    for j in range(Nb_mid+1, Nb, 1):\n",
    "        X1d[:,j] = X1d[:,j-1] - Bdx\n",
    "        Y1d[:,j] = Y1d[:,j-1] + Bdy\n",
    "    \n",
    "    for j in range(Nb_mid-1, -1, -1):\n",
    "        X1d[:,j] = X1d[:,j+1] + Bdx\n",
    "        Y1d[:,j] = Y1d[:,j+1] - Bdy\n",
    "\n",
    "        \n",
    "    # set the initial concentration for 1D\n",
    "    C1d = np.zeros((Na,Nb))\n",
    "\n",
    "    # Find the correct initial theta for 1D:\n",
    "    F1  = interpolate.interp2d(x, y, Concnt, kind='cubic')\n",
    "\n",
    "    for i in range(Na):\n",
    "        for j in range(Nb):\n",
    "#             if( abs(X1d[i,j])<abs(max(x)) or abs(Y1d[i,j])<abs(max(y)) ): # in case the tilt 2-D out ot range\n",
    "                C1d[i,j] = F1( X1d[i,j], Y1d[i,j] )\n",
    "        \n",
    "    return C1d, X1d, Y1d"
   ]
  },
  {
   "cell_type": "code",
   "execution_count": 5,
   "metadata": {},
   "outputs": [
    {
     "name": "stdout",
     "output_type": "stream",
     "text": [
      "center: 2500 150\n"
     ]
    }
   ],
   "source": [
    "# grid resolution\n",
    "Dx = 200 # [m]\n",
    "Dy = 20 # [m]\n",
    "\n",
    "# grid number\n",
    "Nx = 5000 # 5000 # 243 # 483\n",
    "Ny = 300  # 135  # 271\n",
    "\n",
    "# For high resolution 2D Eulerian model\n",
    "# for the first 24 hours\n",
    "\n",
    "Ymax =  Dy*Ny/2\n",
    "Ymin = -Dy*Ny/2\n",
    "Xmax =  Dx*Nx/2\n",
    "Xmin = -Dx*Nx/2\n",
    "\n",
    "\n",
    "i_init = round(Nx/2)\n",
    "j_init = round(Ny/2)\n",
    "print('center:',i_init,j_init)\n",
    "\n",
    "x = []\n",
    "for i in range(Nx):\n",
    "    x.append((i-i_init)*Dx)\n",
    "    \n",
    "y = []\n",
    "for j in range(Ny):\n",
    "    y.append((j-j_init)*Dy)\n",
    "\n",
    "X, Y = np.meshgrid(x, y)"
   ]
  },
  {
   "cell_type": "code",
   "execution_count": 6,
   "metadata": {},
   "outputs": [
    {
     "name": "stderr",
     "output_type": "stream",
     "text": [
      "100%|██████████| 287/287 [6:16:00<00:00, 78.61s/it]  \n"
     ]
    }
   ],
   "source": [
    "# read concnt_2d from .txt file\n",
    "\n",
    "Nb   = 2*math.ceil(Ny/4)*4\n",
    "frac = 0.95\n",
    "concnt2d = np.zeros((Ny,Nx))\n",
    "\n",
    "C1d_center = []\n",
    "C2d_center = []\n",
    "\n",
    "for it in tqdm(np.arange(1,288,1)):\n",
    "#     print(it)\n",
    "\n",
    "    data = pd.read_csv('Lb_'+str(it)+'_10min.txt')\n",
    "    [Lb,La] = data.values\n",
    "    \n",
    "    data = pd.read_csv('Concnt_1d_'+str(it)+'_10min.txt')\n",
    "    concnt1d = data.values    \n",
    "    C1d_center.append( concnt1d[int(Nb/2)]*La*Lb )\n",
    "#     print(np.max(concnt1d[:])*La*Lb, concnt1d[int(Nb/2)]*La*Lb,  concnt1d[int(Nb/2)-1]*La*Lb, concnt1d[int(Nb/2)+1]*La*Lb)\n",
    "    \n",
    "    \n",
    "    data = pd.read_csv('Concnt_2d_'+str(it)+'_10min.txt')\n",
    "    concnt2d = data.values\n",
    "    \n",
    "    Concnt2 = concnt2d\n",
    "    # calculate ScaleX and ScaleY containing 99%  of total mass\n",
    "    Xscale2, Yscale2 = Get_XYscale(Concnt2, Dx, Dy, Nx, Ny, frac)\n",
    "\n",
    "    Height2 = Lb*Nb # Yscale2 # refernce of the plume cross-section vertical scale for 1D initial\n",
    "    Length2 = Xscale2\n",
    "\n",
    "    Theta2 = math.atan(Xscale2/Yscale2)\n",
    "\n",
    "    # 1D grid length\n",
    "\n",
    "    # LenB doesn't have big influence on final results\n",
    "    LenB2 = Lb # Dy # number is a arbitraty number\n",
    "    LenA2 = Dx # Dx*1.5 # Dx\n",
    "#     print('LenB, LenA: ', LenB2, LenA2)\n",
    "\n",
    "    Nb2 = int(Height2/LenB2) # short radius\n",
    "    Nb2 = math.ceil(Nb2/4)*4\n",
    "\n",
    "    Na2 = Nx # int(Length2/Dx) # Nx # long radius\n",
    "    Na2 = math.ceil(Na2/4)*4\n",
    "#     print('Nb, Na: ', Nb2, Na2)\n",
    "\n",
    "    Nb2_25  = int(Nb2/4)\n",
    "    Nb2_mid = Nb2_50 = int(Nb2/4*2)\n",
    "    Nb2_75  = int(Nb2/4*3)\n",
    "\n",
    "    Na2_25  = int(Na2/4)\n",
    "    Na2_mid = Na2_50 = int(Na2/4*2)\n",
    "    Na2_75  = int(Na2/4*3)\n",
    "\n",
    "    C1d2, X1d2, Y1d2 = tilt_C2d(Concnt2, x, y, Dx, Dy, Nx, Ny, Theta2, Na2, Nb2, LenA2, LenB2)\n",
    "    \n",
    "    Lb2 = Lb\n",
    "\n",
    "    C_box2 = np.zeros(Nb2)\n",
    "    C_box2_Asum = np.zeros(Nb2)\n",
    "\n",
    "    for ib in range(Nb2):\n",
    "        C_box2_Asum[ib] = sum(C1d2[:,ib]) *(LenA2*LenB2)\n",
    "\n",
    "\n",
    "    C2d_center.append(np.max(C_box2_Asum))\n",
    "#     print(np.max(C_box2_Asum), C_box2_Asum[int(Nb2/2)], C_box2_Asum[int(Nb2/2)+1], C_box2_Asum[int(Nb2/2)-1])\n",
    "    "
   ]
  },
  {
   "cell_type": "code",
   "execution_count": 7,
   "metadata": {},
   "outputs": [],
   "source": [
    "# # Find the correct initial theta for 1D:\n",
    "\n",
    "# y1d = []\n",
    "\n",
    "# for j in np.arange(1,Nb+1,1):\n",
    "#     y1d.append( (j-Nb/2)*10-5 )\n",
    "\n",
    "# F1       = interpolate.interp1d(y, C1d_center, kind='linear')\n",
    "\n",
    "# C1d_new = F1()"
   ]
  },
  {
   "cell_type": "code",
   "execution_count": 8,
   "metadata": {},
   "outputs": [],
   "source": [
    "df1 = pd.DataFrame(C1d_center)\n",
    "df1.to_csv('C1d_center_time_series_10min.txt', index = False)\n",
    "\n",
    "df2 = pd.DataFrame(C2d_center)\n",
    "df2.to_csv('C2d_center_time_series_10min.txt', index = False)"
   ]
  },
  {
   "cell_type": "code",
   "execution_count": null,
   "metadata": {},
   "outputs": [],
   "source": []
  },
  {
   "cell_type": "code",
   "execution_count": 9,
   "metadata": {},
   "outputs": [],
   "source": [
    "# np.array(C1d_center)"
   ]
  },
  {
   "cell_type": "code",
   "execution_count": 67,
   "metadata": {},
   "outputs": [
    {
     "data": {
      "text/plain": [
       "((47,), (47,), (47,))"
      ]
     },
     "execution_count": 67,
     "metadata": {},
     "output_type": "execute_result"
    }
   ],
   "source": [
    "# c1 = []\n",
    "# c2 = []\n",
    "# hours1 = []\n",
    "\n",
    "# for i in np.arange(0,47,1):\n",
    "#     hours1.append(i+1)\n",
    "    \n",
    "#     c1.append( (C1d_center[i][0]+C1d_center[i+1][0])*0.5 ) # C1d_center[i][0] # \n",
    "#     c2.append( (C2d_center[i]+C2d_center[i+1])*0.5 ) #  C2d_center[i] #  \n",
    "# #     Diff.append((c1-c2)/c2)\n",
    "# #     Diff.append( (C1d_center[i][0] - C2d_center[i-1])/C2d_center[i-1] )\n",
    "    \n",
    "# Diff = np.array(Diff)\n",
    "# # Diff\n",
    "# c1 = np.array(c1)\n",
    "# c2 = np.array(c2)\n",
    "\n",
    "# Diff1 = ( np.array(c1)-np.array(c2) )/ np.array(c2)\n",
    "\n",
    "\n",
    "# c1.shape, c2.shape, Diff1.shape"
   ]
  },
  {
   "cell_type": "code",
   "execution_count": 68,
   "metadata": {},
   "outputs": [],
   "source": [
    "# c11 = []\n",
    "# c22 = []\n",
    "# hours2 = []\n",
    "\n",
    "# for i in np.arange(0,46,1):\n",
    "#     hours2.append(i+1)\n",
    "    \n",
    "#     c11.append( (c1[i]+c1[i+1])*0.5 ) # C1d_center[i][0] # \n",
    "#     c22.append( (c2[i]+c2[i+1])*0.5 ) #  C2d_center[i] #\n",
    "    \n",
    "# Diff2 = ( np.array(c11)-np.array(c22) )/ np.array(c22)\n"
   ]
  },
  {
   "cell_type": "code",
   "execution_count": 69,
   "metadata": {},
   "outputs": [
    {
     "data": {
      "text/plain": [
       "(array([1.37306434]), array([81569.37496495]))"
      ]
     },
     "execution_count": 69,
     "metadata": {},
     "output_type": "execute_result"
    }
   ],
   "source": [
    "# Lb, La"
   ]
  },
  {
   "cell_type": "code",
   "execution_count": 71,
   "metadata": {},
   "outputs": [
    {
     "data": {
      "text/plain": [
       "Text(0.5, 0, 'Time [hour]')"
      ]
     },
     "execution_count": 71,
     "metadata": {},
     "output_type": "execute_result"
    },
    {
     "data": {
      "image/png": "[encoded data removed]",
      "text/plain": [
       "<Figure size 432x288 with 1 Axes>"
      ]
     },
     "metadata": {
      "needs_background": "light"
     },
     "output_type": "display_data"
    }
   ],
   "source": [
    "# plt.plot( hours1[:], Diff1[:]*100)\n",
    "# plt.ylabel('Percentage difference [%]')\n",
    "# plt.xlabel('Time [hour]')"
   ]
  },
  {
   "cell_type": "code",
   "execution_count": 72,
   "metadata": {},
   "outputs": [
    {
     "data": {
      "text/plain": [
       "Text(0.5, 0, 'Time [hour]')"
      ]
     },
     "execution_count": 72,
     "metadata": {},
     "output_type": "execute_result"
    },
    {
     "data": {
      "image/png": "[encoded data removed]",
      "text/plain": [
       "<Figure size 432x288 with 1 Axes>"
      ]
     },
     "metadata": {
      "needs_background": "light"
     },
     "output_type": "display_data"
    }
   ],
   "source": [
    "# plt.plot( hours2[:], Diff2[:]*100)\n",
    "# plt.ylabel('Percentage difference [%]')\n",
    "# plt.xlabel('Time [hour]')"
   ]
  },
  {
   "cell_type": "code",
   "execution_count": 11,
   "metadata": {},
   "outputs": [
    {
     "data": {
      "text/plain": [
       "[<matplotlib.lines.Line2D at 0x2b9c61b4cd90>]"
      ]
     },
     "execution_count": 11,
     "metadata": {},
     "output_type": "execute_result"
    },
    {
     "data": {
      "image/png": "[encoded data removed]",
      "text/plain": [
       "<Figure size 432x288 with 1 Axes>"
      ]
     },
     "metadata": {
      "needs_background": "light"
     },
     "output_type": "display_data"
    }
   ],
   "source": [
    "# plt.plot(C1d_center)"
   ]
  },
  {
   "cell_type": "code",
   "execution_count": null,
   "metadata": {},
   "outputs": [],
   "source": []
  }
 ],
 "metadata": {
  "kernelspec": {
   "display_name": "Python [conda env:.conda-SUNenv]",
   "language": "python",
   "name": "conda-env-.conda-SUNenv-py"
  },
  "language_info": {
   "codemirror_mode": {
    "name": "ipython",
    "version": 3
   },
   "file_extension": ".py",
   "mimetype": "text/x-python",
   "name": "python",
   "nbconvert_exporter": "python",
   "pygments_lexer": "ipython3",
   "version": "3.8.5"
  }
 },
 "nbformat": 4,
 "nbformat_minor": 2
}
