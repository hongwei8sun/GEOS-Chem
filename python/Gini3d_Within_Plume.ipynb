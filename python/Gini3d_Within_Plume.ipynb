{
 "cells": [
  {
   "cell_type": "code",
   "execution_count": 1,
   "metadata": {},
   "outputs": [],
   "source": [
    "# Gini3d_Within_Plume\n",
    "\n",
    "import numpy as np\n",
    "from numpy import ma\n",
    "import math\n",
    "import scipy\n",
    "import scipy.constants as constants\n",
    "import os\n",
    "from IPython.display import Image\n",
    "\n",
    "from netCDF4 import Dataset\n",
    "\n",
    "from cartopy import config\n",
    "import cartopy.crs as ccrs\n",
    "from cartopy.mpl.ticker import LongitudeFormatter, LatitudeFormatter\n",
    "\n",
    "import matplotlib.pyplot as plt\n",
    "import matplotlib.colors as colors\n",
    "from matplotlib.cm import get_cmap\n",
    "from matplotlib import ticker\n",
    "\n",
    "import pandas as pd\n",
    "import datetime\n",
    "from tqdm import tqdm\n",
    "# from matplotlib.mlab import bivariate_normal\n",
    "\n",
    "NA = 6.022e+23"
   ]
  },
  {
   "cell_type": "code",
   "execution_count": 2,
   "metadata": {},
   "outputs": [],
   "source": [
    "# Lagrange: 2x2.5\n",
    "\n",
    "FILEDIR0 = '/n/home12/hongwei/HONGWEI/GC_run_13.0/1_plume_in_60deg/final/Gini/gc_2x25_lagrange_final/OutputDir'\n",
    "\n",
    "NcFile0   = Dataset(FILEDIR0+'/GEOSChem.SpeciesConc.201501_02.nc4','r',format='NETCDF4_CLASSIC')\n",
    "lat0             = NcFile0.variables['lat'][:]\n",
    "lon0             = NcFile0.variables['lon'][:]\n",
    "LA0              = NcFile0.variables['SpeciesConc_PASV_LA'][:,:,:,:]\n",
    "LA0_3            = NcFile0.variables['SpeciesConc_PASV_LA3'][:,:,:,:]\n",
    "\n",
    "LA0 = LA0 + LA0_3\n",
    "\n",
    "\n",
    "NcFile00   = Dataset(FILEDIR0+'/GEOSChem.StateMet.201501_02.nc4','r',format='NETCDF4_CLASSIC')\n",
    "GC_V00 = NcFile00.variables['Met_AIRVOL'][:,:,:,:] # [m3]\n",
    "GC_V00 = GC_V00*1e6 # [m3]=>[cm3]\n",
    "\n",
    "GC_AD00 = NcFile00.variables['Met_AD'][:,:,:,:] # [kg]\n",
    "GC_AD00 = GC_AD00*1000.0/28.97 # change [kg] to [mol]\n",
    "\n",
    "\n",
    "\n",
    "# Lagrange: 2x2.5\n",
    "FILEDIR1 = '/n/home12/hongwei/HONGWEI/GC_run_13.0/1_plume_in_60deg/final/Gini/gc_2x25_lagrange_final/OutputDir'\n",
    "\n",
    "NcFile1   = Dataset(FILEDIR1+'/GEOSChem.SpeciesConc.201501_02.nc4','r',format='NETCDF4_CLASSIC')\n",
    "lat1             = NcFile1.variables['lat'][:]\n",
    "lon1             = NcFile1.variables['lon'][:]\n",
    "LA1              = NcFile1.variables['SpeciesConc_PASV_LA'][:,:,:,:]\n",
    "\n",
    "\n",
    "NcFile11   = Dataset(FILEDIR1+'/GEOSChem.StateMet.201501_02.nc4','r',format='NETCDF4_CLASSIC')\n",
    "GC_V11 = NcFile11.variables['Met_AIRVOL'][:,:,:,:] # [m3]\n",
    "GC_V11 = GC_V11*1e6 # [m3]=>[cm3]\n",
    "\n",
    "GC_AD11 = NcFile11.variables['Met_AD'][:,:,:,:] # [kg]\n",
    "GC_AD11 = GC_AD11*1000.0/28.97 # change [kg] to [mol]\n",
    "\n",
    "\n",
    "\n",
    "# Eulerian: 2x2.5\n",
    "FILEDIR3 = '/n/home12/hongwei/HONGWEI/GC_run_13.0/1_plume_in_60deg/final/Gini/gc_2x25_eulerian_final/OutputDir'\n",
    "\n",
    "NcFile3   = Dataset(FILEDIR3+'/GEOSChem.SpeciesConc.201501_02.nc4','r',format='NETCDF4_CLASSIC')\n",
    "lat3             = NcFile3.variables['lat'][:]\n",
    "lon3             = NcFile3.variables['lon'][:]\n",
    "EU3              = NcFile3.variables['SpeciesConc_PASV_EU'][:,:,:,:]\n",
    "\n",
    "NcFile33   = Dataset(FILEDIR3+'/GEOSChem.StateMet.201501_02.nc4','r',format='NETCDF4_CLASSIC')\n",
    "GC_V33 = NcFile33.variables['Met_AIRVOL'][:,:]\n",
    "GC_V33 = GC_V33*1e6 # [m3]=>[cm3]\n",
    "\n",
    "GC_AD33 = NcFile33.variables['Met_AD'][:,:,:,:] # [kg]\n",
    "GC_AD33 = GC_AD33*1000.0/28.97 # change [kg] to [mol]\n"
   ]
  },
  {
   "cell_type": "code",
   "execution_count": 3,
   "metadata": {},
   "outputs": [],
   "source": [
    "Nx = len(LA0[0,0,0,:])\n",
    "Ny = len(LA0[0,0,:,0])\n",
    "Nz = len(LA0[0,:,0,0])\n",
    "Nt = len(LA0[:,0,0,0])"
   ]
  },
  {
   "cell_type": "code",
   "execution_count": 4,
   "metadata": {},
   "outputs": [],
   "source": [
    "# 2 time step moving average for Met data\n",
    "GC_V0 = LA0*0.0\n",
    "GC_AD0 = LA0*0.0\n",
    "\n",
    "GC_V1 = LA1*0.0\n",
    "GC_AD1 = LA1*0.0\n",
    "\n",
    "GC_V3 = LA0*0.0\n",
    "GC_AD3 = LA0*0.0\n",
    "\n",
    "for i in range(Nt):\n",
    "    GC_V0[i,:,:,:]  = (GC_V00[i,:,:,:]+GC_V00[i+1,:,:,:])/2\n",
    "    GC_AD0[i,:,:,:] = (GC_AD00[i,:,:,:]+GC_AD00[i+1,:,:,:])/2\n",
    "    \n",
    "    GC_V1[i,:,:,:]  = (GC_V11[i,:,:,:]+GC_V11[i+1,:,:,:])/2\n",
    "    GC_AD1[i,:,:,:] = (GC_AD11[i,:,:,:]+GC_AD11[i+1,:,:,:])/2\n",
    "    \n",
    "    GC_V3[i,:,:,:]  = (GC_V33[i,:,:,:]+GC_V33[i+1,:,:,:])/2\n",
    "    GC_AD3[i,:,:,:] = (GC_AD33[i,:,:,:]+GC_AD33[i+1,:,:,:])/2"
   ]
  },
  {
   "cell_type": "code",
   "execution_count": 5,
   "metadata": {},
   "outputs": [],
   "source": [
    "LA0_mol = LA0[:,:,:,:]*GC_AD0[:,:,:,:] # [mol]\n",
    "LA1_mol = LA1[:,:,:,:]*GC_AD1[:,:,:,:] # [mol]\n",
    "EU3_mol = EU3[:,:,:,:]*GC_AD3[:,:,:,:] # [mol]\n",
    "\n",
    "LA0_C   = LA0_mol[:,:,:,:]/GC_V0[:,:,:,:] # [mol/cm3]\n",
    "LA1_C   = LA1_mol[:,:,:,:]/GC_V1[:,:,:,:] # [mol/cm3]\n",
    "EU3_C   = EU3_mol[:,:,:,:]/GC_V3[:,:,:,:]"
   ]
  },
  {
   "cell_type": "code",
   "execution_count": 6,
   "metadata": {},
   "outputs": [
    {
     "data": {
      "text/plain": [
       "180145.57225"
      ]
     },
     "execution_count": 6,
     "metadata": {},
     "output_type": "execute_result"
    }
   ],
   "source": [
    "np.sum(EU3_mol[0,:,:,:])*98/1000 # [kg]"
   ]
  },
  {
   "cell_type": "code",
   "execution_count": 7,
   "metadata": {},
   "outputs": [],
   "source": [
    "Nt = 21"
   ]
  },
  {
   "cell_type": "code",
   "execution_count": 8,
   "metadata": {},
   "outputs": [],
   "source": [
    "# (1) GEOS-Chem\n",
    "\n",
    "EU3_V_cumsum_frac_time = []\n",
    "EU3_mass_cumsum_frac_time = []\n",
    "\n",
    "\n",
    "for it in range(Nt):\n",
    "    # concentration\n",
    "    EU3_C_1D = EU3_C[it,:,:,:].reshape(Nx*Ny*Nz)\n",
    "     \n",
    "    # mass\n",
    "    EU3_mol_1D = EU3_mol[it,:,:,:].reshape(Nx*Ny*Nz)\n",
    "\n",
    "    # grid cell volume\n",
    "    GC_V3_1D = GC_V3[it,:,:,:].reshape(Nx*Ny*Nz)\n",
    "\n",
    "    # get index for sorted concentration\n",
    "    EU3_index = EU3_C_1D.argsort()\n",
    "    EU3_C_sorted = EU3_C_1D[EU3_index]\n",
    "    EU3_V_sorted = GC_V3_1D[EU3_index]\n",
    "    EU3_mass_sorted = EU3_mol_1D[EU3_index]\n",
    "\n",
    "    # cumulative sum\n",
    "    EU3_V_cumsum = np.cumsum(EU3_V_sorted)\n",
    "    EU3_mass_cumsum = np.cumsum(EU3_mass_sorted)\n",
    "\n",
    "    # calculate fraction\n",
    "    length3 = len(EU3_V_cumsum)\n",
    "    EU3_V_cumsum_frac = EU3_V_cumsum/EU3_V_cumsum[length3-1]\n",
    "    EU3_mass_cumsum_frac = EU3_mass_cumsum/EU3_mass_cumsum[length3-1]\n",
    "\n",
    "    EU3_V_cumsum_frac_time.append(EU3_V_cumsum_frac)\n",
    "    EU3_mass_cumsum_frac_time.append(EU3_mass_cumsum_frac)\n"
   ]
  },
  {
   "cell_type": "code",
   "execution_count": 9,
   "metadata": {},
   "outputs": [],
   "source": [
    "# (2) PiG model: Instant Dilution in Post_process\n",
    "\n",
    "LA0_V_cumsum_frac_time = []\n",
    "LA0_mass_cumsum_frac_time = []\n",
    "\n",
    "\n",
    "for it in range(Nt):\n",
    "    # concentration\n",
    "    LA0_C_1D = LA0_C[it,:,:,:].reshape(Nx*Ny*Nz)\n",
    "     \n",
    "    # mass\n",
    "    LA0_mol_1D = LA0_mol[it,:,:,:].reshape(Nx*Ny*Nz)\n",
    "\n",
    "    # grid cell volume\n",
    "    GC_V0_1D = GC_V0[it,:,:,:].reshape(Nx*Ny*Nz)\n",
    "\n",
    "    # get index for sorted concentration\n",
    "    LA0_index = LA0_C_1D.argsort()\n",
    "    LA0_C_sorted = LA0_C_1D[LA0_index]\n",
    "    LA0_V_sorted = GC_V0_1D[LA0_index]\n",
    "    LA0_mass_sorted = LA0_mol_1D[LA0_index]\n",
    "\n",
    "    # cumulative sum\n",
    "    LA0_V_cumsum = np.cumsum(LA0_V_sorted)\n",
    "    LA0_mass_cumsum = np.cumsum(LA0_mass_sorted)\n",
    "\n",
    "    # calculate fraction\n",
    "    length0 = len(LA0_V_cumsum)\n",
    "    LA0_V_cumsum_frac = LA0_V_cumsum/LA0_V_cumsum[length0-1]\n",
    "    LA0_mass_cumsum_frac = LA0_mass_cumsum/LA0_mass_cumsum[length0-1]\n",
    "\n",
    "    LA0_V_cumsum_frac_time.append(LA0_V_cumsum_frac)\n",
    "    LA0_mass_cumsum_frac_time.append(LA0_mass_cumsum_frac)"
   ]
  },
  {
   "cell_type": "code",
   "execution_count": 10,
   "metadata": {},
   "outputs": [
    {
     "data": {
      "text/plain": [
       "(2.6324279e+20, 2.2337324e+16, 91695336.0)"
      ]
     },
     "execution_count": 10,
     "metadata": {},
     "output_type": "execute_result"
    }
   ],
   "source": [
    "# output the min and max volume for Eulerian grid cells\n",
    "np.max(GC_V1[:,:,:,:]), np.min(GC_V1[:,:,:,:]), np.sum(LA1_mol)"
   ]
  },
  {
   "cell_type": "code",
   "execution_count": 11,
   "metadata": {},
   "outputs": [
    {
     "name": "stderr",
     "output_type": "stream",
     "text": [
      "100%|██████████| 733440/733440 [22:29<00:00, 543.40it/s]  \n",
      "100%|██████████| 711480/711480 [21:15<00:00, 557.80it/s]  \n",
      "100%|██████████| 703920/703920 [20:59<00:00, 558.77it/s]  \n",
      "100%|██████████| 679560/679560 [20:26<00:00, 554.11it/s]  \n",
      "100%|██████████| 593640/593640 [17:52<00:00, 553.48it/s]\n",
      "100%|██████████| 512880/512880 [15:28<00:00, 552.30it/s]\n",
      "100%|██████████| 471120/471120 [14:09<00:00, 554.31it/s]\n",
      "100%|██████████| 443160/443160 [13:12<00:00, 559.04it/s]\n",
      "100%|██████████| 387360/387360 [11:30<00:00, 560.62it/s]\n",
      "100%|██████████| 299640/299640 [08:56<00:00, 558.82it/s]\n",
      "100%|██████████| 203520/203520 [06:04<00:00, 557.77it/s]\n",
      "100%|██████████| 129720/129720 [03:54<00:00, 554.22it/s]\n",
      "100%|██████████| 68640/68640 [02:03<00:00, 553.60it/s]\n",
      "100%|██████████| 38400/38400 [01:07<00:00, 565.65it/s]\n",
      "100%|██████████| 12840/12840 [00:22<00:00, 568.72it/s]\n",
      "100%|██████████| 1560/1560 [00:02<00:00, 574.28it/s]\n",
      "100%|██████████| 1440/1440 [00:02<00:00, 584.23it/s]\n",
      "100%|██████████| 120/120 [00:00<00:00, 574.06it/s]\n",
      "100%|██████████| 120/120 [00:00<00:00, 613.41it/s]\n"
     ]
    },
    {
     "ename": "ValueError",
     "evalue": "Length mismatch: Expected axis has 2 elements, new values have 5 elements",
     "output_type": "error",
     "traceback": [
      "\u001b[0;31m---------------------------------------------------------------------------\u001b[0m",
      "\u001b[0;31mValueError\u001b[0m                                Traceback (most recent call last)",
      "\u001b[0;32m<ipython-input-11-8a18bb838dd8>\u001b[0m in \u001b[0;36m<module>\u001b[0;34m\u001b[0m\n\u001b[1;32m     19\u001b[0m \u001b[0;34m\u001b[0m\u001b[0m\n\u001b[1;32m     20\u001b[0m         \u001b[0mdf1\u001b[0m \u001b[0;34m=\u001b[0m \u001b[0mpd\u001b[0m\u001b[0;34m.\u001b[0m\u001b[0mread_fwf\u001b[0m\u001b[0;34m(\u001b[0m\u001b[0mfile1_name\u001b[0m\u001b[0;34m,\u001b[0m \u001b[0mheader\u001b[0m\u001b[0;34m=\u001b[0m\u001b[0;32mNone\u001b[0m\u001b[0;34m,\u001b[0m \u001b[0msep\u001b[0m\u001b[0;34m=\u001b[0m\u001b[0;34m\" \"\u001b[0m\u001b[0;34m)\u001b[0m\u001b[0;34m\u001b[0m\u001b[0;34m\u001b[0m\u001b[0m\n\u001b[0;32m---> 21\u001b[0;31m         \u001b[0mdf1\u001b[0m\u001b[0;34m.\u001b[0m\u001b[0mcolumns\u001b[0m   \u001b[0;34m=\u001b[0m \u001b[0;34m[\u001b[0m\u001b[0;34m\"i_lon\"\u001b[0m\u001b[0;34m,\u001b[0m\u001b[0;34m\"i_lat\"\u001b[0m\u001b[0;34m,\u001b[0m\u001b[0;34m\"i_lev\"\u001b[0m\u001b[0;34m,\u001b[0m\u001b[0;34m\"Concnt\"\u001b[0m\u001b[0;34m,\u001b[0m\u001b[0;34m\"Volume\"\u001b[0m\u001b[0;34m]\u001b[0m \u001b[0;31m# [molec/cm3], [cm3]\u001b[0m\u001b[0;34m\u001b[0m\u001b[0;34m\u001b[0m\u001b[0m\n\u001b[0m\u001b[1;32m     22\u001b[0m         \u001b[0mdf1\u001b[0m\u001b[0;34m[\u001b[0m\u001b[0;34m'Concnt'\u001b[0m\u001b[0;34m]\u001b[0m \u001b[0;34m=\u001b[0m \u001b[0mpd\u001b[0m\u001b[0;34m.\u001b[0m\u001b[0mto_numeric\u001b[0m\u001b[0;34m(\u001b[0m\u001b[0mdf1\u001b[0m\u001b[0;34m[\u001b[0m\u001b[0;34m'Concnt'\u001b[0m\u001b[0;34m]\u001b[0m\u001b[0;34m,\u001b[0m \u001b[0merrors\u001b[0m\u001b[0;34m=\u001b[0m\u001b[0;34m'coerce'\u001b[0m\u001b[0;34m)\u001b[0m\u001b[0;34m\u001b[0m\u001b[0;34m\u001b[0m\u001b[0m\n\u001b[1;32m     23\u001b[0m \u001b[0;34m\u001b[0m\u001b[0m\n",
      "\u001b[0;32m~/.conda/envs/SUNenv/lib/python3.8/site-packages/pandas/core/generic.py\u001b[0m in \u001b[0;36m__setattr__\u001b[0;34m(self, name, value)\u001b[0m\n\u001b[1;32m   5150\u001b[0m         \u001b[0;32mtry\u001b[0m\u001b[0;34m:\u001b[0m\u001b[0;34m\u001b[0m\u001b[0;34m\u001b[0m\u001b[0m\n\u001b[1;32m   5151\u001b[0m             \u001b[0mobject\u001b[0m\u001b[0;34m.\u001b[0m\u001b[0m__getattribute__\u001b[0m\u001b[0;34m(\u001b[0m\u001b[0mself\u001b[0m\u001b[0;34m,\u001b[0m \u001b[0mname\u001b[0m\u001b[0;34m)\u001b[0m\u001b[0;34m\u001b[0m\u001b[0;34m\u001b[0m\u001b[0m\n\u001b[0;32m-> 5152\u001b[0;31m             \u001b[0;32mreturn\u001b[0m \u001b[0mobject\u001b[0m\u001b[0;34m.\u001b[0m\u001b[0m__setattr__\u001b[0m\u001b[0;34m(\u001b[0m\u001b[0mself\u001b[0m\u001b[0;34m,\u001b[0m \u001b[0mname\u001b[0m\u001b[0;34m,\u001b[0m \u001b[0mvalue\u001b[0m\u001b[0;34m)\u001b[0m\u001b[0;34m\u001b[0m\u001b[0;34m\u001b[0m\u001b[0m\n\u001b[0m\u001b[1;32m   5153\u001b[0m         \u001b[0;32mexcept\u001b[0m \u001b[0mAttributeError\u001b[0m\u001b[0;34m:\u001b[0m\u001b[0;34m\u001b[0m\u001b[0;34m\u001b[0m\u001b[0m\n\u001b[1;32m   5154\u001b[0m             \u001b[0;32mpass\u001b[0m\u001b[0;34m\u001b[0m\u001b[0;34m\u001b[0m\u001b[0m\n",
      "\u001b[0;32mpandas/_libs/properties.pyx\u001b[0m in \u001b[0;36mpandas._libs.properties.AxisProperty.__set__\u001b[0;34m()\u001b[0m\n",
      "\u001b[0;32m~/.conda/envs/SUNenv/lib/python3.8/site-packages/pandas/core/generic.py\u001b[0m in \u001b[0;36m_set_axis\u001b[0;34m(self, axis, labels)\u001b[0m\n\u001b[1;32m    562\u001b[0m     \u001b[0;32mdef\u001b[0m \u001b[0m_set_axis\u001b[0m\u001b[0;34m(\u001b[0m\u001b[0mself\u001b[0m\u001b[0;34m,\u001b[0m \u001b[0maxis\u001b[0m\u001b[0;34m:\u001b[0m \u001b[0mint\u001b[0m\u001b[0;34m,\u001b[0m \u001b[0mlabels\u001b[0m\u001b[0;34m:\u001b[0m \u001b[0mIndex\u001b[0m\u001b[0;34m)\u001b[0m \u001b[0;34m->\u001b[0m \u001b[0;32mNone\u001b[0m\u001b[0;34m:\u001b[0m\u001b[0;34m\u001b[0m\u001b[0;34m\u001b[0m\u001b[0m\n\u001b[1;32m    563\u001b[0m         \u001b[0mlabels\u001b[0m \u001b[0;34m=\u001b[0m \u001b[0mensure_index\u001b[0m\u001b[0;34m(\u001b[0m\u001b[0mlabels\u001b[0m\u001b[0;34m)\u001b[0m\u001b[0;34m\u001b[0m\u001b[0;34m\u001b[0m\u001b[0m\n\u001b[0;32m--> 564\u001b[0;31m         \u001b[0mself\u001b[0m\u001b[0;34m.\u001b[0m\u001b[0m_mgr\u001b[0m\u001b[0;34m.\u001b[0m\u001b[0mset_axis\u001b[0m\u001b[0;34m(\u001b[0m\u001b[0maxis\u001b[0m\u001b[0;34m,\u001b[0m \u001b[0mlabels\u001b[0m\u001b[0;34m)\u001b[0m\u001b[0;34m\u001b[0m\u001b[0;34m\u001b[0m\u001b[0m\n\u001b[0m\u001b[1;32m    565\u001b[0m         \u001b[0mself\u001b[0m\u001b[0;34m.\u001b[0m\u001b[0m_clear_item_cache\u001b[0m\u001b[0;34m(\u001b[0m\u001b[0;34m)\u001b[0m\u001b[0;34m\u001b[0m\u001b[0;34m\u001b[0m\u001b[0m\n\u001b[1;32m    566\u001b[0m \u001b[0;34m\u001b[0m\u001b[0m\n",
      "\u001b[0;32m~/.conda/envs/SUNenv/lib/python3.8/site-packages/pandas/core/internals/managers.py\u001b[0m in \u001b[0;36mset_axis\u001b[0;34m(self, axis, new_labels)\u001b[0m\n\u001b[1;32m    224\u001b[0m \u001b[0;34m\u001b[0m\u001b[0m\n\u001b[1;32m    225\u001b[0m         \u001b[0;32mif\u001b[0m \u001b[0mnew_len\u001b[0m \u001b[0;34m!=\u001b[0m \u001b[0mold_len\u001b[0m\u001b[0;34m:\u001b[0m\u001b[0;34m\u001b[0m\u001b[0;34m\u001b[0m\u001b[0m\n\u001b[0;32m--> 226\u001b[0;31m             raise ValueError(\n\u001b[0m\u001b[1;32m    227\u001b[0m                 \u001b[0;34mf\"Length mismatch: Expected axis has {old_len} elements, new \"\u001b[0m\u001b[0;34m\u001b[0m\u001b[0;34m\u001b[0m\u001b[0m\n\u001b[1;32m    228\u001b[0m                 \u001b[0;34mf\"values have {new_len} elements\"\u001b[0m\u001b[0;34m\u001b[0m\u001b[0;34m\u001b[0m\u001b[0m\n",
      "\u001b[0;31mValueError\u001b[0m: Length mismatch: Expected axis has 2 elements, new values have 5 elements"
     ]
    }
   ],
   "source": [
    "# (3) PiG model: No Instant Dilution in Post_process\n",
    "\n",
    "LA1_V_cumsum_frac_time = []\n",
    "LA1_mass_cumsum_frac_time = []\n",
    "\n",
    "date1 = datetime.date(2015, 1, 1)\n",
    "delta = datetime.timedelta(days=1)\n",
    "\n",
    "for it in range(Nt):\n",
    "    \n",
    "    if it<=19:\n",
    "        date1 = date1 + delta\n",
    "\n",
    "        date1_name = datetime.datetime.strftime(date1, '%Y-%-m-%-d')\n",
    "\n",
    "        Dir = '/n/home12/hongwei/HONGWEI/GC_run_13.0/1_plume_in_60deg/final/Gini/gc_2x25_lagrange_final'\n",
    "        file1_name = Dir+'/Lagrange_Concnt_Volume_'+date1_name+'-0:0:0.txt'\n",
    "    \n",
    "    \n",
    "        df1 = pd.read_fwf(file1_name, header=None, sep=\" \")\n",
    "        df1.columns   = [\"i_lon\",\"i_lat\",\"i_lev\",\"Concnt\",\"Volume\"] # [molec/cm3], [cm3]\n",
    "        df1['Concnt'] = pd.to_numeric(df1['Concnt'], errors='coerce')\n",
    "        \n",
    "        # replace all the nan with 0\n",
    "        df1['Concnt'] = df1['Concnt'].fillna(0)\n",
    "\n",
    "        Plume_C_old = df1['Concnt']/NA  # [mol/cm3]\n",
    "        Plume_V_old = df1['Volume']     # [cm3]\n",
    "        Plume_M_old = Plume_C_old*Plume_V_old   # [mol]\n",
    "        \n",
    "        \n",
    "        Plume_C, Plume_V, Plume_M = [],[],[]\n",
    "        \n",
    "        \n",
    "        for i_cell in tqdm(range(len(df1))):\n",
    "            i_lon = df1[i_cell:i_cell+1]['i_lon']-1 # index in Fortran begins at 1, in python begins at 0\n",
    "            i_lat = df1[i_cell:i_cell+1]['i_lat']-1\n",
    "            i_lev = df1[i_cell:i_cell+1]['i_lev']-1\n",
    "            \n",
    "            \n",
    "            if Plume_C_old[i_cell:i_cell+1].values>LA1_C[it,i_lev,i_lat,i_lon]:\n",
    "                Plume_C.append(Plume_C_old[i_cell:i_cell+1] + LA1_C[it,i_lev,i_lat,i_lon])\n",
    "                Plume_V.append(Plume_V_old[i_cell:i_cell+1])\n",
    "                Plume_M.append(Plume_M_old[i_cell:i_cell+1])\n",
    "                GC_V1[it,i_lev,i_lat,i_lon] = GC_V1[it,i_lev,i_lat,i_lon] - Plume_V_old[i_cell:i_cell+1].values\n",
    "            else:\n",
    "                LA1_mol[it,i_lev,i_lat,i_lon] = LA1_mol[it,i_lev,i_lat,i_lon]+Plume_M_old[i_cell:i_cell+1].values\n",
    "                LA1_C[it,i_lev,i_lat,i_lon] = LA1_mol[it,i_lev,i_lat,i_lon]/GC_V1[it,i_lev,i_lat,i_lon]\n",
    "            \n",
    "    # Check for the negative volume in GEOS-Chem grid cell\n",
    "    \n",
    "    \n",
    "    # grid cell concentration, mass, volume\n",
    "    LA1_C_1D   = LA1_C[it,:,:,:].reshape(Nx*Ny*Nz)\n",
    "    LA1_mol_1D = LA1_mol[it,:,:,:].reshape(Nx*Ny*Nz)\n",
    "    GC_V1_1D   = GC_V1[it,:,:,:].reshape(Nx*Ny*Nz)\n",
    "    \n",
    "    if it<=19:\n",
    "        LA1_C_1D   = np.concatenate((LA1_C_1D, np.squeeze(np.array(Plume_C))))\n",
    "        LA1_mol_1D = np.concatenate((LA1_mol_1D, np.squeeze(np.array(Plume_M))))\n",
    "        GC_V1_1D   = np.concatenate((GC_V1_1D, np.squeeze(np.array(Plume_V))))\n",
    "\n",
    "        \n",
    "    d = {'Concnt_mol_cm3':LA1_C_1D, 'Volume_cm3':GC_V1_1D,  'Mass_mol':LA1_mol_1D}\n",
    "    df0 = pd.DataFrame(data=d)\n",
    "    df0.to_csv('Gini_All_Grid_Cell_GEOS-Chem_Plume'+date1_name+'-0:0:0.csv', index = False)\n",
    "    \n",
    "    \n",
    "    df00 = pd.read_csv('Gini_All_Grid_Cell_GEOS-Chem_Plume'+date1_name+'-0:0:0.csv', sep=\",\")\n",
    "    LA1_C_1D   = df00['Concnt_mol_cm3'].values\n",
    "    GC_V1_1D   = df00['Volume_cm3'].values\n",
    "    LA1_mol_1D = df00['Mass_mol'].values\n",
    "    \n",
    "    \n",
    "    \n",
    "    # get index for sorted concentration\n",
    "    LA1_index = LA1_C_1D.argsort()\n",
    "    LA1_C_sorted = LA1_C_1D[LA1_index]\n",
    "    LA1_V_sorted = GC_V1_1D[LA1_index]\n",
    "    LA1_mass_sorted = LA1_mol_1D[LA1_index]\n",
    "\n",
    "    # cumulative sum\n",
    "    LA1_V_cumsum = np.cumsum(LA1_V_sorted)\n",
    "    LA1_mass_cumsum = np.cumsum(LA1_mass_sorted)\n",
    "\n",
    "    # calculate fraction\n",
    "    length0 = len(LA1_V_cumsum)\n",
    "    LA1_V_cumsum_frac = LA1_V_cumsum/LA1_V_cumsum[length0-1]\n",
    "    LA1_mass_cumsum_frac = LA1_mass_cumsum/LA1_mass_cumsum[length0-1]\n",
    "\n",
    "    LA1_V_cumsum_frac_time.append(LA1_V_cumsum_frac)\n",
    "    LA1_mass_cumsum_frac_time.append(LA1_mass_cumsum_frac)"
   ]
  },
  {
   "cell_type": "code",
   "execution_count": null,
   "metadata": {},
   "outputs": [],
   "source": [
    "np.argwhere(np.isnan(LA1_mol_1D))"
   ]
  },
  {
   "cell_type": "code",
   "execution_count": null,
   "metadata": {},
   "outputs": [],
   "source": [
    "\n",
    "np.argwhere(np.isnan(Plume_C_old.values))"
   ]
  },
  {
   "cell_type": "code",
   "execution_count": null,
   "metadata": {},
   "outputs": [],
   "source": [
    "Plume_V_old.values"
   ]
  },
  {
   "cell_type": "code",
   "execution_count": null,
   "metadata": {},
   "outputs": [],
   "source": [
    "np.nansum(LA1_mol_1D)"
   ]
  },
  {
   "cell_type": "code",
   "execution_count": null,
   "metadata": {},
   "outputs": [],
   "source": [
    "print(np.sum(np.array(Plume_M)), np.sum(LA1_mol_1D), np.sum(LA0_mol_1D), len(Plume_M), len(Plume_C))"
   ]
  },
  {
   "cell_type": "code",
   "execution_count": null,
   "metadata": {},
   "outputs": [],
   "source": [
    "LA1_mol_1D"
   ]
  },
  {
   "cell_type": "code",
   "execution_count": null,
   "metadata": {},
   "outputs": [],
   "source": [
    "print(np.sum(Plume_V), np.sum(GC_V1_1D), np.sum(GC_V0_1D))"
   ]
  },
  {
   "cell_type": "code",
   "execution_count": null,
   "metadata": {},
   "outputs": [],
   "source": [
    "len(EU3_mass_cumsum)"
   ]
  },
  {
   "cell_type": "code",
   "execution_count": 12,
   "metadata": {},
   "outputs": [
    {
     "data": {
      "image/png": "[encoded data removed]",
      "text/plain": [
       "<Figure size 1000x600 with 3 Axes>"
      ]
     },
     "metadata": {
      "needs_background": "light"
     },
     "output_type": "display_data"
    }
   ],
   "source": [
    "figure, axs = plt.subplots(3,1, sharex=True, figsize=(10,6), dpi=100)\n",
    "\n",
    "\n",
    "# (1)\n",
    "begin = 1\n",
    "axs[0].plot(EU3_mass_cumsum[begin::], EU3_C_sorted[begin::], 'r-', label='GEOS-Chem')\n",
    "axs[0].plot(LA0_mass_cumsum[begin::], LA0_C_sorted[begin::], 'b-.', label='PiG model (Instant Dilution in Post-Process)')\n",
    "axs[0].plot(LA1_mass_cumsum[begin::], LA1_C_sorted[begin::], 'y--', label='PiG model (No Instant Dilution in Post-Process)')\n",
    "\n",
    "# axs[0].set_yscale('log')\n",
    "\n",
    "# axs[0].set_xlabel(f'Total Mass of Tracer [$mol$]')\n",
    "axs[0].set_ylabel(f'Concentration [$mol \\cdot cm^{-3}$]')\n",
    "axs[0].set_title(f'Day {it}')\n",
    "axs[0].legend();\n",
    "\n",
    "# (2)\n",
    "axs[1].plot(EU3_mass_cumsum[begin::], EU3_C_sorted[begin::], 'r-', label='GEOS-Chem')\n",
    "axs[1].plot(LA0_mass_cumsum[begin::], LA0_C_sorted[begin::], 'b-.', label='PiG model (Instant Dilution in Post-Process)')\n",
    "\n",
    "# plt.yscale('log')\n",
    "\n",
    "# axs[1].set_xlabel(f'Total Mass of Tracer [$mol$]')\n",
    "axs[1].set_ylabel(f'Tracer Concentration');\n",
    "axs[1].legend();\n",
    "\n",
    "\n",
    "# (3)\n",
    "axs[2].plot(EU3_mass_cumsum[begin::], EU3_C_sorted[begin::], 'r-', label='GEOS-Chem')\n",
    "# axs[2].plot(LA0_mass_cumsum[begin::], LA0_C_sorted[begin::], 'b-.', label='PiG model (Instant Dilution in Post-Process)')\n",
    "\n",
    "# plt.yscale('log')\n",
    "\n",
    "axs[2].set_xlabel(f'Total Mass of Tracer [$mol$]')\n",
    "axs[2].set_ylabel(f'Tracer Concentration');\n",
    "axs[2].legend();\n",
    "\n",
    "plt.tight_layout()"
   ]
  },
  {
   "cell_type": "code",
   "execution_count": null,
   "metadata": {},
   "outputs": [],
   "source": [
    "plt.plot(EU3_C_sorted,'.')"
   ]
  },
  {
   "cell_type": "code",
   "execution_count": null,
   "metadata": {},
   "outputs": [],
   "source": [
    "plt.plot(LA1_C_sorted,'.')"
   ]
  },
  {
   "cell_type": "code",
   "execution_count": null,
   "metadata": {},
   "outputs": [],
   "source": [
    "plt.plot(Plume_C,'.')"
   ]
  },
  {
   "cell_type": "code",
   "execution_count": null,
   "metadata": {},
   "outputs": [],
   "source": [
    "# Plot CFD curve: mass vs. area in the END of the simulation\n",
    "plt.figure(figsize=(6,4), dpi= 100)\n",
    "\n",
    "it = 0\n",
    "\n",
    "plt.plot(EU3_V_cumsum_frac_time[it],EU3_mass_cumsum_frac_time[it],'b',label=f'GEOS-Chem')\n",
    "\n",
    "plt.plot(LA0_V_cumsum_frac_time[it],LA0_mass_cumsum_frac_time[it],'r--',label=f'PiG with instant dilution Post-process')\n",
    "plt.plot(LA1_V_cumsum_frac_time[it],LA1_mass_cumsum_frac_time[it],'b--',label=f'PiG without instant dilution Post-process')\n",
    "\n",
    "diag = np.linspace(0,1,30)\n",
    "plt.plot(diag,diag,'k')\n",
    "\n",
    "plt.plot(0*diag+1,diag,'k--', alpha=0.6)\n",
    "plt.plot(diag,0*diag,'k--', alpha=0.6)\n",
    "\n",
    "\n",
    "# plt.text(0.57, 0.32, '$S_1$', fontsize=12)\n",
    "# plt.text(0.73, 0.2, '$S_2$', fontsize=12)\n",
    "# plt.text(0.87, 0.1, '$S_3$', fontsize=12)\n",
    "\n",
    "\n",
    "#plt.legend(loc='upper left')\n",
    "# plt.title(' Cumulative Fraction from Lower to Higher Concentration')\n",
    "plt.xlabel('Cumulative Volume Fraction', fontsize=12)\n",
    "plt.ylabel('Cumulative Mass Fraction', fontsize=12)\n",
    "plt.title(f'Gin3D on Day={it}', fontsize=12)\n",
    "plt.legend();\n",
    "\n",
    "# plt.savefig('CDF_Area_Mass.png')"
   ]
  },
  {
   "cell_type": "code",
   "execution_count": null,
   "metadata": {},
   "outputs": [],
   "source": [
    "# calculate Gini coefficient\n",
    "\n",
    "Gini_Eu3_time,Gini_La0_time,Gini_La1_time = [],[],[]\n",
    "\n",
    "for it in range(Nt):\n",
    "    diag = np.linspace(0,1,100)\n",
    "    Al = np.trapz(diag, diag)\n",
    "\n",
    "    EU3 = np.trapz(EU3_mass_cumsum_frac_time[it], EU3_V_cumsum_frac_time[it])\n",
    "    LA0 = np.trapz(LA0_mass_cumsum_frac_time[it], LA0_V_cumsum_frac_time[it])\n",
    "    LA1 = np.trapz(LA1_mass_cumsum_frac_time[it], LA1_V_cumsum_frac_time[it])\n",
    "\n",
    "    Gini_Eu3 = (Al-EU3)/Al\n",
    "    Gini_La0 = (Al-LA0)/Al\n",
    "    Gini_La1 = (Al-LA1)/Al\n",
    "\n",
    "    Gini_Eu3_time.append(Gini_Eu3)\n",
    "    Gini_La0_time.append(Gini_La0)\n",
    "    Gini_La1_time.append(Gini_La1)\n",
    "\n",
    "    \n",
    "print(Al)\n",
    "print('Gini_La_Eu')\n",
    "print(Gini_Eu3)\n",
    "print(Gini_La1)"
   ]
  },
  {
   "cell_type": "code",
   "execution_count": null,
   "metadata": {},
   "outputs": [],
   "source": [
    "figure = plt.figure(figsize=(6,3), dpi=100)\n",
    "\n",
    "plt.plot(Gini_Eu3_time,'r--', label='GEOS-Chem')\n",
    "plt.plot(Gini_La0_time,'b', label='PiG with instant dilution post-process')\n",
    "plt.plot(Gini_La1_time,'y--', label='PiG without instant dilution post-process')\n",
    "\n",
    "plt.ylabel('Gini 3D', fontsize=12)\n",
    "plt.xlabel('Day')\n",
    "plt.legend();"
   ]
  },
  {
   "cell_type": "code",
   "execution_count": null,
   "metadata": {},
   "outputs": [],
   "source": [
    "figure = plt.figure(figsize=(6,3), dpi=100)\n",
    "\n",
    "plt.plot(Gini_Eu3_time[0:10],'k', label='GEOS-Chem')\n",
    "plt.plot(Gini_La0_time[0:10],'b', label='PiG with instant dilution post-process')\n",
    "plt.plot(Gini_La1_time[0:10],'r--', label='PiG without instant dilution post-process')\n",
    "\n",
    "plt.ylabel('Gini 3D', fontsize=12)\n",
    "plt.xlabel('Day')\n",
    "plt.legend();"
   ]
  },
  {
   "cell_type": "code",
   "execution_count": null,
   "metadata": {},
   "outputs": [],
   "source": [
    "Dir = '/n/home12/hongwei/HONGWEI/GC_run_13.0/1_plume_in_60deg/final/Gini/gc_2x25_lagrange_final'\n",
    "file1_name = Dir+'/Lagrange_Concnt_Volume_2015-1-2-0:0:0.txt'\n",
    "    \n",
    "    \n",
    "df1 = pd.read_fwf(file1_name, header=None, sep=\" \")\n",
    "df1.columns = [\"i_lon\",\"i_lat\",\"i_lev\",\"Concnt\", \"Volume\"] # [molec/cm3], [cm3]\n",
    "df1[0:243*117]"
   ]
  },
  {
   "cell_type": "code",
   "execution_count": null,
   "metadata": {},
   "outputs": [],
   "source": [
    "# df1['Concnt'].astype('float')\n",
    "df1['Concnt'] = pd.to_numeric(df1['Concnt'], errors='coerce')\n",
    "df1['Concnt'][0:243*117]"
   ]
  },
  {
   "cell_type": "code",
   "execution_count": null,
   "metadata": {},
   "outputs": [],
   "source": [
    "df2 = df1[ df1['Concnt'] != 0 ] \n",
    "df2"
   ]
  },
  {
   "cell_type": "code",
   "execution_count": null,
   "metadata": {},
   "outputs": [],
   "source": [
    "len(df1), len(df2)"
   ]
  },
  {
   "cell_type": "code",
   "execution_count": null,
   "metadata": {},
   "outputs": [],
   "source": []
  },
  {
   "cell_type": "code",
   "execution_count": null,
   "metadata": {},
   "outputs": [],
   "source": [
    "df1[\"Volume\"]"
   ]
  },
  {
   "cell_type": "code",
   "execution_count": null,
   "metadata": {},
   "outputs": [],
   "source": [
    "df1[0:243*117]"
   ]
  },
  {
   "cell_type": "code",
   "execution_count": null,
   "metadata": {},
   "outputs": [],
   "source": [
    "df1.shape"
   ]
  },
  {
   "cell_type": "code",
   "execution_count": null,
   "metadata": {},
   "outputs": [],
   "source": [
    " len(df1)"
   ]
  },
  {
   "cell_type": "code",
   "execution_count": null,
   "metadata": {},
   "outputs": [],
   "source": [
    "df1[0:1]['i_lon']"
   ]
  },
  {
   "cell_type": "code",
   "execution_count": null,
   "metadata": {},
   "outputs": [],
   "source": [
    "df1['Volume'].sum()"
   ]
  },
  {
   "cell_type": "code",
   "execution_count": null,
   "metadata": {},
   "outputs": [],
   "source": [
    "plt.plot(df1['Concnt'][0:243*117],'.');"
   ]
  },
  {
   "cell_type": "code",
   "execution_count": null,
   "metadata": {},
   "outputs": [],
   "source": [
    "c = df1['Concnt'][0:243*117]\n",
    "v = df1['Volume'][0:243*117]\n",
    "np.sum(c*v)/NA, np.sum(c*v)/NA*98/1000 # [kg]"
   ]
  },
  {
   "cell_type": "code",
   "execution_count": null,
   "metadata": {},
   "outputs": [],
   "source": [
    "c = df1['Concnt']\n",
    "v = df1['Volume']\n",
    "np.sum(c*v)/NA*98/1000 # [kg]"
   ]
  },
  {
   "cell_type": "code",
   "execution_count": null,
   "metadata": {},
   "outputs": [],
   "source": [
    "# np.sum(EU3_mol[0,:,:,:])*98/1000 # [kg]"
   ]
  },
  {
   "cell_type": "code",
   "execution_count": null,
   "metadata": {},
   "outputs": [],
   "source": [
    "df1 = pd.DataFrame(C1d_center)\n",
    "df1.to_csv('C1d_center_time_series_10min.txt', index = False)"
   ]
  },
  {
   "cell_type": "code",
   "execution_count": null,
   "metadata": {},
   "outputs": [],
   "source": [
    "d = {'col1': df1['Concnt'], 'col2': df1['Volume']}\n",
    "df0 = pd.DataFrame(data=d)\n",
    "df0.to_csv('All_Grid_Cell_GEOS-Chem_Plume.txt', index = False)"
   ]
  },
  {
   "cell_type": "code",
   "execution_count": null,
   "metadata": {},
   "outputs": [],
   "source": [
    "df0"
   ]
  },
  {
   "cell_type": "code",
   "execution_count": null,
   "metadata": {},
   "outputs": [],
   "source": [
    "Dir = '/n/home12/hongwei/HONGWEI/GC_Python/Paper1_plot'\n",
    "file1_name = Dir+'/Gini_All_Grid_Cell_GEOS-Chem_Plume2015-1-2-0:0:0.csv'\n",
    "    \n",
    "    \n",
    "df1 = pd.read_csv(file1_name, sep=\",\")\n",
    "df1"
   ]
  },
  {
   "cell_type": "code",
   "execution_count": null,
   "metadata": {},
   "outputs": [],
   "source": [
    "LA1_C_1D = df1['Concnt_mol_cm3'].values\n",
    "\n",
    "LA1_C_1D[1:-1].shape"
   ]
  },
  {
   "cell_type": "code",
   "execution_count": null,
   "metadata": {},
   "outputs": [],
   "source": [
    "LA1_C_1D = df1['Concnt_mol_cm3'].values\n",
    "LA1_index = LA1_C_1D.argsort()\n",
    "LA1_C_sorted = LA1_C_1D[LA1_index]\n",
    "LA1_C_sorted"
   ]
  },
  {
   "cell_type": "code",
   "execution_count": null,
   "metadata": {},
   "outputs": [],
   "source": [
    "df1['Mass_mol'].min(), df1['Mass_mol'].max(), df1['Mass_mol'].sum()"
   ]
  },
  {
   "cell_type": "code",
   "execution_count": null,
   "metadata": {},
   "outputs": [],
   "source": [
    "df1['Volume_cm3'].min(), df1['Volume_cm3'].max()"
   ]
  },
  {
   "cell_type": "code",
   "execution_count": null,
   "metadata": {},
   "outputs": [],
   "source": [
    "np.sum(df1['Mass_mol'])"
   ]
  },
  {
   "cell_type": "code",
   "execution_count": null,
   "metadata": {},
   "outputs": [],
   "source": []
  }
 ],
 "metadata": {
  "kernelspec": {
   "display_name": "Python [conda env:.conda-SUNenv]",
   "language": "python",
   "name": "conda-env-.conda-SUNenv-py"
  },
  "language_info": {
   "codemirror_mode": {
    "name": "ipython",
    "version": 3
   },
   "file_extension": ".py",
   "mimetype": "text/x-python",
   "name": "python",
   "nbconvert_exporter": "python",
   "pygments_lexer": "ipython3",
   "version": "3.8.5"
  }
 },
 "nbformat": 4,
 "nbformat_minor": 4
}
