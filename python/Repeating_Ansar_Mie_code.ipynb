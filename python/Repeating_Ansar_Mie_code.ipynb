{
 "cells": [
  {
   "cell_type": "markdown",
   "id": "c201a0fe",
   "metadata": {},
   "source": [
    "## This is a repeat for Ansar's Mie code, which is used for understanding the Mie Scattering"
   ]
  },
  {
   "cell_type": "code",
   "execution_count": 1,
   "id": "e79ed9e1",
   "metadata": {},
   "outputs": [],
   "source": [
    "import numpy as np\n",
    "import matplotlib.pyplot as plt"
   ]
  },
  {
   "cell_type": "code",
   "execution_count": null,
   "id": "019e6550",
   "metadata": {},
   "outputs": [],
   "source": [
    "# Size Parameter: x\n",
    "# Index of Refraction: m\n",
    "# y = x*m"
   ]
  },
  {
   "cell_type": "code",
   "execution_count": 2,
   "id": "913c5044",
   "metadata": {},
   "outputs": [],
   "source": [
    "## Riccati-Bessel Function Calculations     \n",
    "def A(k, y):\n",
    "    if k == 0:\n",
    "        return np.cos(y)/np.sin(y)\n",
    "    else:\n",
    "        return -k/y + (k/y - A(k-1,y))**(-1)\n",
    "    \n",
    "def L(k, x):\n",
    "    if k == -1:\n",
    "        return np.cos(x) + complex(0,1)*np.sin(x)\n",
    "    if k == 0:\n",
    "        return np.sin(x) - complex(0,1)*np.cos(x)\n",
    "    else:\n",
    "        return (2*k-1)/x*L(k-1, x) - L(k-2, x)\n",
    "    \n",
    "def a(k, x, m):\n",
    "    y = x * m\n",
    "    return ((A(k,y)/m + k/x)*np.real(L(k, x)) - np.real(L(k-1, x)))/((A(k,y)/m + k/x)*L(k, x) - L(k-1, x))\n",
    "    \n",
    "def b(k, x, m):\n",
    "    y = x * m\n",
    "    return ((A(k,y)*m + k/x)*np.real(L(k, x)) - np.real(L(k-1, x)))/((A(k,y)*m + k/x)*L(k, x) - L(k-1, x))\n",
    "  \n",
    "def pi(k, theta):\n",
    "    if k == 0:\n",
    "        return 0\n",
    "    if k == 1:\n",
    "        return 1\n",
    "    else:\n",
    "        return (2*k - 1)*np.cos(theta)*pi(k - 1, theta)/(k - 1) - k*pi(k - 2, theta)/(k - 1)\n",
    "    \n",
    "def t(k, theta):\n",
    "    return k*np.cos(theta)*pi(k, theta) - (k + 1)*pi(k - 1, theta); "
   ]
  },
  {
   "cell_type": "code",
   "execution_count": 3,
   "id": "bb86fc30",
   "metadata": {},
   "outputs": [],
   "source": [
    "#### Cross Section Calculations ####\n",
    "# Summation definitions\n",
    "def rieSum1(x, m):\n",
    "    sum = 0\n",
    "    for k in range(1,20):\n",
    "        sum += (2*k + 1)*(np.real(a(k, x, m))**2 + np.imag(a(k, x, m))**2 + np.real(b(k, x, m))**2 + np.imag(b(k, x, m))**2)\n",
    "    return sum\n",
    "\n",
    "def rieSum2(x, m):\n",
    "    sum = 0\n",
    "    for k in range(1,20):\n",
    "        sum += (2*k + 1)*np.real(a(k, x, m) + b(k, x, m))\n",
    "    return sum\n",
    "\n",
    "def rieSum3(x, m):\n",
    "    sum = 0\n",
    "    for k in range(1,20):\n",
    "        sum += (2*k + 1)*(-1)**k*(a(k, x, m) - b(k, x, m))\n",
    "    return sum\n",
    "\n",
    "def S1(theta, x, m):\n",
    "    sum = 0\n",
    "    for k in range(1,20):\n",
    "        sum += (2*k + 1)/(k*(k + 1))*(a(k, x, m)*pi(k, theta) + b(k, x, m)*t(k, theta))\n",
    "    return sum\n",
    "\n",
    "def S2(theta, x, m):\n",
    "    sum = 0\n",
    "    for k in range(1,20):\n",
    "        sum += (2*k + 1)/(k*(k + 1))*(b(k, x, m)*pi(k, theta) + a(k, x, m)*t(k, theta))\n",
    "    return sum"
   ]
  },
  {
   "cell_type": "code",
   "execution_count": 4,
   "id": "bfe2ebc2",
   "metadata": {},
   "outputs": [],
   "source": [
    "# Functions for evaluating cross sections\n",
    "def scatter_eff(x, m):\n",
    "    return (2/x**2)*rieSum1(x, m)\n",
    "\n",
    "def extinct_eff(x, m):\n",
    "    return (2/x**2)*rieSum2(x, m)\n",
    "\n",
    "def backscatter_eff(x, m):\n",
    "    return (1/x**2) * np.abs(rieSum3(x, m))**2\n",
    "\n",
    "\n",
    "# Phase function\n",
    "def P(theta, x, m):\n",
    "    return (np.abs(S1(theta, x, m))**2 + np.abs(S2(theta, x, m))**2)/(rieSum1(x, m))\n"
   ]
  },
  {
   "cell_type": "code",
   "execution_count": 20,
   "id": "f677e7be",
   "metadata": {},
   "outputs": [
    {
     "name": "stdout",
     "output_type": "stream",
     "text": [
      "Liquid drop scattering efficiency: 0.00002\n",
      "Liquid drop extinction efficiency: 0.00032\n",
      "Liquid drop back scattering efficiency: 0.00003\n",
      "Liquid drop back scattering cross section: 0.00002\n"
     ]
    }
   ],
   "source": [
    "wavelength = 2 # [um]\n",
    "diameter = 0.0695 # [um]\n",
    "m = complex(1.384, 1.260E-03)\n",
    "x = np.pi*diameter/wavelength\n",
    "print(f\"Liquid drop scattering efficiency: {scatter_eff(x, m):.5f}\" )\n",
    "print(f\"Liquid drop extinction efficiency: {extinct_eff(x, m):.5f}\" )\n",
    "print(f\"Liquid drop back scattering efficiency: {backscatter_eff(x, m):.5f}\" )\n",
    "print(f\"Liquid drop back scattering cross section: {(np.pi*1**2/4)*backscatter_eff(x, m):.5f}\" )\n"
   ]
  },
  {
   "cell_type": "code",
   "execution_count": null,
   "id": "95d6569b",
   "metadata": {},
   "outputs": [],
   "source": []
  }
 ],
 "metadata": {
  "kernelspec": {
   "display_name": "Python [conda env:.conda-SUNenv]",
   "language": "python",
   "name": "conda-env-.conda-SUNenv-py"
  },
  "language_info": {
   "codemirror_mode": {
    "name": "ipython",
    "version": 3
   },
   "file_extension": ".py",
   "mimetype": "text/x-python",
   "name": "python",
   "nbconvert_exporter": "python",
   "pygments_lexer": "ipython3",
   "version": "3.8.5"
  }
 },
 "nbformat": 4,
 "nbformat_minor": 5
}
