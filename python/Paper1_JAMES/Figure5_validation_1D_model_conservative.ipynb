{
 "cells": [
  {
   "cell_type": "code",
   "execution_count": 1,
   "id": "77e37ef4",
   "metadata": {},
   "outputs": [],
   "source": [
    "# new model\n",
    "# 1. 2D Eulerian model (for inert tracer) \n",
    "# 2. 1D slab model\n",
    "\n",
    "# (1) this is very important\n",
    "# use small enough time step for 1D model, in order to avoid combing slab grid cells, \n",
    "# so that there is be less extra fake diffusion induced\n",
    "# (2)\n",
    "# change 2D to 1D in later time, to ensure that the plume cross-section is highly skewed,\n",
    "# make the 1D model model qualified\n",
    "# (3)\n",
    "# directly use vertical diffusion in 1D model, which would cause less diffusion in 1D model.\n",
    "\n",
    "\n",
    "import numpy as np\n",
    "import math\n",
    "\n",
    "import matplotlib\n",
    "import matplotlib.pyplot as plt\n",
    "from matplotlib import ticker, cm\n",
    "\n",
    "import scipy\n",
    "from scipy import interpolate\n",
    "from scipy.sparse import diags\n",
    "import scipy.sparse as sp\n",
    "\n",
    "import matplotlib.tri as tri\n",
    "import matplotlib.pyplot as plt\n",
    "\n",
    "import pandas as pd\n",
    "\n",
    "from tqdm import tqdm \n",
    "\n",
    "PI = math.pi"
   ]
  },
  {
   "cell_type": "code",
   "execution_count": 2,
   "id": "08f0a8b6",
   "metadata": {},
   "outputs": [],
   "source": [
    "# input value\n",
    "\n",
    "# time step\n",
    "Dt_2d = 10 # [s]\n",
    "Dt_1d = 0.5  # [s]\n",
    "\n",
    "# grid resolution\n",
    "Dx = 200 # [m]\n",
    "Dy = 20 # [m]\n",
    "\n",
    "# grid number\n",
    "Nx = 5000 # 5000 #243 # 483\n",
    "Ny = 300  #135 # 271\n",
    "\n",
    "# define diffusion coefficient\n",
    "Diff_x = 10.0 # [m2 s-1]\n",
    "Diff_y = 0.15 # [m2 s-1]\n",
    "\n",
    "# define a fixed wind field\n",
    "U_shear = 0.002 # [s-1]\n",
    "\n",
    "# initial total injected mass\n",
    "Mass = 1.0 # [kg]\n",
    "AVO  = 6.022e+23\n",
    "\n",
    "# running time\n",
    "time2 = 3600*48 # time for 1d model run"
   ]
  },
  {
   "cell_type": "code",
   "execution_count": 3,
   "id": "93fdc818",
   "metadata": {},
   "outputs": [
    {
     "name": "stdout",
     "output_type": "stream",
     "text": [
      "center: 2500 150\n",
      "U.shape: (300, 5000)\n"
     ]
    },
    {
     "data": {
      "image/png": "[encoded data removed]",
      "text/plain": [
       "<Figure size 432x288 with 2 Axes>"
      ]
     },
     "metadata": {
      "needs_background": "light"
     },
     "output_type": "display_data"
    }
   ],
   "source": [
    "# For high resolution 2D Eulerian model\n",
    "# for the first 24 hours\n",
    "\n",
    "Ymax =  Dy*Ny/2\n",
    "Ymin = -Dy*Ny/2\n",
    "Xmax =  Dx*Nx/2\n",
    "Xmin = -Dx*Nx/2\n",
    "\n",
    "\n",
    "i_init = round(Nx/2)\n",
    "j_init = round(Ny/2)\n",
    "print('center:',i_init,j_init)\n",
    "\n",
    "x = []\n",
    "for i in range(Nx):\n",
    "    x.append((i-i_init)*Dx)\n",
    "    \n",
    "y = []\n",
    "for j in range(Ny):\n",
    "    y.append((j-j_init)*Dy)\n",
    "\n",
    "X, Y = np.meshgrid(x, y)\n",
    "\n",
    "\n",
    "V = np.zeros([Ny,Nx]) # [m]\n",
    "U = np.zeros([Ny,Nx])\n",
    "print('U.shape:',U.shape)\n",
    "\n",
    "for j in range(Ny):\n",
    "    U[j,:] = Y[j,:] * U_shear # [m]\n",
    "    \n",
    "plt.contourf(X,Y,U)\n",
    "plt.colorbar()\n",
    "plt.xlabel('X [Unit: m]')\n",
    "plt.ylabel('Y [Unit: m]')\n",
    "plt.title( 'wind speed' )\n",
    "plt.show()\n"
   ]
  },
  {
   "cell_type": "code",
   "execution_count": 4,
   "id": "b0a63e01",
   "metadata": {},
   "outputs": [
    {
     "name": "stdout",
     "output_type": "stream",
     "text": [
      "1.0\n"
     ]
    },
    {
     "data": {
      "image/png": "[encoded data removed]",
      "text/plain": [
       "<Figure size 432x288 with 2 Axes>"
      ]
     },
     "metadata": {
      "needs_background": "light"
     },
     "output_type": "display_data"
    }
   ],
   "source": [
    "# define initial concentration distribution\n",
    "\n",
    "Concnt = np.zeros([Ny,Nx])\n",
    "\n",
    "\n",
    "Concnt[j_init,i_init] = Mass/(Dx*Dy) # [kg m-2]\n",
    "# Concnt[j_init,i_init] = Concnt[j_init,i_init] / 1.0e+6 / 98.0 * AVO\n",
    "\n",
    "Original = Concnt[j_init,i_init]*Dx*Dy\n",
    "print(Original)\n",
    "\n",
    "contours = plt.contourf(X, Y, Concnt, cmap='Reds')\n",
    "plt.xlabel('X [Unit: m]')\n",
    "plt.ylabel('Y [Unit: m]')\n",
    "plt.title( 'Initial Concentration Distribution [kg/m2]' )\n",
    "plt.colorbar()\n",
    "\n",
    "\n",
    "plt.show()"
   ]
  },
  {
   "cell_type": "code",
   "execution_count": 5,
   "id": "bd8e6a15",
   "metadata": {},
   "outputs": [],
   "source": [
    "def Adv_Diff2(C, U, Diff_x, Diff_y, Dt, Dx, Dy, Nx, Ny):\n",
    "    C_new = C*0.0\n",
    "    C2    = C*0.0\n",
    "\n",
    "    i = Nx\n",
    "    j = Ny\n",
    "    \n",
    "    alpha = Dt*U[:,1:Nx-1]/Dx\n",
    "    C2[:,1:Nx-1] = C[:,1:Nx-1] - 0.5*alpha*(C[:,2:Nx]-C[:,0:Nx-2]) \\\n",
    "                          + 0.5*alpha**2*(C[:,2:Nx]-2*C[:,1:Nx-1]+C[:,0:Nx-2])\n",
    "      \n",
    "#     for j in range(0,Ny,1):\n",
    "#         alpha = Dt*U[j,1]/Dx\n",
    "#         C2[j,1:Nx-1] = C[j,1:Nx-1] - 0.5*alpha*(C[j,2:Nx]-C[j,0:Nx-2]) \\\n",
    "#                             + 0.5*alpha**2*(C[j,2:Nx]-2*C[j,1:Nx-1]+C[j,0:Nx-2])\n",
    "\n",
    "    C_new[1:Ny-1,1:Nx-1] = C2[1:Ny-1,1:Nx-1] + \\\n",
    "                             Dt*( Diff_x*(C2[1:Ny-1,0:Nx-2]+C2[1:Ny-1,2:Nx]-2*C2[1:Ny-1,1:Nx-1])/(Dx*Dx) \\\n",
    "                                + Diff_y*(C2[0:Ny-2,1:Nx-1]+C2[2:Ny,1:Nx-1]-2*C2[1:Ny-1,1:Nx-1])/(Dy*Dy) )\n",
    "    \n",
    "    return C_new"
   ]
  },
  {
   "cell_type": "code",
   "execution_count": 6,
   "id": "a3ff629e",
   "metadata": {},
   "outputs": [],
   "source": [
    "# The function can calculate the scale length (Xscale, Yscale) \n",
    "# of the input concentration distribution (Concnt)\n",
    "\n",
    "def Get_XYscale(Concnt, Dx, Dy, Nx, Ny, frac):\n",
    "    \n",
    "    M2d = Concnt*Dx*Dy\n",
    "    total_mass = np.sum(M2d, axis=(0,1))\n",
    "    \n",
    "    Ysum = np.sum(M2d,axis=1) # sum along x axis\n",
    "    Ysum_sort = sorted(Ysum, reverse=True)\n",
    "    Ysum_cum = np.cumsum(Ysum_sort)\n",
    "    numY = abs(Ysum_cum - frac*total_mass).argmin()\n",
    "    Yscale = numY*Dy\n",
    "    \n",
    "    Xsum = np.sum(M2d,axis=0) # sum along x axis\n",
    "    Xsum_sort = sorted(Xsum, reverse=True)\n",
    "    Xsum_cum = np.cumsum(Xsum_sort)\n",
    "    numX = abs(Xsum_cum - frac*total_mass).argmin()\n",
    "    Xscale = numX*Dx\n",
    "    \n",
    "    return Xscale, Yscale"
   ]
  },
  {
   "cell_type": "code",
   "execution_count": 7,
   "id": "579a99db",
   "metadata": {},
   "outputs": [],
   "source": [
    "# Test confusion CFL condition\n",
    "\n",
    "if 2*Diff_y*Dt_2d/(Dy**2)>1:\n",
    "    print('****************************************')\n",
    "    print('WARNING: diff Y: CFL condition is not satisfied')\n",
    "    print('Try to increase Dy or decrease Dt_2d')\n",
    "    print('****************************************')\n",
    "    \n",
    "if 2*Diff_x*Dt_2d/(Dx**2)>1:\n",
    "    print('****************************************')\n",
    "    print('WARNING: diff X: CFL condition is not satisfied')\n",
    "    print('Try to increase Dx or decrease Dt_2d')\n",
    "    print('****************************************')\n",
    "    \n",
    "# Test advective CFL condition\n",
    "if np.max(U)*Dt_2d/Dx>1:\n",
    "    print('****************************************')\n",
    "    print('WARNING: adv X: CFL condition is not satisfied')\n",
    "    print('Try to increase Dx or decrease Dt_2d')\n",
    "    print('****************************************')\n",
    "\n",
    "    contours = plt.contourf(X,Y,Concnt)\n",
    "#    plt.clabel(contours, inline=True, fontsize=8)\n",
    "    plt.show()"
   ]
  },
  {
   "cell_type": "code",
   "execution_count": 8,
   "id": "f44985b7",
   "metadata": {},
   "outputs": [
    {
     "name": "stderr",
     "output_type": "stream",
     "text": [
      "  0%|          | 0/2160 [00:00<?, ?it/s]<timed exec>:15: RuntimeWarning: invalid value encountered in long_scalars\n",
      " 91%|█████████ | 1965/2160 [02:57<00:17, 11.09it/s]"
     ]
    },
    {
     "name": "stdout",
     "output_type": "stream",
     "text": [
      "5.458333333333333 7200 280\n",
      "CPU times: user 2min 8s, sys: 49 s, total: 2min 57s\n",
      "Wall time: 2min 57s\n"
     ]
    },
    {
     "name": "stderr",
     "output_type": "stream",
     "text": [
      "\n"
     ]
    }
   ],
   "source": [
    "%%time\n",
    "\n",
    "# time run\n",
    "Nt           = int(3600*6/Dt_2d)\n",
    "\n",
    "# Judge_radian = (90-2)/180*PI # [radians]\n",
    "scale_ratio  = 25\n",
    "\n",
    "Theta        = 0.0           # [radians]\n",
    "Height       = 0.0           #[m]\n",
    "frac = 0.95\n",
    "\n",
    "for t in tqdm(range(Nt)):    \n",
    "    Concnt = Adv_Diff2(Concnt, U, Diff_x, Diff_y, Dt_2d, Dx, Dy, Nx, Ny)\n",
    "    \n",
    "    Xscale, Yscale = Get_XYscale(Concnt, Dx, Dy, Nx, Ny, frac)\n",
    "    Theta = math.atan(Xscale/Yscale)\n",
    "    \n",
    "    if (t+1)*Dt_2d>3600*2:\n",
    "        if Xscale/Yscale>scale_ratio:\n",
    "            print(t*Dt_2d/3600, Xscale, Yscale)\n",
    "            break    "
   ]
  },
  {
   "cell_type": "code",
   "execution_count": 9,
   "id": "368e773d",
   "metadata": {},
   "outputs": [
    {
     "data": {
      "text/plain": [
       "5.461111111111111"
      ]
     },
     "execution_count": 9,
     "metadata": {},
     "output_type": "execute_result"
    }
   ],
   "source": [
    "time1 = (t+1)*Dt_2d  # initial time for 1-D grids\n",
    "time1/3600"
   ]
  },
  {
   "cell_type": "code",
   "execution_count": null,
   "id": "958ee70c",
   "metadata": {},
   "outputs": [],
   "source": []
  },
  {
   "cell_type": "code",
   "execution_count": 10,
   "id": "f5f43040",
   "metadata": {},
   "outputs": [
    {
     "name": "stdout",
     "output_type": "stream",
     "text": [
      "0 0\n"
     ]
    },
    {
     "data": {
      "image/png": "[encoded data removed]",
      "text/plain": [
       "<Figure size 1296x216 with 2 Axes>"
      ]
     },
     "metadata": {
      "needs_background": "light"
     },
     "output_type": "display_data"
    }
   ],
   "source": [
    "fig, ax = plt.subplots(1, figsize=(18,3))\n",
    "\n",
    "levs = np.arange(0,24,3)*1e-7\n",
    "contours = plt.contourf(X, Y, Concnt, levs, cmap='Reds', extend='both')\n",
    "# contours = plt.contourf(X, Y, Concnt, levs, locator=ticker.LogLocator(), cmap='Reds', extend='max')\n",
    "\n",
    "# plt.ylim(Ymin, Ymax)\n",
    "# plt.xlim(Xmin, Xmax)\n",
    "\n",
    "plt.ylim(-3e2, 3e2)\n",
    "plt.xlim(-4e3, 4e3)\n",
    "\n",
    "plt.colorbar()\n",
    "plt.xlabel('X [Unit: m]')\n",
    "plt.ylabel('Y [Unit: m]')\n",
    "plt.title( 'Initial Concentration Distribution [kg/m2], after time='+str(int(time1/3600))+' hours' )\n",
    "print(X[j_init,i_init],Y[j_init,i_init])\n",
    "\n",
    "plt.show()\n"
   ]
  },
  {
   "cell_type": "code",
   "execution_count": 11,
   "id": "da96228e",
   "metadata": {},
   "outputs": [],
   "source": [
    "#########################################################\n",
    "#\n",
    "# 2D to 1D\n",
    "#\n",
    "##########################################################"
   ]
  },
  {
   "cell_type": "code",
   "execution_count": 12,
   "id": "c9f421c1",
   "metadata": {},
   "outputs": [],
   "source": [
    "def tilt_C2d_linear(Concnt, x, y, Dx, Dy, Nx, Ny, Theta, Na, Nb, LenA, LenB):\n",
    "    \n",
    "    # find the long and short radius given concentration distribution\n",
    "    # build a 2D nest for integrationn\n",
    "    Nb_mid = int(Nb/2)\n",
    "\n",
    "    # interval in long radius\n",
    "    Adx = LenA*np.sin(Theta)\n",
    "    Ady = LenA*np.cos(Theta)\n",
    "\n",
    "    # interval in short radius\n",
    "    Bdy = LenB*np.sin(Theta)\n",
    "    Bdx = LenB*np.cos(Theta)\n",
    "\n",
    "    # define the location in 2D xy mesh used to determine initial concentration\n",
    "    Y1d = np.zeros((Na,Nb))\n",
    "    X1d = np.zeros((Na,Nb))\n",
    "\n",
    "    print('Y1d.shape: ', Y1d.shape)\n",
    "\n",
    "    # find the location of 1D grid in 2D XY grids\n",
    "    for i in range(Na):\n",
    "        X1d[i,Nb_mid] = -Adx*Na/2 + Adx*(i+0.5)   # ???\n",
    "        Y1d[i,Nb_mid] = -Ady*Na/2 + Ady*(i+0.5)   # ???\n",
    "\n",
    "    for j in range(Nb_mid+1, Nb, 1):\n",
    "        X1d[:,j] = X1d[:,j-1] - Bdx\n",
    "        Y1d[:,j] = Y1d[:,j-1] + Bdy\n",
    "    \n",
    "    for j in range(Nb_mid-1, -1, -1):\n",
    "        X1d[:,j] = X1d[:,j+1] + Bdx\n",
    "        Y1d[:,j] = Y1d[:,j+1] - Bdy\n",
    "\n",
    "        \n",
    "    # set the initial concentration for 1D\n",
    "    C1d = np.zeros((Na,Nb))\n",
    "\n",
    "    # Find the correct initial theta for 1D:\n",
    "    F1       = interpolate.interp2d(x, y, Concnt, kind='linear')\n",
    "\n",
    "    for i in range(Na):\n",
    "        for j in range(Nb):\n",
    "            if( abs(X1d[i,j])<abs(max(x)) or abs(Y1d[i,j])<abs(max(y)) ): # in case the tilt 2-D out ot range\n",
    "                C1d[i,j] = F1( X1d[i,j], Y1d[i,j] )\n",
    "        \n",
    "    return C1d, X1d, Y1d"
   ]
  },
  {
   "cell_type": "code",
   "execution_count": 13,
   "id": "5802d813",
   "metadata": {},
   "outputs": [],
   "source": [
    "# calculate the distance between two points:\n",
    "def Distance_2pts(x1,y1,x2,y2):\n",
    "    \n",
    "    Distance = np.sqrt( (x1-x2)**2 + (y1-y2)**2 )\n",
    "    \n",
    "    return Distance"
   ]
  },
  {
   "cell_type": "code",
   "execution_count": 14,
   "id": "8fb9e09b",
   "metadata": {},
   "outputs": [],
   "source": [
    "# calcualte triangle's area based on its three sides\n",
    "def Heron_Formula(x1,y1,x2,y2,x3,y3):\n",
    "    \n",
    "    L1 = Distance_2pts(x1,y1,x2,y2)\n",
    "    L2 = Distance_2pts(x1,y1,x3,y3)\n",
    "    L3 = Distance_2pts(x2,y2,x3,y3)\n",
    "    \n",
    "    s = (L1+L2+L3)/2\n",
    "    \n",
    "    if L1*L2*L3==0:\n",
    "        return 0 # the source grid cell point overlaps with the target grid cell point,\n",
    "                 # which makes the triangle become a segment, overlap area is 0 \n",
    "    elif (s-L1)*(s-L2)*(s-L3)<=0:\n",
    "        print(\"ERROR in Heron_Formula:\", L1, L2, L3)\n",
    "    \n",
    "    Area = np.sqrt( s*(s-L1)*(s-L2)*(s-L3) )\n",
    "    \n",
    "    return Area"
   ]
  },
  {
   "cell_type": "code",
   "execution_count": 15,
   "id": "dade6db2",
   "metadata": {},
   "outputs": [],
   "source": [
    "# calcualte the intersection point for the two given line\n",
    "# In this special case:\n",
    "# (1) the side of the source grid cell must be parallel to either x or y axis\n",
    "# (2) the side slope of the target grid cell must not be parallel to both x and y axis\n",
    "\n",
    "def Intersect(target_X1, target_Y1, target_X2, target_Y2, \\\n",
    "              source_X1, source_Y1, source_X2, source_Y2):\n",
    "\n",
    "    if source_X1==source_X2:\n",
    "        X_intersect = source_X2\n",
    "        Y_intersect = (target_Y2-target_Y1)/(target_X2-target_X1)*(X_intersect-target_X1) + target_Y1\n",
    "\n",
    "    if source_Y1==source_Y2:\n",
    "        Y_intersect = source_Y2\n",
    "        X_intersect = (target_X2-target_X1)/(target_Y2-target_Y1)*(Y_intersect-target_Y1) + target_X1\n",
    "    \n",
    "    return X_intersect, Y_intersect"
   ]
  },
  {
   "cell_type": "code",
   "execution_count": 16,
   "id": "71a4489c",
   "metadata": {},
   "outputs": [],
   "source": [
    "#     (a)find a point inside the overlapping area\n",
    "#     (b) connect inside points to all the seleced edge point of the overlap area\n",
    "#     (c) find a base select point, to form the base segment with inside point \n",
    "#     (d) calculate all the angles, and sort angles to sort the edge ppints\n",
    "\n",
    "def Sort_points(Points_X, Points_Y):\n",
    "    \n",
    "    Xs = Points_X\n",
    "    Ys = Points_Y\n",
    "    \n",
    "    Xs2 = np.array(Points_X)\n",
    "    Ys2 = np.array(Points_Y)\n",
    "    \n",
    "    if len(Xs)>=3:\n",
    "        X_center = np.mean(Xs)\n",
    "        Y_center = np.mean(Ys)\n",
    "        Angles = [0]\n",
    "                    \n",
    "        for ip in np.arange(1, len(Xs)):\n",
    "            Vx1 = Xs[0] - X_center\n",
    "            Vy1 = Ys[0] - Y_center\n",
    "                    \n",
    "            Vx2 = Xs[ip] - X_center\n",
    "            Vy2 = Ys[ip] - Y_center\n",
    "                        \n",
    "            dot = Vx1*Vx2 + Vy1*Vy2      # dot product between [x1, y1] and [x2, y2]\n",
    "            det = Vx1*Vy2 - Vy1*Vx2      # determinant\n",
    "            angle = math.atan2(det, dot)  # atan2(y, x) or atan2(sin, cos), \n",
    "\n",
    "            if angle<0: angle = 2*math.pi+angle # from 0 to 2*pi\n",
    "                            \n",
    "            Angles.append(angle)\n",
    "                        \n",
    "        # sort points from smaller to larger angle\n",
    "        sort_index = np.argsort(Angles)\n",
    "        \n",
    "        Xs2 = Xs2[sort_index]\n",
    "        Ys2 = Ys2[sort_index]\n",
    "        \n",
    "    Xs2 = list(Xs2)\n",
    "    Ys2 = list(Ys2)\n",
    "    \n",
    "    return Xs2, Ys2"
   ]
  },
  {
   "cell_type": "code",
   "execution_count": null,
   "id": "b95f5c17",
   "metadata": {},
   "outputs": [],
   "source": []
  },
  {
   "cell_type": "code",
   "execution_count": 17,
   "id": "e4b0166a",
   "metadata": {},
   "outputs": [
    {
     "data": {
      "text/plain": [
       "4"
      ]
     },
     "execution_count": 17,
     "metadata": {},
     "output_type": "execute_result"
    }
   ],
   "source": [
    "z = np.array([10,2,3,4])\n",
    "index = np.argsort(z)\n",
    "z = z[index]\n",
    "len(z)"
   ]
  },
  {
   "cell_type": "code",
   "execution_count": 18,
   "id": "bd162496",
   "metadata": {},
   "outputs": [],
   "source": [
    "def Delete_same(Points_X, Points_Y):\n",
    "    Xs = Points_X\n",
    "    Ys = Points_Y\n",
    "    \n",
    "    if len(Xs)>=2:\n",
    "    \n",
    "        Xs2 = []\n",
    "        Ys2 = []\n",
    "    \n",
    "        for i in np.arange(0, len(Xs)-1):\n",
    "            i = int(i)\n",
    "        \n",
    "            if Xs[i]!=Xs[i+1] or Ys[i]!=Ys[i+1]:\n",
    "                Xs2.append(Xs[i])\n",
    "                Ys2.append(Ys[i])\n",
    "    \n",
    "        Xs2.append(Xs[len(Xs)-1])\n",
    "        Ys2.append(Ys[len(Xs)-1])\n",
    "        \n",
    "    else:\n",
    "        \n",
    "        Xs2 = Xs\n",
    "        Ys2 = Ys\n",
    "    \n",
    "    return Xs2, Ys2"
   ]
  },
  {
   "cell_type": "code",
   "execution_count": 19,
   "id": "c3c410ef",
   "metadata": {},
   "outputs": [],
   "source": [
    "def In_box(source_X, source_Y, X1d_edge, Y1d_edge):\n",
    "    Sx = source_X\n",
    "    Sy = source_Y\n",
    "    \n",
    "    Tx = X1d_edge\n",
    "    Ty = Y1d_edge\n",
    "    \n",
    "    sign = []\n",
    "    \n",
    "    for i in range(len(Tx)-1):\n",
    "        Vx1 = Sx - Tx[i]\n",
    "        Vy1 = Sy - Ty[i]\n",
    "                    \n",
    "        Vx2 = Tx[i+1] - Tx[i]\n",
    "        Vy2 = Ty[i+1] - Ty[i]\n",
    "                        \n",
    "        dot = Vx1*Vx2 + Vy1*Vy2      # dot product between [x1, y1] and [x2, y2]\n",
    "        det = Vx1*Vy2 - Vy1*Vx2      # determinant\n",
    "        angle = math.atan2(det, dot)  # atan2(y, x) or atan2(sin, cos), \n",
    "        sign.append( angle/abs(angle) )\n",
    "        \n",
    "    # for the last segment\n",
    "    Vx1 = Sx - Tx[3]\n",
    "    Vy1 = Sy - Ty[3]\n",
    "                    \n",
    "    Vx2 = Tx[0] - Tx[3]\n",
    "    Vy2 = Ty[0] - Ty[3]\n",
    "                        \n",
    "    dot = Vx1*Vx2 + Vy1*Vy2      # dot product between [x1, y1] and [x2, y2]\n",
    "    det = Vx1*Vy2 - Vy1*Vx2      # determinant\n",
    "    angle = math.atan2(det, dot)  # atan2(y, x) or atan2(sin, cos), \n",
    "    sign.append( angle/abs(angle) )\n",
    "    \n",
    "    if np.sum(sign)==4 or np.sum(sign)==-4:\n",
    "        Is_inside = 1\n",
    "    else:\n",
    "        Is_inside = 0\n",
    "        \n",
    "    return Is_inside"
   ]
  },
  {
   "cell_type": "code",
   "execution_count": 20,
   "id": "e893d4ca",
   "metadata": {},
   "outputs": [
    {
     "data": {
      "text/plain": [
       "([1, 2, 4, 5], [11, 22, 44, 55])"
      ]
     },
     "execution_count": 20,
     "metadata": {},
     "output_type": "execute_result"
    }
   ],
   "source": [
    "a = [1,2,2,4,5]\n",
    "b = [11,22,22,44,55]\n",
    "\n",
    "aa, bb = Delete_same(a, b)\n",
    "\n",
    "aa, bb"
   ]
  },
  {
   "cell_type": "code",
   "execution_count": 21,
   "id": "58927c51",
   "metadata": {},
   "outputs": [],
   "source": [
    "def tilt_C2d_conservative(Concnt, x, y, Dx, Dy, Nx, Ny, Theta, Na, Nb, LenA, LenB):\n",
    "    \n",
    "    # find the long and short radius given concentration distribution\n",
    "    # build a 2D nest for integrationn\n",
    "    Nb_mid = int(Nb/2)\n",
    "    Na_mid = int(Na/2)\n",
    "\n",
    "    # interval in long radius\n",
    "    Adx = LenA*np.sin(Theta)\n",
    "    Ady = LenA*np.cos(Theta)\n",
    "\n",
    "    # interval in short radius\n",
    "    Bdy = LenB*np.sin(Theta)\n",
    "    Bdx = LenB*np.cos(Theta)\n",
    "\n",
    "    # define the location in 2D xy mesh used to determine initial concentration\n",
    "    Y1d = np.zeros((Na,Nb))\n",
    "    X1d = np.zeros((Na,Nb))\n",
    "\n",
    "    print('Y1d.shape: ', Y1d.shape)\n",
    "\n",
    "    # find the location of 1D grid in 2D XY grids\n",
    "    for i in range(Na):\n",
    "        X1d[i,Nb_mid] = -Adx*Na/2 + Adx*(i+0.5)   # ???\n",
    "        Y1d[i,Nb_mid] = -Ady*Na/2 + Ady*(i+0.5)   # ???\n",
    "\n",
    "    for j in range(Nb_mid+1, Nb, 1):\n",
    "        X1d[:,j] = X1d[:,j-1] - Bdx\n",
    "        Y1d[:,j] = Y1d[:,j-1] + Bdy\n",
    "    \n",
    "    for j in range(Nb_mid-1, -1, -1):\n",
    "        X1d[:,j] = X1d[:,j+1] + Bdx\n",
    "        Y1d[:,j] = Y1d[:,j+1] - Bdy\n",
    "\n",
    "        \n",
    "    # set the initial concentration for 1D\n",
    "    C1d = np.zeros((Na,Nb))\n",
    "    \n",
    "    for i in np.arange(1,Na-1):\n",
    "        for j in np.arange(1,Nb-1):\n",
    "#     for i in np.arange(Na_mid, Na_mid+1):\n",
    "#         for j in np.arange(Nb_mid,Nb_mid+1):\n",
    "            \n",
    "            i = int(i)\n",
    "            j = int(j)\n",
    "            \n",
    "            X1d_edge = [0,0,0,0]\n",
    "            Y1d_edge = [0,0,0,0]\n",
    "\n",
    "            # get the four edge points of the target grid cell: centered at ( X1d[i,j], Y1d[i,j] )\n",
    "            \n",
    "            # check the boundary case !!! ???\n",
    "            \n",
    "            X1d_edge[0] = (X1d[i,j]+X1d[i-1,j-1])/2\n",
    "            Y1d_edge[0] = (Y1d[i,j]+Y1d[i-1,j-1])/2\n",
    "            \n",
    "            X1d_edge[1] = (X1d[i,j]+X1d[i+1,j-1])/2\n",
    "            Y1d_edge[1] = (Y1d[i,j]+Y1d[i+1,j-1])/2            \n",
    "\n",
    "            X1d_edge[2] = (X1d[i,j]+X1d[i+1,j+1])/2\n",
    "            Y1d_edge[2] = (Y1d[i,j]+Y1d[i+1,j+1])/2            \n",
    "            \n",
    "            X1d_edge[3] = (X1d[i,j]+X1d[i-1,j+1])/2\n",
    "            Y1d_edge[3] = (Y1d[i,j]+Y1d[i-1,j+1])/2\n",
    "            \n",
    "            \n",
    "            # Check whether target grid cell area is equal to Dx*Dy !!!\n",
    "            Area_target = Heron_Formula(X1d_edge[0], Y1d_edge[0], X1d_edge[2], Y1d_edge[2], \\\n",
    "                                        X1d_edge[1], Y1d_edge[1]) \\\n",
    "                        + Heron_Formula(X1d_edge[0], Y1d_edge[0], X1d_edge[2], Y1d_edge[2], \\\n",
    "                                        X1d_edge[3], Y1d_edge[3])\n",
    "            \n",
    "            if i==Na_mid and j==Nb_mid:\n",
    "                print(f\"the target grid cell area is {Area_target}, {Dx*Dy}\")\n",
    "                \n",
    "#             if abs(Area_target-Dx*Dy)/(Dx*Dy)>1e-3: \n",
    "#                 print('ERROR:', int(Area_target), Dx*Dy)\n",
    "#                 print(X1d_edge[:])\n",
    "#                 print(Y1d_edge[:])\n",
    "#                 print(i, j, X1d[i,j], Y1d[i,j])\n",
    "#                 print( Dx, Distance_2pts(X1d_edge[0], Y1d_edge[0], X1d_edge[1], Y1d_edge[1]) )\n",
    "#                 print( Dy, Distance_2pts(X1d_edge[2], Y1d_edge[2], X1d_edge[1], Y1d_edge[1]) )\n",
    "#                 plt.plot(X1d_edge, Y1d_edge, 'r.')\n",
    "#                 return\n",
    "            \n",
    "            # Find all the source grid cells that may overlap with the target grid cell,\n",
    "            # based on the four edge points of the target\n",
    "            X_max = np.max(X1d_edge)\n",
    "            X_min = np.min(X1d_edge)\n",
    "            Y_max = np.max(Y1d_edge)\n",
    "            Y_min = np.min(Y1d_edge)\n",
    "            \n",
    "            ix_max = np.floor( (X_max - (x[0]-Dx/2)) /Dx )\n",
    "            ix_min = np.floor( (X_min - (x[0]-Dx/2)) /Dx )\n",
    "            iy_max = np.floor( (Y_max - (y[0]-Dy/2)) /Dy )\n",
    "            iy_min = np.floor( (Y_min - (y[0]-Dy/2)) /Dy )\n",
    "            \n",
    "            # for the target grid cell located in the edge of the source grid domain\n",
    "            if ix_min<0: ix_min=0\n",
    "            if iy_min<0: iy_min=0 \n",
    "            if ix_max>Nx-1: ix_max=Nx-1\n",
    "            if iy_max>Ny-1: iy_max=Ny-1\n",
    "                \n",
    "            # when the target grid cell is totally outside the source grid domain\n",
    "            if ix_min>Nx-1: \n",
    "                ix_min = Nx-1\n",
    "                ix_max = Nx-1\n",
    "                C1d[i,j] = 0\n",
    "            if iy_min>Ny-1: \n",
    "                iy_min = Ny-1\n",
    "                iy_max = Ny-1\n",
    "                C1d[i,j] = 0\n",
    "            if ix_max<0:\n",
    "                ix_max = 0\n",
    "                ix_min = 0\n",
    "                C1d[i,j] = 0\n",
    "            if iy_max<0: \n",
    "                iy_max = 0\n",
    "                iy_min = 0\n",
    "                C1d[i,j] = 0\n",
    "                \n",
    "            # loop for all selected source grid cells, \n",
    "            # calculate the overlap area between the selected soruce grid cell and the target grid cell\n",
    "            mass = [] # total tracer mass in target grid cell\n",
    "            area_overlap = [] # overlap area between the target grid cell and source grid cells,\n",
    "                              # the sum of which should be same as the area of the target grid cell \n",
    "            \n",
    "            for ix in np.arange(ix_min,ix_max+1):\n",
    "                for iy in np.arange(iy_min,iy_max+1):\n",
    "                    \n",
    "                    ix = int(ix)\n",
    "                    iy = int(iy)\n",
    "                    \n",
    "                    # indentify the structure of the overlap area:\n",
    "                    # how many side/point does this overlap area have?\n",
    "                    Points_X = [] # save intersection point's X value\n",
    "                    Points_Y = [] # save intersection points's Y value\n",
    "                    \n",
    "                    # four the edge points of the selected source grid cell\n",
    "                    source_Xedge = [0,0,0,0]\n",
    "                    source_Yedge = [0,0,0,0]\n",
    "                    \n",
    "                    source_Xedge[0] = x[ix]-Dx/2\n",
    "                    source_Yedge[0] = y[iy]-Dy/2\n",
    "            \n",
    "                    source_Xedge[1] = x[ix]-Dx/2\n",
    "                    source_Yedge[1] = y[iy]+Dy/2            \n",
    "\n",
    "                    source_Xedge[2] = x[ix]+Dx/2\n",
    "                    source_Yedge[2] = y[iy]+Dy/2            \n",
    "            \n",
    "                    source_Xedge[3] = x[ix]+Dx/2\n",
    "                    source_Yedge[3] = y[iy]-Dy/2\n",
    "                    \n",
    "                    # (1) check whether target grid cell edge points is inside the soruce grid cell:\n",
    "                    for ip in range(4):\n",
    "                        if abs(X1d_edge[ip]-x[ix])<Dx/2 and abs(Y1d_edge[ip]-y[iy])<Dy/2:\n",
    "                            Points_X.append(X1d_edge[ip])\n",
    "                            Points_Y.append(Y1d_edge[ip])\n",
    "                                                    \n",
    "                            \n",
    "                    # (2) check whether source grid cell edge points are inside the target grid cell:\n",
    "                    #     by considering the area consistency\n",
    "                    for ip_S in range(4):\n",
    "                        \n",
    "                        Is_inside = In_box(source_Xedge[ip_S], source_Yedge[ip_S], X1d_edge, Y1d_edge)\n",
    "                        \n",
    "                        if Is_inside: \n",
    "                            Points_X.append(source_Xedge[ip_S])\n",
    "                            Points_Y.append(source_Yedge[ip_S]) \n",
    "                        \n",
    "#                         Area = 0\n",
    "#                         for ip in range(3):\n",
    "#                             Area = Area + Heron_Formula(source_Xedge[ip_S], source_Yedge[ip_S], \\\n",
    "#                                                     X1d_edge[ip], Y1d_edge[ip], X1d_edge[ip+1], Y1d_edge[ip+1])\n",
    "#                         Area = Area + Heron_Formula(source_Xedge[ip_S], source_Yedge[ip_S], \\\n",
    "#                                                 X1d_edge[0], Y1d_edge[0], X1d_edge[3], Y1d_edge[3])\n",
    "                        \n",
    "#                         if abs(Area-Area_target)<1e-10:\n",
    "#                             Points_X.append(source_Yedge[ip_S])\n",
    "#                             Points_Y.append(source_Xedge[ip_S]) \n",
    "                                            \n",
    "                        \n",
    "                        \n",
    "                    # (3) Check the intersection point between source grid cell side and target grid cell side\n",
    "                    # first find the intersect points, \n",
    "                    # then check whether this intersect point is located inside \n",
    "                    # paralell situation would never happen here.\n",
    "                    for ip in range(4):\n",
    "                        if ip==3:\n",
    "                            target_X1 = X1d_edge[ip]\n",
    "                            target_Y1 = Y1d_edge[ip]\n",
    "                            target_X2 = X1d_edge[0]\n",
    "                            target_Y2 = Y1d_edge[0]\n",
    "                        else:\n",
    "                            target_X1 = X1d_edge[ip]\n",
    "                            target_Y1 = Y1d_edge[ip]\n",
    "                            target_X2 = X1d_edge[ip+1]\n",
    "                            target_Y2 = Y1d_edge[ip+1]\n",
    "                            \n",
    "                        for ip_S in range(4):\n",
    "                            if ip_S==3:\n",
    "                                source_X1 = source_Xedge[ip_S]\n",
    "                                source_Y1 = source_Yedge[ip_S]\n",
    "                                source_X2 = source_Xedge[0]\n",
    "                                source_Y2 = source_Yedge[0]\n",
    "                            else:\n",
    "                                source_X1 = source_Xedge[ip_S]\n",
    "                                source_Y1 = source_Yedge[ip_S]\n",
    "                                source_X2 = source_Xedge[ip_S+1]\n",
    "                                source_Y2 = source_Yedge[ip_S+1]                            \n",
    "                        \n",
    "                            # calculate the intersect point for the two given line \n",
    "                            X_intersect, Y_intersect = Intersect(target_X1, target_Y1, target_X2, target_Y2 \\\n",
    "                                                                ,source_X1, source_Y1, source_X2, source_Y2)\n",
    "                            # check whether this intersect point is located in both the two line segment\n",
    "                            if (X_intersect-target_X1)*(X_intersect-target_X2)<=0 and \\\n",
    "                               (Y_intersect-target_Y1)*(Y_intersect-target_Y2)<=0 and \\\n",
    "                               (X_intersect-source_X1)*(X_intersect-source_X2)<=0 and \\\n",
    "                               (Y_intersect-source_Y1)*(Y_intersect-source_Y2)<=0:\n",
    "                                \n",
    "                                Points_X.append(X_intersect)\n",
    "                                Points_Y.append(Y_intersect)                                 \n",
    "                                \n",
    "                                \n",
    "                    # finally, we have all the intersection point, let's calculate the overlap area!\n",
    "                    # Check total aera is equal !!! ???\n",
    "                    \n",
    "                    # delete all the totally overlapping points\n",
    "                    # all the intersection points should be sorted in a fix order !!! ??? \n",
    "                    Points_X, Points_Y = Sort_points(Points_X, Points_Y)\n",
    "                    Points_X, Points_Y = Delete_same(Points_X, Points_Y) # delete the same location points\n",
    "\n",
    "                    \n",
    "                    # calculate total overlapping area based on sorted points\n",
    "                    S_area = 0\n",
    "                    for ip in np.arange(1,len(Points_X)-1):\n",
    "                        S_area = S_area + Heron_Formula(Points_X[0], Points_Y[0], \\\n",
    "                                        Points_X[ip], Points_Y[ip], Points_X[ip+1], Points_Y[ip+1])\n",
    "            \n",
    "                    mass.append(S_area*Concnt[iy,ix])\n",
    "                    area_overlap.append(S_area)\n",
    "                    \n",
    "                    if i==Na_mid and j==Nb_mid:\n",
    "                        print(\"ix, iy: \", ix, iy)\n",
    "                        print(f\"Points_X: {Points_X}\")\n",
    "                        print(f\"Points_Y: {Points_Y}\")\n",
    "                        print(f\"S_area: {S_area}, {Concnt[iy,ix]}, \")\n",
    "            \n",
    "            \n",
    "            if np.sum(area_overlap)<=0: # the target grid cell is total out of the soruce grid domain\n",
    "                C1d[i,j] = 0\n",
    "            else:\n",
    "                C1d[i,j] = np.sum(mass)/Area_target\n",
    "            \n",
    "            if i==Na_mid and j==Nb_mid: print('total area is:', np.sum(area_overlap))\n",
    "#             if( abs(X1d[i,j])<abs(max(x)) or abs(Y1d[i,j])<abs(max(y)) ): # in case the tilt 2-D out ot range\n",
    "#                 C1d[i,j] = F1( X1d[i,j], Y1d[i,j] )\n",
    "        \n",
    "    return C1d, X1d, Y1d"
   ]
  },
  {
   "cell_type": "code",
   "execution_count": 22,
   "id": "d1895dc5",
   "metadata": {},
   "outputs": [
    {
     "data": {
      "text/plain": [
       "(300, 5000)"
      ]
     },
     "execution_count": 22,
     "metadata": {},
     "output_type": "execute_result"
    }
   ],
   "source": [
    "Concnt.shape"
   ]
  },
  {
   "cell_type": "code",
   "execution_count": 23,
   "id": "7b3b87b2",
   "metadata": {},
   "outputs": [
    {
     "data": {
      "text/plain": [
       "2.0"
      ]
     },
     "execution_count": 23,
     "metadata": {},
     "output_type": "execute_result"
    }
   ],
   "source": [
    "# anti-clock-wise\n",
    "\n",
    "Vx1 = 1\n",
    "Vy1 = 1\n",
    "\n",
    "Vx2 = 1\n",
    "Vy2 = 0\n",
    "\n",
    "dot = Vx1*Vx2 + Vy1*Vy2      # dot product between [x1, y1] and [x2, y2]\n",
    "det = Vx1*Vy2 - Vy1*Vx2      # determinant\n",
    "angle = math.atan2(det, dot)  # atan2(y, x) or atan2(sin, cos), \n",
    "\n",
    "if angle<0: angle = 2*math.pi+angle # from 0 to 2*pi\n",
    "\n",
    "angle/math.pi*180\n",
    "\n",
    "a = [1,2,3]\n",
    "np.mean(a)"
   ]
  },
  {
   "cell_type": "code",
   "execution_count": 24,
   "id": "5f0d8398",
   "metadata": {},
   "outputs": [
    {
     "name": "stdout",
     "output_type": "stream",
     "text": [
      "280 7200 1.531927024616975\n"
     ]
    },
    {
     "data": {
      "text/plain": [
       "(87.77295303258643, 25.714285714285715)"
      ]
     },
     "execution_count": 24,
     "metadata": {},
     "output_type": "execute_result"
    }
   ],
   "source": [
    "# calculate ScaleX and ScaleY containing 99%  of total mass\n",
    "\n",
    "Xscale, Yscale = Get_XYscale(Concnt, Dx, Dy, Nx, Ny, frac)\n",
    "\n",
    "Height = Yscale # refernce of the plume cross-section vertical scale for 1D initial\n",
    "Length = Xscale\n",
    "\n",
    "Theta = math.atan(Xscale/Yscale)\n",
    "print(Height, Length, Theta)\n",
    "\n",
    "math.degrees(math.atan(Xscale/Yscale)), Xscale/Yscale"
   ]
  },
  {
   "cell_type": "code",
   "execution_count": 25,
   "id": "2a246a7b",
   "metadata": {},
   "outputs": [
    {
     "name": "stdout",
     "output_type": "stream",
     "text": [
      "rotated 2-D mesh resolution: LenB, LenA:  20 200\n",
      "rotated 2-D mesh grid number: Nb, Na:  600 5000\n",
      " \n",
      "Begin remapping:\n",
      "Y1d.shape:  (5000, 600)\n",
      "the target grid cell area is 4000.000000000179, 4000\n",
      "ix, iy:  2500 150\n",
      "Points_X: [0.3885951548021751, 100.0, 100.0, -0.1943709831795104, -0.3885951548021751]\n",
      "Points_Y: [-9.992446837770231, -6.118669982679446, 10.0, 10.0, 9.992446837770231]\n",
      "S_area: 1806.310708099728, 2.0102187720756957e-06, \n",
      "ix, iy:  2500 151\n",
      "Points_X: [100.0, 100.0, -0.1943709831795104]\n",
      "Points_Y: [10.0, 13.896447760456738, 10.0]\n",
      "S_area: 195.20106621388993, 1.805122084026846e-06, \n",
      "ix, iy:  2501 150\n",
      "Points_X: [200.23753191021606, 199.76228854248225, 100.0, 100.0]\n",
      "Points_Y: [-2.2205437417268428, 10.0, 10.0, -6.118669982679446]\n",
      "S_area: 1417.4225538236265, 1.971694005050659e-06, \n",
      "ix, iy:  2501 151\n",
      "Points_X: [199.4603416006117, 100.0, 100.0, 199.76228854248225]\n",
      "Points_Y: [17.76434993381362, 13.896447760456738, 10.0, 10.0]\n",
      "S_area: 581.0656718629423, 1.9072739828480962e-06, \n",
      "total area is: 4000.0000000001864\n",
      "CPU times: user 26min 3s, sys: 9.77 s, total: 26min 13s\n",
      "Wall time: 26min\n"
     ]
    }
   ],
   "source": [
    "%%time\n",
    "\n",
    "# 1D grid length\n",
    "LenB = Dy # number is a arbitraty number\n",
    "LenA = Dx #\n",
    "print('rotated 2-D mesh resolution: LenB, LenA: ', LenB, LenA)\n",
    "\n",
    "# Nb = int(Height/LenB) # short radius\n",
    "Nb = 2*math.ceil(Ny*Dy/LenB /4)*4\n",
    "\n",
    "# Nb = Nb*60 # increase grid number in vertical direction\n",
    "\n",
    "# Na = int(1.5*Length/LenA) # long radius\n",
    "Na = math.ceil(Nx*Dx/LenA /4)*4\n",
    "print('rotated 2-D mesh grid number: Nb, Na: ', Nb, Na)\n",
    "\n",
    "Nb_25  = int(Nb/4)\n",
    "Nb_mid = Nb_50 = int(Nb/4*2)\n",
    "Nb_75  = int(Nb/4*3)\n",
    "\n",
    "Na_25  = int(Na/4)\n",
    "Na_mid = Na_50 = int(Na/4*2)\n",
    "Na_75  = int(Na/4*3)\n",
    "\n",
    "print(\" \")\n",
    "print('Begin remapping:')\n",
    "# calculate the concentration in rotated 2-D mesh:\n",
    "C1d, X1d, Y1d = tilt_C2d_conservative(Concnt, x, y, Dx, Dy, Nx, Ny, Theta, Na, Nb, LenA, LenB)"
   ]
  },
  {
   "cell_type": "code",
   "execution_count": 26,
   "id": "677cfc26",
   "metadata": {},
   "outputs": [
    {
     "data": {
      "text/plain": [
       "((5000, 600), (300, 5000))"
      ]
     },
     "execution_count": 26,
     "metadata": {},
     "output_type": "execute_result"
    }
   ],
   "source": [
    "X1d.shape, X.shape"
   ]
  },
  {
   "cell_type": "code",
   "execution_count": 27,
   "id": "dda283f7",
   "metadata": {},
   "outputs": [
    {
     "data": {
      "image/png": "[encoded data removed]",
      "text/plain": [
       "<Figure size 1296x216 with 2 Axes>"
      ]
     },
     "metadata": {
      "needs_background": "light"
     },
     "output_type": "display_data"
    },
    {
     "data": {
      "image/png": "[encoded data removed]",
      "text/plain": [
       "<Figure size 432x288 with 1 Axes>"
      ]
     },
     "metadata": {
      "needs_background": "light"
     },
     "output_type": "display_data"
    },
    {
     "data": {
      "image/png": "[encoded data removed]",
      "text/plain": [
       "<Figure size 432x288 with 1 Axes>"
      ]
     },
     "metadata": {
      "needs_background": "light"
     },
     "output_type": "display_data"
    }
   ],
   "source": [
    "fig, ax = plt.subplots(1, figsize=(18,3))\n",
    "\n",
    "plt.contourf(X1d, Y1d, C1d, levs, cmap='Reds', extend='both')\n",
    "# plt.contourf(X1d, Y1d, C1d,  levs, locator=ticker.LogLocator(), cmap='Reds')\n",
    "plt.colorbar()\n",
    "\n",
    "# plt.ylim(Ymin, Ymax)\n",
    "# plt.xlim(Xmin, Xmax)\n",
    "\n",
    "plt.ylim(-3e2, 3e2)\n",
    "plt.xlim(-4e3, 4e3)\n",
    "\n",
    "plt.show()\n",
    "\n",
    "leng = np.zeros(Nb)\n",
    "for i in range(Nb):\n",
    "    leng[i] = 0.5*LenB + LenB*i\n",
    "    \n",
    "plt.plot(leng-leng[Nb_mid], C1d[Na_mid,:], label='along short radius')\n",
    "plt.legend()\n",
    "plt.show()\n",
    "\n",
    "leng2 = np.zeros(Na)\n",
    "for i in range(Na):\n",
    "    leng2[i] = 0.5*LenA + LenA*i\n",
    "    \n",
    "plt.plot(leng2-leng2[Na_mid], C1d[:,Nb_mid], label='concentration along long radius')\n",
    "plt.legend(loc='upper right')\n",
    "plt.show()\n"
   ]
  },
  {
   "cell_type": "code",
   "execution_count": null,
   "id": "a0763d40",
   "metadata": {},
   "outputs": [],
   "source": []
  },
  {
   "cell_type": "code",
   "execution_count": 28,
   "id": "8cebe5ff",
   "metadata": {},
   "outputs": [
    {
     "name": "stdout",
     "output_type": "stream",
     "text": [
      "200 20\n",
      "7200 20\n"
     ]
    }
   ],
   "source": [
    "# Calculate the concentration given the La and Lb\n",
    "\n",
    "# La, Lb = calc_LaLb(C1d, LenA, LenB)\n",
    "\n",
    "La = Length\n",
    "Lb = LenB\n",
    "\n",
    "print(LenA, LenB)\n",
    "print(La, Lb)\n",
    "\n",
    "\n",
    "C_box = np.zeros(Nb)\n",
    "for i in range(Nb):\n",
    "    C_box[i] = sum(C1d[:,i]) *(LenA*LenB)/ (La*Lb)\n"
   ]
  },
  {
   "cell_type": "code",
   "execution_count": 29,
   "id": "4dff741e",
   "metadata": {},
   "outputs": [
    {
     "data": {
      "image/png": "[encoded data removed]",
      "text/plain": [
       "<Figure size 432x288 with 1 Axes>"
      ]
     },
     "metadata": {
      "needs_background": "light"
     },
     "output_type": "display_data"
    }
   ],
   "source": [
    "# for the 2nd phase: 1D model\n",
    "\n",
    "leng = np.zeros(Nb)\n",
    "for i in range(Nb):\n",
    "    leng[i] = 0.5*LenB + LenB*i\n",
    "    \n",
    "plt.plot(leng-leng[Nb_mid], C_box, 'r', label='concnt in slab model')\n",
    "\n",
    "plt.plot(leng-leng[Nb_mid], C1d[Na_mid,:], 'b--')\n",
    "plt.plot(leng-leng[Nb_mid], C1d[Na_25,:], 'b--')\n",
    "\n",
    "plt.legend()\n",
    "plt.show()"
   ]
  },
  {
   "cell_type": "code",
   "execution_count": 30,
   "id": "824195ce",
   "metadata": {},
   "outputs": [
    {
     "name": "stdout",
     "output_type": "stream",
     "text": [
      "0.9999999999999998 0.9999999999999967 0.9999999999999969\n",
      "2.8865798640254078e-15\n"
     ]
    }
   ],
   "source": [
    "# total mass check\n",
    "\n",
    "total_mass = np.sum(Concnt, axis=(0,1))*Dx*Dy\n",
    "Total_m1 = np.sum(C1d, axis=(0,1))*LenA*LenB\n",
    "mass_1D = np.sum(C_box)*La*Lb\n",
    "\n",
    "print(total_mass, Total_m1, mass_1D)\n",
    "print((total_mass-mass_1D)/total_mass)"
   ]
  },
  {
   "cell_type": "code",
   "execution_count": 31,
   "id": "beea13f2",
   "metadata": {},
   "outputs": [],
   "source": [
    "##################################################################\n",
    "#\n",
    "# run 1D\n",
    "#\n",
    "##################################################################"
   ]
  },
  {
   "cell_type": "code",
   "execution_count": 32,
   "id": "94e472a0",
   "metadata": {},
   "outputs": [],
   "source": [
    "# diffusion process\n",
    "def Difussion2(C, Diff_y, Dt, Dy, Ny):\n",
    "    C_diff = C*0.0\n",
    "    \n",
    "    C_diff[1:Ny-1] = C[1:Ny-1] + Dt*Diff_y*(C[0:Ny-2]+C[2:Ny]-2*C[1:Ny-1])/(Dy*Dy)\n",
    "    \n",
    "    return C_diff"
   ]
  },
  {
   "cell_type": "code",
   "execution_count": 33,
   "id": "bf99aae8",
   "metadata": {},
   "outputs": [
    {
     "name": "stdout",
     "output_type": "stream",
     "text": [
      "Theta origin: 1.531927024616975\n",
      "Theta finish: 1.5681031969562862\n",
      "CPU times: user 13.2 s, sys: 380 ms, total: 13.6 s\n",
      "Wall time: 18.8 s\n"
     ]
    }
   ],
   "source": [
    "%%time\n",
    "\n",
    "print('Theta origin:',Theta)\n",
    "\n",
    "\n",
    "Nt = int(time2/Dt_1d)\n",
    "\n",
    "Diff_v = Diff_y\n",
    "Diff_h = Diff_x\n",
    "\n",
    "for it in np.arange(1,Nt+1,1): \n",
    "    # shear effect:\n",
    "    S = La*Lb\n",
    "    Theta_old = Theta\n",
    "    Theta = np.arctan( np.tan(Theta) + U_shear*Dt_1d )\n",
    "    La = La * (np.tan(Theta)**2+1)**0.5 / (np.tan(Theta_old)**2+1)**0.5\n",
    "#     La = La * (1 + U_shear**2 *Dt_1d**2 *np.cos(Theta)**2 + 2*U_shear*Dt_1d*np.sin(Theta)*np.cos(Theta) )**0.5\n",
    "    Lb = S/La\n",
    "    \n",
    "    Theta1 = (Theta+Theta_old)/2\n",
    "    Diff_b = Diff_v*np.sin(Theta1) # + Diff_h*np.cos(Theta1)\n",
    "    Diff_a = Diff_v*np.cos(Theta1) + Diff_h*np.sin(Theta1)\n",
    "    \n",
    "    # Test confusion CFL condition\n",
    "    if 2*Diff_b*Dt_1d/(Lb**2)>1:\n",
    "        print('****************************************')\n",
    "        print('WARNING: diff Y: CFL condition is not satisfied')\n",
    "        print('Combing grid to incease Dy')\n",
    "        print('****************************************')\n",
    "        \n",
    "        print('time for combing slab (hours):', it*Dt_1d/3600, 'hour', 'Lb:', Lb)\n",
    "        \n",
    "        Lb = 2*Lb\n",
    "        C_new = C_box*0.0\n",
    "        for i in range(Nb_50):\n",
    "            C_box[i] = 0.5* ( C_box[2*i]+C_box[2*i+1] )\n",
    "        C_new[Nb_25-1:Nb_75-1] = C_box[0:Nb_50]\n",
    "        C_box = C_new    \n",
    "        \n",
    "    \n",
    "    # diffusion effect in short radius\n",
    "    C_box = Difussion2(C_box, Diff_b, Dt_1d, Lb, Nb)\n",
    "        \n",
    "    # diffusion effect in long radius:\n",
    "#     La_old = La\n",
    "#     La = np.sqrt(La_old**2+2.0*Diff_a*Dt_1d)\n",
    "#     C_box = C_box *La_old /La\n",
    "\n",
    "    if it*Dt_1d%600==0:\n",
    "        df = pd.DataFrame(C_box)\n",
    "        df.to_csv('Concnt_1d_'+str(int(it*Dt_1d/600))+'_10min.txt', index = False)\n",
    "        \n",
    "        df1 = pd.DataFrame([Lb,La])\n",
    "        df1.to_csv('Lb_'+str(int(it*Dt_1d/600))+'_10min.txt', index = False)       \n",
    "    \n",
    "    \n",
    "    # divide plume cross-section into 5 segments once the cross-section is highly distorted\n",
    "#    Judge_L = 2*110*1000 # [m]\n",
    "#    if La>Judge_L:\n",
    "print('Theta finish:',Theta)"
   ]
  },
  {
   "cell_type": "code",
   "execution_count": 34,
   "id": "0300f82f",
   "metadata": {},
   "outputs": [
    {
     "data": {
      "image/png": "[encoded data removed]",
      "text/plain": [
       "<Figure size 432x288 with 1 Axes>"
      ]
     },
     "metadata": {
      "needs_background": "light"
     },
     "output_type": "display_data"
    },
    {
     "name": "stdout",
     "output_type": "stream",
     "text": [
      "Original:  1.0\n",
      "mass in 2D:  0.9999999999999998\n",
      "mass in 1D:  0.9953652398283097\n"
     ]
    }
   ],
   "source": [
    "# plot\n",
    "\n",
    "leng = np.zeros(Nb)\n",
    "for i in range(Nb):\n",
    "    leng[i] = 0.5*Lb + Lb*i\n",
    "\n",
    "plt.plot(leng-Lb*Nb_50, C_box,'r',label='slab model')\n",
    "\n",
    "#plt.ylim(0, 14)\n",
    "\n",
    "plt.xlabel('Distance Along short-radius direction [Unit: m]')\n",
    "plt.ylabel('Concentration distribution [Unit: kg/m2]')\n",
    "plt.legend()\n",
    "plt.show()\n",
    "\n",
    "\n",
    "print('Original: ', Original)\n",
    "print('mass in 2D: ', np.sum(Concnt, axis=(0,1))*Dx*Dy)\n",
    "print('mass in 1D: ', np.sum(C_box)*La*Lb)"
   ]
  },
  {
   "cell_type": "code",
   "execution_count": 35,
   "id": "9aa95fd4",
   "metadata": {},
   "outputs": [],
   "source": [
    "###############################################################################################################\n",
    "#\n",
    "# run 2-D for comparison\n",
    "#\n",
    "###############################################################################################################"
   ]
  },
  {
   "cell_type": "code",
   "execution_count": 36,
   "id": "3555c339",
   "metadata": {},
   "outputs": [],
   "source": [
    "# Test confusion CFL condition\n",
    "\n",
    "if 2*Diff_y*Dt_2d/(Dy**2)>1:\n",
    "    print('****************************************')\n",
    "    print('WARNING: diff Y: CFL condition is not satisfied')\n",
    "    print('Try to increase Dy or decrease Dt_2d')\n",
    "    print('****************************************')\n",
    "    \n",
    "if 2*Diff_x*Dt_2d/(Dx**2)>1:\n",
    "    print('****************************************')\n",
    "    print('WARNING: diff X: CFL condition is not satisfied')\n",
    "    print('Try to increase Dx or decrease Dt_2d')\n",
    "    print('****************************************')\n",
    "    \n",
    "# Test advective CFL condition\n",
    "if np.max(U)*Dt_2d/Dx>1:\n",
    "    print('****************************************')\n",
    "    print('WARNING: adv X: CFL condition is not satisfied')\n",
    "    print('Try to increase Dx or decrease Dt_2d')\n",
    "    print('****************************************')\n",
    "\n",
    "    contours = plt.contourf(X,Y,Concnt)\n",
    "#    plt.clabel(contours, inline=True, fontsize=8)\n",
    "    plt.show()"
   ]
  },
  {
   "cell_type": "code",
   "execution_count": 37,
   "id": "bb57407f",
   "metadata": {},
   "outputs": [
    {
     "name": "stderr",
     "output_type": "stream",
     "text": [
      "\r",
      "  0%|          | 0/17280 [00:00<?, ?it/s]"
     ]
    },
    {
     "name": "stdout",
     "output_type": "stream",
     "text": [
      "time1= 5.461111111111111 (h); time2 48.0 h\n",
      "10.0 0.15 10 200 20 5000 300\n"
     ]
    },
    {
     "name": "stderr",
     "output_type": "stream",
     "text": [
      "100%|██████████| 17280/17280 [25:38<00:00, 11.23it/s]"
     ]
    },
    {
     "name": "stdout",
     "output_type": "stream",
     "text": [
      "CPU times: user 18min 37s, sys: 7min 5s, total: 25min 43s\n",
      "Wall time: 25min 38s\n"
     ]
    },
    {
     "name": "stderr",
     "output_type": "stream",
     "text": [
      "\n"
     ]
    }
   ],
   "source": [
    "%%time\n",
    "\n",
    "# for validation: Gaussian analytical results Vs. 1D slab model.\n",
    "\n",
    "print('time1=', time1/3600, '(h); time2', time2/3600, 'h')\n",
    "t_total = time1+time2\n",
    "\n",
    "Concnt2 = Concnt\n",
    "\n",
    "# time run\n",
    "Nt           = int(time2/Dt_2d)\n",
    "\n",
    "print(Diff_x, Diff_y, Dt_2d, Dx, Dy, Nx, Ny)\n",
    "\n",
    "for t in tqdm(np.arange(1,Nt+1,1)):\n",
    "    Concnt2 = Adv_Diff2(Concnt2, U, Diff_x, Diff_y, Dt_2d, Dx, Dy, Nx, Ny)"
   ]
  },
  {
   "cell_type": "code",
   "execution_count": 40,
   "id": "ed270dcd",
   "metadata": {},
   "outputs": [
    {
     "name": "stdout",
     "output_type": "stream",
     "text": [
      "[[-200    0  200]\n",
      " [-200    0  200]\n",
      " [-200    0  200]] [[-20 -20 -20]\n",
      " [  0   0   0]\n",
      " [ 20  20  20]] [[2.45245682e-08 2.44986800e-08 2.44714404e-08]\n",
      " [2.48414257e-08 2.48421256e-08 2.48414257e-08]\n",
      " [2.44714404e-08 2.44986800e-08 2.45245682e-08]]\n",
      "0 0 2.484212557268919e-08\n"
     ]
    },
    {
     "data": {
      "image/png": "[encoded data removed]",
      "text/plain": [
       "<Figure size 432x288 with 2 Axes>"
      ]
     },
     "metadata": {
      "needs_background": "light"
     },
     "output_type": "display_data"
    }
   ],
   "source": [
    "contours = plt.contourf(X, Y, Concnt2, cmap='Reds')\n",
    "# contours = plt.contourf(X, Y, Concnt2, levs, locator=ticker.LogLocator(), cmap='Reds')\n",
    "\n",
    "plt.ylim(Ymin, Ymax)\n",
    "plt.xlim(Xmin, Xmax)\n",
    "\n",
    "plt.colorbar()\n",
    "plt.xlabel('X [Unit: m]')\n",
    "plt.ylabel('Y [Unit: m]')\n",
    "plt.title( 'Initial Concentration Distribution [kg/m2], after time='+str(t_total)+'s' )\n",
    "print(X[j_init-1:j_init+2,i_init-1:i_init+2],Y[j_init-1:j_init+2,i_init-1:i_init+2], \\\n",
    "      Concnt2[j_init-1:j_init+2,i_init-1:i_init+2])\n",
    "print(X[j_init,i_init],Y[j_init,i_init], Concnt2[j_init,i_init])\n",
    "plt.show()"
   ]
  },
  {
   "cell_type": "code",
   "execution_count": 41,
   "id": "70ec7e06",
   "metadata": {},
   "outputs": [
    {
     "name": "stdout",
     "output_type": "stream",
     "text": [
      "831.6500758617719 209400 1.566402849810579\n",
      "Theta & Theta2 1.5681031969562862 1.566402849810579\n"
     ]
    },
    {
     "data": {
      "text/plain": [
       "89.74827231141074"
      ]
     },
     "execution_count": 41,
     "metadata": {},
     "output_type": "execute_result"
    }
   ],
   "source": [
    "# calculate ScaleX and ScaleY containing 99%  of total mass\n",
    "\n",
    "Xscale2, Yscale2 = Get_XYscale(Concnt2, Dx, Dy, Nx, Ny, frac)\n",
    "\n",
    "Height2 = Lb*Nb # Yscale2 # refernce of the plume cross-section vertical scale for 1D initial\n",
    "Length2 = Xscale2\n",
    "\n",
    "Theta2 = math.atan(Xscale2/Yscale2)\n",
    "print(Height2, Length2, Theta2)\n",
    "print('Theta & Theta2', Theta, Theta2)\n",
    "math.degrees(math.atan(Xscale2/Yscale2))"
   ]
  },
  {
   "cell_type": "code",
   "execution_count": 42,
   "id": "8bff89c9",
   "metadata": {},
   "outputs": [
    {
     "name": "stdout",
     "output_type": "stream",
     "text": [
      "LenB, LenA:  1.3860834597696199 200\n",
      "Nb, Na:  600 5000\n",
      "Y1d.shape:  (5000, 600)\n",
      "the target grid cell area is 277.2166919538994, 4000\n",
      "ix, iy:  2500 150\n",
      "Points_X: [0.0030448530937832174, 100.0, 100.0, -0.0030448530937832174]\n",
      "Points_Y: [-0.6930350411280567, -0.2536978933956684, 1.1323989440165698, 0.6930350411280567]\n",
      "S_area: 138.60968374122257, 2.484212557268919e-08, \n",
      "ix, iy:  2501 150\n",
      "Points_X: [200.0011145921794, 199.99502488599185, 100.0, 100.0]\n",
      "Points_Y: [0.18565752888137765, 1.571727611137491, 1.1323989440165698, -0.2536978933956684]\n",
      "S_area: 138.60700821267378, 2.4841425668938414e-08, \n",
      "total area is: 277.2166919538963\n"
     ]
    },
    {
     "data": {
      "image/png": "[encoded data removed]",
      "text/plain": [
       "<Figure size 432x288 with 2 Axes>"
      ]
     },
     "metadata": {
      "needs_background": "light"
     },
     "output_type": "display_data"
    },
    {
     "name": "stdout",
     "output_type": "stream",
     "text": [
      "leng2.shape: (600,)\n",
      "C1d2.shape: (5000, 600)\n"
     ]
    },
    {
     "data": {
      "image/png": "[encoded data removed]",
      "text/plain": [
       "<Figure size 432x288 with 1 Axes>"
      ]
     },
     "metadata": {
      "needs_background": "light"
     },
     "output_type": "display_data"
    },
    {
     "data": {
      "image/png": "[encoded data removed]",
      "text/plain": [
       "<Figure size 432x288 with 1 Axes>"
      ]
     },
     "metadata": {
      "needs_background": "light"
     },
     "output_type": "display_data"
    },
    {
     "name": "stdout",
     "output_type": "stream",
     "text": [
      "CPU times: user 32min 23s, sys: 16.4 s, total: 32min 39s\n",
      "Wall time: 32min 19s\n"
     ]
    }
   ],
   "source": [
    "%%time\n",
    "\n",
    "# 1D grid length\n",
    "\n",
    "# LenB doesn't have big influence on final results\n",
    "LenB2 = Lb # Dy # number is a arbitraty number\n",
    "LenA2 = Dx # Dx*1.5 # Dx\n",
    "print('LenB, LenA: ', LenB2, LenA2)\n",
    "\n",
    "Nb2 = int(Height2/LenB2) # short radius\n",
    "Nb2 = math.ceil(Nb2/4)*4\n",
    "\n",
    "Na2 = Nx # int(Length2/Dx) # Nx # long radius\n",
    "Na2 = math.ceil(Na2/4)*4\n",
    "print('Nb, Na: ', Nb2, Na2)\n",
    "\n",
    "Nb2_25  = int(Nb2/4)\n",
    "Nb2_mid = Nb2_50 = int(Nb2/4*2)\n",
    "Nb2_75  = int(Nb2/4*3)\n",
    "\n",
    "Na2_25  = int(Na2/4)\n",
    "Na2_mid = Na2_50 = int(Na2/4*2)\n",
    "Na2_75  = int(Na2/4*3)\n",
    "\n",
    "\n",
    "C1d2, X1d2, Y1d2 = tilt_C2d_conservative(Concnt2, x, y, Dx, Dy, Nx, Ny, Theta2, Na2, Nb2, LenA2, LenB2)\n",
    "\n",
    "plt.contourf(X1d2, Y1d2, C1d2, cmap='Reds')\n",
    "\n",
    "plt.colorbar()\n",
    "\n",
    "plt.ylim(Ymin, Ymax)\n",
    "plt.xlim(Xmin, Xmax)\n",
    "plt.show()\n",
    "\n",
    "\n",
    "\n",
    "\n",
    "\n",
    "leng2 = np.zeros(Nb2)\n",
    "for i in range(Nb2):\n",
    "    leng2[i] = 0.5*LenB2 + LenB2*i\n",
    "print('leng2.shape:', leng2.shape)\n",
    "print('C1d2.shape:', C1d2.shape)   \n",
    "\n",
    "plt.plot(leng2-leng2[Nb2_mid], C1d2[Na2_mid,:], label='along short radius')\n",
    "plt.legend()\n",
    "plt.show()\n",
    "\n",
    "\n",
    "\n",
    "\n",
    "leng2 = np.zeros(Na2)\n",
    "for i in range(Na2):\n",
    "    leng2[i] = 0.5*LenA2 + LenA2*i\n",
    "    \n",
    "plt.plot(leng2-leng2[Na2_mid], C1d2[:,Nb2_mid])\n",
    "plt.title('concentration along long radius')\n",
    "plt.show()\n"
   ]
  },
  {
   "cell_type": "code",
   "execution_count": 43,
   "id": "7d2680c0",
   "metadata": {},
   "outputs": [
    {
     "name": "stdout",
     "output_type": "stream",
     "text": [
      "200 1.3860834597696199\n",
      "103889.84803550987 1.3860834597696199\n"
     ]
    }
   ],
   "source": [
    "# Calculate the concentration given the La and Lb\n",
    "\n",
    "#La2, Lb2 = calc_LaLb(C1d2, LenA2, LenB2)\n",
    "\n",
    "La2 = La # Length2\n",
    "Lb2 = Lb\n",
    "\n",
    "#La2 = La # #######################################  important  #####\n",
    "\n",
    "print(LenA2, LenB2)\n",
    "print(La2, Lb2)\n",
    "\n",
    "C_box2 = np.zeros(Nb2)\n",
    "C_box2_Asum = np.zeros(Nb2)\n",
    "\n",
    "for i in range(Nb2):\n",
    "    C_box2[i] = sum(C1d2[:,i]) *(LenA2*LenB2)/ (La2*Lb2)\n",
    "    C_box2_Asum[i] = sum(C1d2[:,i]) *(LenA2*LenB2)\n",
    "    "
   ]
  },
  {
   "cell_type": "code",
   "execution_count": 44,
   "id": "30159f22",
   "metadata": {},
   "outputs": [
    {
     "name": "stdout",
     "output_type": "stream",
     "text": [
      "Original:  1.0\n",
      "mass in 2D:  0.9999999999999998\n",
      "mass in 1D:  0.9953652398283097\n",
      "mass in 2D again:  0.9999999999999992\n",
      "mass in 2D_to_1D for comparison: 0.9991664442657352\n",
      "mass in tilting 2D: 0.9991664442657372\n"
     ]
    },
    {
     "data": {
      "text/plain": [
       "(1.3860834597696199, 1.3860834597696199, 103889.84803550987, 200)"
      ]
     },
     "execution_count": 44,
     "metadata": {},
     "output_type": "execute_result"
    }
   ],
   "source": [
    "print('Original: ', Original)\n",
    "print('mass in 2D: ', np.sum(Concnt, axis=(0,1))*Dx*Dy)\n",
    "print('mass in 1D: ', np.sum(C_box)*La*Lb)\n",
    "print('mass in 2D again: ', np.sum(Concnt2, axis=(0,1))*Dx*Dy)\n",
    "print('mass in 2D_to_1D for comparison:', np.sum(C_box2)*La2*Lb2)\n",
    "print('mass in tilting 2D:', np.sum(C1d2, axis=(0,1))*LenA2*LenB2)\n",
    "Lb2, LenB2, La2, LenA2"
   ]
  },
  {
   "cell_type": "code",
   "execution_count": 45,
   "id": "89bc26bf",
   "metadata": {},
   "outputs": [
    {
     "data": {
      "image/png": "[encoded data removed]",
      "text/plain": [
       "<Figure size 432x288 with 1 Axes>"
      ]
     },
     "metadata": {
      "needs_background": "light"
     },
     "output_type": "display_data"
    }
   ],
   "source": [
    "# for the 2nd phase: 1D model\n",
    "\n",
    "\n",
    "leng2 = np.zeros(Nb2)\n",
    "for i in range(Nb2):\n",
    "    leng2[i] = 0.5*LenB2 + LenB2*i\n",
    "    \n",
    "plt.plot(leng2-leng2[Nb2_mid], C_box2, 'r', label='concnt2 in slab model')\n",
    "\n",
    "plt.plot(leng2-leng2[Nb2_mid], C1d2[Na2_mid,:], 'y--')\n",
    "plt.plot(leng2-leng2[Nb2_mid], C1d2[Na2_75,:], 'g--')\n",
    "plt.plot(leng2-leng2[Nb2_mid], C1d2[Na2_25,:], 'b--')\n",
    "\n",
    "plt.legend()\n",
    "plt.show()\n",
    "\n",
    "# ??? red line ???"
   ]
  },
  {
   "cell_type": "code",
   "execution_count": 46,
   "id": "c880cfec",
   "metadata": {},
   "outputs": [
    {
     "data": {
      "image/png": "[encoded data removed]",
      "text/plain": [
       "<Figure size 432x288 with 1 Axes>"
      ]
     },
     "metadata": {
      "needs_background": "light"
     },
     "output_type": "display_data"
    }
   ],
   "source": [
    "# for the 2nd phase: 1D model\n",
    "\n",
    "\n",
    "leng2 = np.zeros(Nb2)\n",
    "for i in range(Nb2):\n",
    "    leng2[i] = 0.5*LenB2 + LenB2*i\n",
    "    \n",
    "plt.plot(leng2-leng2[Nb2_mid], C_box2_Asum, 'r', label='concnt2 in slab model')\n",
    "\n",
    "plt.plot(leng2-leng2[Nb2_mid], (LenA2*LenB2)*np.sum(C1d2[:,:], axis=0), 'y--')\n",
    "# plt.plot(leng2-leng2[Nb2_mid], C1d2[Na2_75,:], 'g--')\n",
    "# plt.plot(leng2-leng2[Nb2_mid], C1d2[Na2_25,:], 'b--')\n",
    "\n",
    "plt.legend()\n",
    "plt.show()\n"
   ]
  },
  {
   "cell_type": "code",
   "execution_count": 48,
   "id": "c2c4344b",
   "metadata": {},
   "outputs": [
    {
     "name": "stdout",
     "output_type": "stream",
     "text": [
      "-0.0954191875915794\n",
      "2.8179697462111058e-08 3.1152216668274687e-08\n",
      "280 7200\n",
      "831.6500758617719 209400\n"
     ]
    },
    {
     "data": {
      "image/png": "[encoded data removed]",
      "text/plain": [
       "<Figure size 1500x900 with 1 Axes>"
      ]
     },
     "metadata": {
      "needs_background": "light"
     },
     "output_type": "display_data"
    }
   ],
   "source": [
    "# plot\n",
    "\n",
    "leng = np.zeros(Nb)\n",
    "for i in range(Nb):\n",
    "    leng[i] = 0.5*Lb + Lb*i\n",
    "    \n",
    "\n",
    "# plot\n",
    "fig = plt.figure(figsize=(5,3), dpi=300)\n",
    "ax = fig.add_subplot()\n",
    "\n",
    "Num = 5\n",
    "\n",
    "ax.plot(leng[2+Num:Nb-Num]-leng[Nb_mid], C_box[2+Num:Nb-Num],'b',label='1-D cross-sectional grid')\n",
    "ax.plot(leng[2+Num:Nb-Num]-leng[Nb_mid], C_box2[2+Num:Nb-Num], 'r--', label='2-D cross-sectional grid') # ???\n",
    "# ax[0].plot(0*leng2,C_box2, 'k--')\n",
    "\n",
    "ax.plot(0, max(C_box), 'ks')\n",
    "ax.plot(0, max(C_box2), 'ks')\n",
    "\n",
    "\n",
    "# ax.set_title(f'(a)', loc='left')\n",
    "ax.set_ylabel('Concentration [$kg \\cdot m^{-2}$]', fontsize=12)\n",
    "ax.set_xlabel('Distance [m]', fontsize=12)\n",
    "ax\n",
    "\n",
    "# tick_locs = [0, 1e5,2e5, 3e5, 4e5, 5e5]\n",
    "# tick_lbls = ['0', '1e5', '2e5', '3e5', '4e5', '5e5']\n",
    "# ax.set_yticks(np.array(tick_locs))\n",
    "# ax.set_yticklabels(tick_lbls,fontsize=11)\n",
    "\n",
    "ax.tick_params(axis='x', labelsize=11)  # to Set Matplotlib Tick Labels Font Size\n",
    "ax.tick_params(axis='y', labelsize=11)\n",
    "\n",
    "ax.set_title(\"Conservative interpolation\")\n",
    "\n",
    "# ax[0].set_xlim(-1000,1000)\n",
    "ax.legend()\n",
    "\n",
    "print( (max(C_box) - max(C_box2))/ max(C_box2) )\n",
    "print(max(C_box) , max(C_box2))\n",
    "print(Height, Length)\n",
    "print(Height2, Length2)"
   ]
  },
  {
   "cell_type": "code",
   "execution_count": 49,
   "id": "9aba2d90",
   "metadata": {},
   "outputs": [
    {
     "data": {
      "text/plain": [
       "2.4480753247192095e-06"
      ]
     },
     "execution_count": 49,
     "metadata": {},
     "output_type": "execute_result"
    }
   ],
   "source": [
    "(2.8179697462111058e-08 - 2.8179628476257925e-08)/2.8179628476257925e-08"
   ]
  },
  {
   "cell_type": "code",
   "execution_count": null,
   "id": "8bb943de",
   "metadata": {},
   "outputs": [],
   "source": []
  },
  {
   "cell_type": "code",
   "execution_count": null,
   "id": "88d355a6",
   "metadata": {},
   "outputs": [],
   "source": []
  },
  {
   "cell_type": "code",
   "execution_count": null,
   "id": "6600b1ef",
   "metadata": {},
   "outputs": [],
   "source": []
  }
 ],
 "metadata": {
  "kernelspec": {
   "display_name": "Python [conda env:.conda-SUNenv]",
   "language": "python",
   "name": "conda-env-.conda-SUNenv-py"
  },
  "language_info": {
   "codemirror_mode": {
    "name": "ipython",
    "version": 3
   },
   "file_extension": ".py",
   "mimetype": "text/x-python",
   "name": "python",
   "nbconvert_exporter": "python",
   "pygments_lexer": "ipython3",
   "version": "3.8.5"
  }
 },
 "nbformat": 4,
 "nbformat_minor": 5
}
