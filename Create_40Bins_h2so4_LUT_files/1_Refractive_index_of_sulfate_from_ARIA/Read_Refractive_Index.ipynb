{
 "cells": [
  {
   "cell_type": "code",
   "execution_count": 1,
   "id": "1366df35",
   "metadata": {},
   "outputs": [],
   "source": [
    "import numpy as np\n",
    "import pandas as pd"
   ]
  },
  {
   "cell_type": "code",
   "execution_count": 2,
   "id": "cfb5b68d",
   "metadata": {},
   "outputs": [],
   "source": [
    "#!/usr/bin/python\n",
    "# Procedure to read in and check refractive index data file (filename)\n",
    "# File should be correctly formatted with filename extension .ri\n",
    "# Created 2017-07-27 by OK\n",
    "\n",
    "import os\n",
    "\n",
    "class ReadError(Exception):\n",
    "    def __init__(self, value):\n",
    "        self.parameter = value\n",
    "    def __str__(self):\n",
    "        return repr(self.parameter)\n",
    "\n",
    "def read_ri(filename):\n",
    "    expected_header_names = ['FORMAT', 'DESCRIPTION', 'DISTRIBUTEDBY', 'SUBSTANCE', 'SAMPLEFORM', 'TEMPERATURE', 'CONCENTRATION', 'REFERENCE', 'DOI', 'SOURCE', 'CONTACT', 'COMMENT']\n",
    "    expected_column_names = ['wavl', 'wavn', 'n', 'dn', 'k', 'dk']\n",
    "    with open(filename, 'r') as f:\n",
    "        t = f.readlines()\n",
    "        t = [x.strip() for x in t] # strips whitespace from beginning and end of lines\n",
    "        \n",
    "        out = {'header':{},'data':{}}\n",
    "        \n",
    "        header_lines = 0\n",
    "        data_lines = 0\n",
    "        for line in t:\n",
    "            if line[0] == '#':\n",
    "                header_lines += 1\n",
    "                if data_lines > 0:\n",
    "                    raise ReadError('Incorrectly formatted file (%s): Header not contiguous.' %filename)\n",
    "            else:\n",
    "                data_lines += 1\n",
    "        for i in range(1,data_lines): # ignore blank lines at end of file\n",
    "            if any(char.isdigit() for char in t[-i]):\n",
    "                break\n",
    "            else:\n",
    "                data_lines -= 1\n",
    "        \n",
    "        if header_lines == 0:\n",
    "            raise ReadError('Incorrectly formatted file (%s): No header.' %filename)\n",
    "        if data_lines == 0:\n",
    "            raise ReadError('Incorrectly formatted file (%s): No data.' %filename)\n",
    "    \n",
    "        for i in range(header_lines):\n",
    "            line = t[i][1:] # strip leading '#'\n",
    "            if line[0] != '#':\n",
    "                tag_name = line.split('=',1)[0].strip().upper()\n",
    "                if tag_name not in expected_header_names:\n",
    "                    print('Unknown header tag \"%s\", so ignored (file: %s)' %(tag_name, filename) )\n",
    "                    continue\n",
    "                try: # ensure tag content is encoded consistently\n",
    "#                     tag_content = line.split('=',1)[1].strip().decode('utf8').encode('utf8', 'xmlcharrefreplace')\n",
    "                    tag_content = line.split('=',1)[1].strip()\n",
    "\n",
    "                except UnicodeDecodeError as e:\n",
    "#                     tag_content = line.split('=',1)[1].strip().decode(\"iso-8859-1\").encode('utf8', 'xmlcharrefreplace')\n",
    "                    tag_content = line.split('=',1)[1].strip()\n",
    "\n",
    "                if tag_name in out['header']:\n",
    "                    tag_content = out['header'][tag_name]+' '+tag_content\n",
    "                out['header'][tag_name] = tag_content\n",
    "            elif tag_name in expected_header_names:\n",
    "                tag_content = line[1:].strip()\n",
    "                out['header'][tag_name] = out['header'][tag_name]+' '+tag_content\n",
    "        \n",
    "        if 'FORMAT' not in out['header']:\n",
    "            raise ReadError('Incorrectly formatted file (%s): No FORMAT tag in header.' %filename)\n",
    "        \n",
    "        column_labels = out['header']['FORMAT'].split()\n",
    "        column_labels = [x.strip().lower() for x in column_labels]\n",
    "        for cl in column_labels:\n",
    "            if cl not in expected_column_names:\n",
    "                print( 'Unknown column name \"%s\", so ignored (file: %s)' %(cl, filename) )\n",
    "                continue\n",
    "            out['data'][cl] = []\n",
    "        for l in range(header_lines, data_lines):\n",
    "            line = t[l].split()\n",
    "            line = [x.strip() for x in line]\n",
    "            for c in range(len(column_labels)):\n",
    "                if column_labels[c] in expected_column_names:\n",
    "                    out['data'][column_labels[c]].append(float(line[c]))\n",
    "        \n",
    "        # add wavl & wavn columns if needed (wavl in micro-m, wavn in cm-1)\n",
    "        if 'wavn' not in out['data']:\n",
    "            out['data']['wavn'] = [float(10000)/x if x!=0 else float('nan') for x in out['data']['wavl']]\n",
    "        if 'wavl' not in out['data']:\n",
    "            out['data']['wavl'] = [float(10000)/x if x!=0 else float('nan') for x in out['data']['wavn']]\n",
    "        \n",
    "        col_lengths = []\n",
    "        for col in out['data']:\n",
    "            col_lengths.append(len(out['data'][col]))\n",
    "        if len(set(col_lengths)) > 1:\n",
    "            raise ReadError('Incorrectly formatted file (%s): Data columns have different lengths.' %filename)\n",
    "    return out\n",
    "\n"
   ]
  },
  {
   "cell_type": "code",
   "execution_count": 3,
   "id": "3cf264e8",
   "metadata": {},
   "outputs": [
    {
     "data": {
      "text/plain": [
       "0"
      ]
     },
     "execution_count": 3,
     "metadata": {},
     "output_type": "execute_result"
    }
   ],
   "source": [
    "os.system('ls *.ri >& ri.names')\n"
   ]
  },
  {
   "cell_type": "code",
   "execution_count": 4,
   "id": "a73dc11d",
   "metadata": {},
   "outputs": [],
   "source": [
    "with open('ri.names', 'r') as f:\n",
    "    names = f.readlines()\n",
    "    i=0\n",
    "    for name in names:\n",
    "\n",
    "        RI = read_ri(\"./\"+name.rstrip('\\n'))\n",
    "    \n",
    "        wt = np.zeros(len(RI['data'][\"wavn\"]))\n",
    "        wt[:] = float(RI['header'][\"CONCENTRATION\"][0:2])\n",
    "\n",
    "        temp = np.zeros(len(RI['data'][\"wavn\"]))\n",
    "        temp[:] = float(RI['header'][\"TEMPERATURE\"][0:3])\n",
    "\n",
    "        data = RI['data']\n",
    "        data['wt_%'] = wt\n",
    "        data['temp_K'] = temp\n",
    "        data[\"wavn_cm-1\"] = data.pop(\"wavn\")\n",
    "        data[\"wavl_micro-m\"] = data.pop(\"wavl\")\n",
    "        data[\"wavl_nm\"] = data[\"wavl_micro-m\"]\n",
    "\n",
    "\n",
    "        df_new = pd.DataFrame.from_dict(data)\n",
    "        df_new.drop(columns=['wavl_micro-m'])\n",
    "        df_new[\"wavl_nm\"] = df_new[\"wavl_nm\"]*1000\n",
    "        \n",
    "        if i==0:\n",
    "            df_total = df_new\n",
    "        else:\n",
    "            df_total = pd.concat([df_total, df_new])\n",
    "        i=i+1\n",
    "        \n",
    "# make the row index from 0 to the length of df_total\n",
    "index = np.arange(len(df_total))\n",
    "df_total.set_axis(index, axis=0)\n",
    "\n",
    "df_total.to_csv('Fractive_index_LUT.csv')"
   ]
  },
  {
   "cell_type": "code",
   "execution_count": 5,
   "id": "519ea6fd",
   "metadata": {},
   "outputs": [
    {
     "data": {
      "text/html": [
       "<div>\n",
       "<style scoped>\n",
       "    .dataframe tbody tr th:only-of-type {\n",
       "        vertical-align: middle;\n",
       "    }\n",
       "\n",
       "    .dataframe tbody tr th {\n",
       "        vertical-align: top;\n",
       "    }\n",
       "\n",
       "    .dataframe thead th {\n",
       "        text-align: right;\n",
       "    }\n",
       "</style>\n",
       "<table border=\"1\" class=\"dataframe\">\n",
       "  <thead>\n",
       "    <tr style=\"text-align: right;\">\n",
       "      <th></th>\n",
       "      <th>n</th>\n",
       "      <th>k</th>\n",
       "      <th>wt_%</th>\n",
       "      <th>temp_K</th>\n",
       "      <th>wavn_cm-1</th>\n",
       "      <th>wavl_micro-m</th>\n",
       "      <th>wavl_nm</th>\n",
       "    </tr>\n",
       "  </thead>\n",
       "  <tbody>\n",
       "    <tr>\n",
       "      <th>0</th>\n",
       "      <td>1.33259</td>\n",
       "      <td>0.00000</td>\n",
       "      <td>10.0</td>\n",
       "      <td>230.0</td>\n",
       "      <td>6000.00000</td>\n",
       "      <td>1.666667</td>\n",
       "      <td>1666.666667</td>\n",
       "    </tr>\n",
       "    <tr>\n",
       "      <th>1</th>\n",
       "      <td>1.33256</td>\n",
       "      <td>0.00000</td>\n",
       "      <td>10.0</td>\n",
       "      <td>230.0</td>\n",
       "      <td>5996.00000</td>\n",
       "      <td>1.667779</td>\n",
       "      <td>1667.778519</td>\n",
       "    </tr>\n",
       "    <tr>\n",
       "      <th>2</th>\n",
       "      <td>1.33253</td>\n",
       "      <td>0.00000</td>\n",
       "      <td>10.0</td>\n",
       "      <td>230.0</td>\n",
       "      <td>5992.00000</td>\n",
       "      <td>1.668892</td>\n",
       "      <td>1668.891856</td>\n",
       "    </tr>\n",
       "    <tr>\n",
       "      <th>3</th>\n",
       "      <td>1.33250</td>\n",
       "      <td>0.00000</td>\n",
       "      <td>10.0</td>\n",
       "      <td>230.0</td>\n",
       "      <td>5988.00000</td>\n",
       "      <td>1.670007</td>\n",
       "      <td>1670.006680</td>\n",
       "    </tr>\n",
       "    <tr>\n",
       "      <th>4</th>\n",
       "      <td>1.33246</td>\n",
       "      <td>0.00000</td>\n",
       "      <td>10.0</td>\n",
       "      <td>230.0</td>\n",
       "      <td>5984.00000</td>\n",
       "      <td>1.671123</td>\n",
       "      <td>1671.122995</td>\n",
       "    </tr>\n",
       "    <tr>\n",
       "      <th>...</th>\n",
       "      <td>...</td>\n",
       "      <td>...</td>\n",
       "      <td>...</td>\n",
       "      <td>...</td>\n",
       "      <td>...</td>\n",
       "      <td>...</td>\n",
       "      <td>...</td>\n",
       "    </tr>\n",
       "    <tr>\n",
       "      <th>4719</th>\n",
       "      <td>1.79875</td>\n",
       "      <td>0.38136</td>\n",
       "      <td>81.0</td>\n",
       "      <td>298.0</td>\n",
       "      <td>419.49320</td>\n",
       "      <td>23.838289</td>\n",
       "      <td>23838.288678</td>\n",
       "    </tr>\n",
       "    <tr>\n",
       "      <th>4720</th>\n",
       "      <td>1.79969</td>\n",
       "      <td>0.37794</td>\n",
       "      <td>81.0</td>\n",
       "      <td>298.0</td>\n",
       "      <td>417.99308</td>\n",
       "      <td>23.923841</td>\n",
       "      <td>23923.841036</td>\n",
       "    </tr>\n",
       "    <tr>\n",
       "      <th>4721</th>\n",
       "      <td>1.80034</td>\n",
       "      <td>0.37607</td>\n",
       "      <td>81.0</td>\n",
       "      <td>298.0</td>\n",
       "      <td>416.49297</td>\n",
       "      <td>24.010009</td>\n",
       "      <td>24010.009101</td>\n",
       "    </tr>\n",
       "    <tr>\n",
       "      <th>4722</th>\n",
       "      <td>1.80299</td>\n",
       "      <td>0.37510</td>\n",
       "      <td>81.0</td>\n",
       "      <td>298.0</td>\n",
       "      <td>414.99286</td>\n",
       "      <td>24.096800</td>\n",
       "      <td>24096.800123</td>\n",
       "    </tr>\n",
       "    <tr>\n",
       "      <th>4723</th>\n",
       "      <td>1.80646</td>\n",
       "      <td>0.37302</td>\n",
       "      <td>81.0</td>\n",
       "      <td>298.0</td>\n",
       "      <td>413.49275</td>\n",
       "      <td>24.184221</td>\n",
       "      <td>24184.220884</td>\n",
       "    </tr>\n",
       "  </tbody>\n",
       "</table>\n",
       "<p>171840 rows × 7 columns</p>\n",
       "</div>"
      ],
      "text/plain": [
       "            n        k  wt_%  temp_K   wavn_cm-1  wavl_micro-m       wavl_nm\n",
       "0     1.33259  0.00000  10.0   230.0  6000.00000      1.666667   1666.666667\n",
       "1     1.33256  0.00000  10.0   230.0  5996.00000      1.667779   1667.778519\n",
       "2     1.33253  0.00000  10.0   230.0  5992.00000      1.668892   1668.891856\n",
       "3     1.33250  0.00000  10.0   230.0  5988.00000      1.670007   1670.006680\n",
       "4     1.33246  0.00000  10.0   230.0  5984.00000      1.671123   1671.122995\n",
       "...       ...      ...   ...     ...         ...           ...           ...\n",
       "4719  1.79875  0.38136  81.0   298.0   419.49320     23.838289  23838.288678\n",
       "4720  1.79969  0.37794  81.0   298.0   417.99308     23.923841  23923.841036\n",
       "4721  1.80034  0.37607  81.0   298.0   416.49297     24.010009  24010.009101\n",
       "4722  1.80299  0.37510  81.0   298.0   414.99286     24.096800  24096.800123\n",
       "4723  1.80646  0.37302  81.0   298.0   413.49275     24.184221  24184.220884\n",
       "\n",
       "[171840 rows x 7 columns]"
      ]
     },
     "execution_count": 5,
     "metadata": {},
     "output_type": "execute_result"
    }
   ],
   "source": [
    "df_total"
   ]
  },
  {
   "cell_type": "markdown",
   "id": "25a849c6",
   "metadata": {},
   "source": [
    "## select temp that is closes to 240 K, so that only one temp in one spesific wt_%"
   ]
  },
  {
   "cell_type": "code",
   "execution_count": 6,
   "id": "0fba0cad",
   "metadata": {},
   "outputs": [
    {
     "data": {
      "text/plain": [
       "array([10., 15., 20., 25., 30., 33., 36., 37., 38., 48., 58., 65., 72.,\n",
       "       76., 81.])"
      ]
     },
     "execution_count": 6,
     "metadata": {},
     "output_type": "execute_result"
    }
   ],
   "source": [
    "wt_names = df_total[\"wt_%\"].unique()\n",
    "\n",
    "wt_names"
   ]
  },
  {
   "cell_type": "code",
   "execution_count": null,
   "id": "9f3ab750",
   "metadata": {},
   "outputs": [],
   "source": []
  },
  {
   "cell_type": "markdown",
   "id": "14c7d6cf",
   "metadata": {},
   "source": [
    "# Stop here!"
   ]
  },
  {
   "cell_type": "code",
   "execution_count": null,
   "id": "1722e0ef",
   "metadata": {},
   "outputs": [],
   "source": []
  },
  {
   "cell_type": "code",
   "execution_count": null,
   "id": "ad46e2b6",
   "metadata": {},
   "outputs": [],
   "source": []
  },
  {
   "cell_type": "code",
   "execution_count": null,
   "id": "ad20fc51",
   "metadata": {},
   "outputs": [],
   "source": []
  },
  {
   "cell_type": "code",
   "execution_count": 84,
   "id": "289a890d",
   "metadata": {},
   "outputs": [],
   "source": [
    "with open('ri.names', 'r') as f:\n",
    "    names = f.readlines()\n",
    "    for line in names:\n",
    "        print(line)\n",
    "    \n",
    "    \n",
    "    \n",
    "\n",
    "RI = read_ri(\"./H2SO4_38_213K_Myhre_2003.ri\")\n",
    "\n",
    "wt = np.zeros(len(RI['data'][\"wavn\"]))\n",
    "wt[:] = float(RI['header'][\"CONCENTRATION\"][0:2])\n",
    "\n",
    "temp = np.zeros(len(RI['data'][\"wavn\"]))\n",
    "temp[:] = float(RI['header'][\"TEMPERATURE\"][0:3])\n",
    "\n",
    "data = RI['data']\n",
    "data['wt_%'] = wt\n",
    "data['temp_K'] = temp\n",
    "data[\"wavn_cm-1\"] = data.pop(\"wavn\")\n",
    "data[\"wavl_micro-m\"] = data.pop(\"wavl\")\n",
    "data[\"wavl_nm\"] = data[\"wavl_micro-m\"]\n",
    "\n",
    "\n",
    "df_new = pd.DataFrame.from_dict(data)\n",
    "df_new.drop(columns=['wavl_micro-m'])\n",
    "df_new[\"wavl_nm\"] = df_new[\"wavl_nm\"]*1000\n",
    "\n",
    "df_new = df_new.loc[:, ['wt_%','temp_K',\"wavn_cm-1\",\"wavl_nm\",\"n\",\"k\"]]"
   ]
  },
  {
   "cell_type": "code",
   "execution_count": 85,
   "id": "e09d00b8",
   "metadata": {},
   "outputs": [
    {
     "data": {
      "text/html": [
       "<div>\n",
       "<style scoped>\n",
       "    .dataframe tbody tr th:only-of-type {\n",
       "        vertical-align: middle;\n",
       "    }\n",
       "\n",
       "    .dataframe tbody tr th {\n",
       "        vertical-align: top;\n",
       "    }\n",
       "\n",
       "    .dataframe thead th {\n",
       "        text-align: right;\n",
       "    }\n",
       "</style>\n",
       "<table border=\"1\" class=\"dataframe\">\n",
       "  <thead>\n",
       "    <tr style=\"text-align: right;\">\n",
       "      <th></th>\n",
       "      <th>wt_%</th>\n",
       "      <th>temp_K</th>\n",
       "      <th>wavn_cm-1</th>\n",
       "      <th>wavl_nm</th>\n",
       "      <th>n</th>\n",
       "      <th>k</th>\n",
       "    </tr>\n",
       "  </thead>\n",
       "  <tbody>\n",
       "    <tr>\n",
       "      <th>0</th>\n",
       "      <td>38.0</td>\n",
       "      <td>213.0</td>\n",
       "      <td>7498.52083</td>\n",
       "      <td>1333.596349</td>\n",
       "      <td>1.39033</td>\n",
       "      <td>0.01410</td>\n",
       "    </tr>\n",
       "    <tr>\n",
       "      <th>1</th>\n",
       "      <td>38.0</td>\n",
       "      <td>213.0</td>\n",
       "      <td>7497.02072</td>\n",
       "      <td>1333.863194</td>\n",
       "      <td>1.39039</td>\n",
       "      <td>0.01411</td>\n",
       "    </tr>\n",
       "    <tr>\n",
       "      <th>2</th>\n",
       "      <td>38.0</td>\n",
       "      <td>213.0</td>\n",
       "      <td>7495.52061</td>\n",
       "      <td>1334.130145</td>\n",
       "      <td>1.39047</td>\n",
       "      <td>0.01412</td>\n",
       "    </tr>\n",
       "    <tr>\n",
       "      <th>3</th>\n",
       "      <td>38.0</td>\n",
       "      <td>213.0</td>\n",
       "      <td>7494.02050</td>\n",
       "      <td>1334.397204</td>\n",
       "      <td>1.39053</td>\n",
       "      <td>0.01411</td>\n",
       "    </tr>\n",
       "    <tr>\n",
       "      <th>4</th>\n",
       "      <td>38.0</td>\n",
       "      <td>213.0</td>\n",
       "      <td>7492.52039</td>\n",
       "      <td>1334.664369</td>\n",
       "      <td>1.39058</td>\n",
       "      <td>0.01409</td>\n",
       "    </tr>\n",
       "    <tr>\n",
       "      <th>...</th>\n",
       "      <td>...</td>\n",
       "      <td>...</td>\n",
       "      <td>...</td>\n",
       "      <td>...</td>\n",
       "      <td>...</td>\n",
       "      <td>...</td>\n",
       "    </tr>\n",
       "    <tr>\n",
       "      <th>4719</th>\n",
       "      <td>38.0</td>\n",
       "      <td>213.0</td>\n",
       "      <td>419.49320</td>\n",
       "      <td>23838.288678</td>\n",
       "      <td>1.76110</td>\n",
       "      <td>0.34746</td>\n",
       "    </tr>\n",
       "    <tr>\n",
       "      <th>4720</th>\n",
       "      <td>38.0</td>\n",
       "      <td>213.0</td>\n",
       "      <td>417.99308</td>\n",
       "      <td>23923.841036</td>\n",
       "      <td>1.76061</td>\n",
       "      <td>0.34757</td>\n",
       "    </tr>\n",
       "    <tr>\n",
       "      <th>4721</th>\n",
       "      <td>38.0</td>\n",
       "      <td>213.0</td>\n",
       "      <td>416.49297</td>\n",
       "      <td>24010.009101</td>\n",
       "      <td>1.76032</td>\n",
       "      <td>0.34774</td>\n",
       "    </tr>\n",
       "    <tr>\n",
       "      <th>4722</th>\n",
       "      <td>38.0</td>\n",
       "      <td>213.0</td>\n",
       "      <td>414.99286</td>\n",
       "      <td>24096.800123</td>\n",
       "      <td>1.76014</td>\n",
       "      <td>0.34787</td>\n",
       "    </tr>\n",
       "    <tr>\n",
       "      <th>4723</th>\n",
       "      <td>38.0</td>\n",
       "      <td>213.0</td>\n",
       "      <td>413.49275</td>\n",
       "      <td>24184.220884</td>\n",
       "      <td>1.76002</td>\n",
       "      <td>0.34794</td>\n",
       "    </tr>\n",
       "  </tbody>\n",
       "</table>\n",
       "<p>4724 rows × 6 columns</p>\n",
       "</div>"
      ],
      "text/plain": [
       "      wt_%  temp_K   wavn_cm-1       wavl_nm        n        k\n",
       "0     38.0   213.0  7498.52083   1333.596349  1.39033  0.01410\n",
       "1     38.0   213.0  7497.02072   1333.863194  1.39039  0.01411\n",
       "2     38.0   213.0  7495.52061   1334.130145  1.39047  0.01412\n",
       "3     38.0   213.0  7494.02050   1334.397204  1.39053  0.01411\n",
       "4     38.0   213.0  7492.52039   1334.664369  1.39058  0.01409\n",
       "...    ...     ...         ...           ...      ...      ...\n",
       "4719  38.0   213.0   419.49320  23838.288678  1.76110  0.34746\n",
       "4720  38.0   213.0   417.99308  23923.841036  1.76061  0.34757\n",
       "4721  38.0   213.0   416.49297  24010.009101  1.76032  0.34774\n",
       "4722  38.0   213.0   414.99286  24096.800123  1.76014  0.34787\n",
       "4723  38.0   213.0   413.49275  24184.220884  1.76002  0.34794\n",
       "\n",
       "[4724 rows x 6 columns]"
      ]
     },
     "execution_count": 85,
     "metadata": {},
     "output_type": "execute_result"
    }
   ],
   "source": [
    "df_new"
   ]
  },
  {
   "cell_type": "code",
   "execution_count": 87,
   "id": "da2fa51b",
   "metadata": {},
   "outputs": [
    {
     "data": {
      "text/plain": [
       "(213.0, 213.0)"
      ]
     },
     "execution_count": 87,
     "metadata": {},
     "output_type": "execute_result"
    }
   ],
   "source": [
    "df_new['temp_K'].max(),df_new['temp_K'].min()"
   ]
  },
  {
   "cell_type": "code",
   "execution_count": 88,
   "id": "e7db1941",
   "metadata": {},
   "outputs": [
    {
     "data": {
      "text/plain": [
       "(24184.22088416302, 1333.5963487614931)"
      ]
     },
     "execution_count": 88,
     "metadata": {},
     "output_type": "execute_result"
    }
   ],
   "source": [
    "df_new['wavl_nm'].max(),df_new['wavl_nm'].min()"
   ]
  },
  {
   "cell_type": "code",
   "execution_count": null,
   "id": "26e2d4ee",
   "metadata": {},
   "outputs": [],
   "source": []
  },
  {
   "cell_type": "code",
   "execution_count": null,
   "id": "5ae2eaf1",
   "metadata": {},
   "outputs": [],
   "source": []
  },
  {
   "cell_type": "code",
   "execution_count": 27,
   "id": "a2c17b53",
   "metadata": {},
   "outputs": [
    {
     "data": {
      "text/plain": [
       "(dict_keys(['header', 'data']),\n",
       " dict_keys(['SUBSTANCE', 'DESCRIPTION', 'TEMPERATURE', 'CONCENTRATION', 'DOI', 'REFERENCE', 'FORMAT']),\n",
       " dict_keys(['wavn', 'n', 'k', 'wavl']))"
      ]
     },
     "execution_count": 27,
     "metadata": {},
     "output_type": "execute_result"
    }
   ],
   "source": [
    "RI.keys(), RI['header'].keys(), RI['data'].keys()\n"
   ]
  },
  {
   "cell_type": "code",
   "execution_count": 65,
   "id": "7846e497",
   "metadata": {},
   "outputs": [
    {
     "data": {
      "text/plain": [
       "{'SUBSTANCE': 'Sulphuric acid',\n",
       " 'DESCRIPTION': 'Refractive indices of 38 wt% sulphuric acid from 400 to 7500 cm-1 at 213 K',\n",
       " 'TEMPERATURE': '213 K',\n",
       " 'CONCENTRATION': '38 wt%',\n",
       " 'DOI': '10.1021/jp026576n',\n",
       " 'REFERENCE': 'Spectroscopic Study of Aqueous H2SO4 at Different Temperatures and Compositions: Variations in Dissociation and Optical Properties Cathrine E. Lund Myhre, Daniel H. Christensen, Flemming M. Nicolaisen and Claus J. Nielsen, The Journal of Physical Chemistry A 2003 107 (12), 1979-1991',\n",
       " 'FORMAT': 'WAVN N K'}"
      ]
     },
     "execution_count": 65,
     "metadata": {},
     "output_type": "execute_result"
    }
   ],
   "source": [
    "RI['header']"
   ]
  },
  {
   "cell_type": "code",
   "execution_count": 55,
   "id": "f7beda35",
   "metadata": {},
   "outputs": [
    {
     "data": {
      "text/plain": [
       "(array([38., 38., 38., ..., 38., 38., 38.]),\n",
       " array([213., 213., 213., ..., 213., 213., 213.]))"
      ]
     },
     "execution_count": 55,
     "metadata": {},
     "output_type": "execute_result"
    }
   ],
   "source": [
    "wt = np.zeros(len(RI['data'][\"wavn\"]))\n",
    "wt[:] = float(RI['header'][\"CONCENTRATION\"][0:2])\n",
    "\n",
    "temp = np.zeros(len(RI['data'][\"wavn\"]))\n",
    "temp[:] = float(RI['header'][\"TEMPERATURE\"][0:3])\n",
    "\n",
    "wt, temp"
   ]
  },
  {
   "cell_type": "code",
   "execution_count": 58,
   "id": "06891fa2",
   "metadata": {},
   "outputs": [
    {
     "data": {
      "text/plain": [
       "(4724, 4724, 4724, 4724)"
      ]
     },
     "execution_count": 58,
     "metadata": {},
     "output_type": "execute_result"
    }
   ],
   "source": [
    "data = RI['data']\n",
    "\n",
    "len(RI['data'][\"wavn\"]), len(RI['data'][\"n\"]), len(RI['data'][\"k\"]), len(RI['data'][\"wavl\"])\n"
   ]
  },
  {
   "cell_type": "code",
   "execution_count": 69,
   "id": "6b09c091",
   "metadata": {},
   "outputs": [],
   "source": [
    "data['wt_%'] = wt\n",
    "data['temp_K'] = temp\n",
    "data[\"wavn_cm-1\"] = data.pop(\"wavn\")\n",
    "data[\"wavl_micro-m\"] = data.pop(\"wavl\")"
   ]
  },
  {
   "cell_type": "code",
   "execution_count": 61,
   "id": "0fac968b",
   "metadata": {},
   "outputs": [
    {
     "data": {
      "text/plain": [
       "dict_keys(['wavn', 'n', 'k', 'wavl', 'wt', 'temp'])"
      ]
     },
     "execution_count": 61,
     "metadata": {},
     "output_type": "execute_result"
    }
   ],
   "source": [
    "data.keys()"
   ]
  },
  {
   "cell_type": "code",
   "execution_count": 63,
   "id": "ba7690c8",
   "metadata": {},
   "outputs": [],
   "source": [
    "new = pd.DataFrame.from_dict(data)"
   ]
  },
  {
   "cell_type": "code",
   "execution_count": 64,
   "id": "1ab54969",
   "metadata": {},
   "outputs": [
    {
     "data": {
      "text/html": [
       "<div>\n",
       "<style scoped>\n",
       "    .dataframe tbody tr th:only-of-type {\n",
       "        vertical-align: middle;\n",
       "    }\n",
       "\n",
       "    .dataframe tbody tr th {\n",
       "        vertical-align: top;\n",
       "    }\n",
       "\n",
       "    .dataframe thead th {\n",
       "        text-align: right;\n",
       "    }\n",
       "</style>\n",
       "<table border=\"1\" class=\"dataframe\">\n",
       "  <thead>\n",
       "    <tr style=\"text-align: right;\">\n",
       "      <th></th>\n",
       "      <th>wavn</th>\n",
       "      <th>n</th>\n",
       "      <th>k</th>\n",
       "      <th>wavl</th>\n",
       "      <th>wt</th>\n",
       "      <th>temp</th>\n",
       "    </tr>\n",
       "  </thead>\n",
       "  <tbody>\n",
       "    <tr>\n",
       "      <th>0</th>\n",
       "      <td>7498.52083</td>\n",
       "      <td>1.39033</td>\n",
       "      <td>0.01410</td>\n",
       "      <td>1.333596</td>\n",
       "      <td>38.0</td>\n",
       "      <td>213.0</td>\n",
       "    </tr>\n",
       "    <tr>\n",
       "      <th>1</th>\n",
       "      <td>7497.02072</td>\n",
       "      <td>1.39039</td>\n",
       "      <td>0.01411</td>\n",
       "      <td>1.333863</td>\n",
       "      <td>38.0</td>\n",
       "      <td>213.0</td>\n",
       "    </tr>\n",
       "    <tr>\n",
       "      <th>2</th>\n",
       "      <td>7495.52061</td>\n",
       "      <td>1.39047</td>\n",
       "      <td>0.01412</td>\n",
       "      <td>1.334130</td>\n",
       "      <td>38.0</td>\n",
       "      <td>213.0</td>\n",
       "    </tr>\n",
       "    <tr>\n",
       "      <th>3</th>\n",
       "      <td>7494.02050</td>\n",
       "      <td>1.39053</td>\n",
       "      <td>0.01411</td>\n",
       "      <td>1.334397</td>\n",
       "      <td>38.0</td>\n",
       "      <td>213.0</td>\n",
       "    </tr>\n",
       "    <tr>\n",
       "      <th>4</th>\n",
       "      <td>7492.52039</td>\n",
       "      <td>1.39058</td>\n",
       "      <td>0.01409</td>\n",
       "      <td>1.334664</td>\n",
       "      <td>38.0</td>\n",
       "      <td>213.0</td>\n",
       "    </tr>\n",
       "    <tr>\n",
       "      <th>...</th>\n",
       "      <td>...</td>\n",
       "      <td>...</td>\n",
       "      <td>...</td>\n",
       "      <td>...</td>\n",
       "      <td>...</td>\n",
       "      <td>...</td>\n",
       "    </tr>\n",
       "    <tr>\n",
       "      <th>4719</th>\n",
       "      <td>419.49320</td>\n",
       "      <td>1.76110</td>\n",
       "      <td>0.34746</td>\n",
       "      <td>23.838289</td>\n",
       "      <td>38.0</td>\n",
       "      <td>213.0</td>\n",
       "    </tr>\n",
       "    <tr>\n",
       "      <th>4720</th>\n",
       "      <td>417.99308</td>\n",
       "      <td>1.76061</td>\n",
       "      <td>0.34757</td>\n",
       "      <td>23.923841</td>\n",
       "      <td>38.0</td>\n",
       "      <td>213.0</td>\n",
       "    </tr>\n",
       "    <tr>\n",
       "      <th>4721</th>\n",
       "      <td>416.49297</td>\n",
       "      <td>1.76032</td>\n",
       "      <td>0.34774</td>\n",
       "      <td>24.010009</td>\n",
       "      <td>38.0</td>\n",
       "      <td>213.0</td>\n",
       "    </tr>\n",
       "    <tr>\n",
       "      <th>4722</th>\n",
       "      <td>414.99286</td>\n",
       "      <td>1.76014</td>\n",
       "      <td>0.34787</td>\n",
       "      <td>24.096800</td>\n",
       "      <td>38.0</td>\n",
       "      <td>213.0</td>\n",
       "    </tr>\n",
       "    <tr>\n",
       "      <th>4723</th>\n",
       "      <td>413.49275</td>\n",
       "      <td>1.76002</td>\n",
       "      <td>0.34794</td>\n",
       "      <td>24.184221</td>\n",
       "      <td>38.0</td>\n",
       "      <td>213.0</td>\n",
       "    </tr>\n",
       "  </tbody>\n",
       "</table>\n",
       "<p>4724 rows × 6 columns</p>\n",
       "</div>"
      ],
      "text/plain": [
       "            wavn        n        k       wavl    wt   temp\n",
       "0     7498.52083  1.39033  0.01410   1.333596  38.0  213.0\n",
       "1     7497.02072  1.39039  0.01411   1.333863  38.0  213.0\n",
       "2     7495.52061  1.39047  0.01412   1.334130  38.0  213.0\n",
       "3     7494.02050  1.39053  0.01411   1.334397  38.0  213.0\n",
       "4     7492.52039  1.39058  0.01409   1.334664  38.0  213.0\n",
       "...          ...      ...      ...        ...   ...    ...\n",
       "4719   419.49320  1.76110  0.34746  23.838289  38.0  213.0\n",
       "4720   417.99308  1.76061  0.34757  23.923841  38.0  213.0\n",
       "4721   416.49297  1.76032  0.34774  24.010009  38.0  213.0\n",
       "4722   414.99286  1.76014  0.34787  24.096800  38.0  213.0\n",
       "4723   413.49275  1.76002  0.34794  24.184221  38.0  213.0\n",
       "\n",
       "[4724 rows x 6 columns]"
      ]
     },
     "execution_count": 64,
     "metadata": {},
     "output_type": "execute_result"
    }
   ],
   "source": [
    "new"
   ]
  },
  {
   "cell_type": "code",
   "execution_count": null,
   "id": "8f48ca3d",
   "metadata": {},
   "outputs": [],
   "source": []
  }
 ],
 "metadata": {
  "kernelspec": {
   "display_name": "Python [conda env:.conda-SUNenv]",
   "language": "python",
   "name": "conda-env-.conda-SUNenv-py"
  },
  "language_info": {
   "codemirror_mode": {
    "name": "ipython",
    "version": 3
   },
   "file_extension": ".py",
   "mimetype": "text/x-python",
   "name": "python",
   "nbconvert_exporter": "python",
   "pygments_lexer": "ipython3",
   "version": "3.8.5"
  }
 },
 "nbformat": 4,
 "nbformat_minor": 5
}
