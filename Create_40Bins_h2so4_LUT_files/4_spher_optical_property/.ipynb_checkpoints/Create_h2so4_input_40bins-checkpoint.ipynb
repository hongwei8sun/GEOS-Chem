{
 "cells": [
  {
   "cell_type": "code",
   "execution_count": 2,
   "id": "8ac8b49a",
   "metadata": {},
   "outputs": [],
   "source": [
    "import numpy as np\n",
    "import matplotlib.pyplot as plt\n",
    "import pandas as pd\n",
    "from tqdm import tqdm"
   ]
  },
  {
   "cell_type": "code",
   "execution_count": 3,
   "id": "049baea9",
   "metadata": {},
   "outputs": [
    {
     "data": {
      "text/html": [
       "<div>\n",
       "<style scoped>\n",
       "    .dataframe tbody tr th:only-of-type {\n",
       "        vertical-align: middle;\n",
       "    }\n",
       "\n",
       "    .dataframe tbody tr th {\n",
       "        vertical-align: top;\n",
       "    }\n",
       "\n",
       "    .dataframe thead th {\n",
       "        text-align: right;\n",
       "    }\n",
       "</style>\n",
       "<table border=\"1\" class=\"dataframe\">\n",
       "  <thead>\n",
       "    <tr style=\"text-align: right;\">\n",
       "      <th></th>\n",
       "      <th>Unnamed: 0</th>\n",
       "      <th>w(nm)</th>\n",
       "      <th>Rdry_um</th>\n",
       "      <th>RH_%</th>\n",
       "      <th>wp_%</th>\n",
       "      <th>Rwet_um</th>\n",
       "      <th>N</th>\n",
       "      <th>iK</th>\n",
       "    </tr>\n",
       "  </thead>\n",
       "  <tbody>\n",
       "    <tr>\n",
       "      <th>0</th>\n",
       "      <td>0</td>\n",
       "      <td>300.0</td>\n",
       "      <td>0.000394</td>\n",
       "      <td>0.0</td>\n",
       "      <td>99.000000</td>\n",
       "      <td>0.000394</td>\n",
       "      <td>1.33259</td>\n",
       "      <td>0.00000</td>\n",
       "    </tr>\n",
       "    <tr>\n",
       "      <th>1</th>\n",
       "      <td>1</td>\n",
       "      <td>300.0</td>\n",
       "      <td>0.000394</td>\n",
       "      <td>50.0</td>\n",
       "      <td>39.842581</td>\n",
       "      <td>0.000591</td>\n",
       "      <td>1.37965</td>\n",
       "      <td>0.01137</td>\n",
       "    </tr>\n",
       "    <tr>\n",
       "      <th>2</th>\n",
       "      <td>2</td>\n",
       "      <td>300.0</td>\n",
       "      <td>0.000394</td>\n",
       "      <td>70.0</td>\n",
       "      <td>30.549615</td>\n",
       "      <td>0.000659</td>\n",
       "      <td>1.41790</td>\n",
       "      <td>0.01732</td>\n",
       "    </tr>\n",
       "    <tr>\n",
       "      <th>3</th>\n",
       "      <td>3</td>\n",
       "      <td>300.0</td>\n",
       "      <td>0.000394</td>\n",
       "      <td>80.0</td>\n",
       "      <td>25.469146</td>\n",
       "      <td>0.000709</td>\n",
       "      <td>1.42001</td>\n",
       "      <td>0.01367</td>\n",
       "    </tr>\n",
       "    <tr>\n",
       "      <th>4</th>\n",
       "      <td>4</td>\n",
       "      <td>300.0</td>\n",
       "      <td>0.000394</td>\n",
       "      <td>90.0</td>\n",
       "      <td>17.952168</td>\n",
       "      <td>0.000811</td>\n",
       "      <td>1.42001</td>\n",
       "      <td>0.01367</td>\n",
       "    </tr>\n",
       "    <tr>\n",
       "      <th>...</th>\n",
       "      <td>...</td>\n",
       "      <td>...</td>\n",
       "      <td>...</td>\n",
       "      <td>...</td>\n",
       "      <td>...</td>\n",
       "      <td>...</td>\n",
       "      <td>...</td>\n",
       "      <td>...</td>\n",
       "    </tr>\n",
       "    <tr>\n",
       "      <th>11475</th>\n",
       "      <td>11475</td>\n",
       "      <td>7082.2</td>\n",
       "      <td>3.225682</td>\n",
       "      <td>70.0</td>\n",
       "      <td>30.549615</td>\n",
       "      <td>5.393621</td>\n",
       "      <td>1.25531</td>\n",
       "      <td>0.18306</td>\n",
       "    </tr>\n",
       "    <tr>\n",
       "      <th>11476</th>\n",
       "      <td>11476</td>\n",
       "      <td>7082.2</td>\n",
       "      <td>3.225682</td>\n",
       "      <td>80.0</td>\n",
       "      <td>25.469146</td>\n",
       "      <td>5.798730</td>\n",
       "      <td>1.22907</td>\n",
       "      <td>0.13133</td>\n",
       "    </tr>\n",
       "    <tr>\n",
       "      <th>11477</th>\n",
       "      <td>11477</td>\n",
       "      <td>7082.2</td>\n",
       "      <td>3.225682</td>\n",
       "      <td>90.0</td>\n",
       "      <td>17.952168</td>\n",
       "      <td>6.636533</td>\n",
       "      <td>1.22907</td>\n",
       "      <td>0.13133</td>\n",
       "    </tr>\n",
       "    <tr>\n",
       "      <th>11478</th>\n",
       "      <td>11478</td>\n",
       "      <td>7082.2</td>\n",
       "      <td>3.225682</td>\n",
       "      <td>95.0</td>\n",
       "      <td>15.000000</td>\n",
       "      <td>7.099407</td>\n",
       "      <td>1.22907</td>\n",
       "      <td>0.13133</td>\n",
       "    </tr>\n",
       "    <tr>\n",
       "      <th>11479</th>\n",
       "      <td>11479</td>\n",
       "      <td>7082.2</td>\n",
       "      <td>3.225682</td>\n",
       "      <td>99.0</td>\n",
       "      <td>15.000000</td>\n",
       "      <td>7.099407</td>\n",
       "      <td>1.22907</td>\n",
       "      <td>0.13133</td>\n",
       "    </tr>\n",
       "  </tbody>\n",
       "</table>\n",
       "<p>11480 rows × 8 columns</p>\n",
       "</div>"
      ],
      "text/plain": [
       "       Unnamed: 0   w(nm)   Rdry_um  RH_%       wp_%   Rwet_um        N  \\\n",
       "0               0   300.0  0.000394   0.0  99.000000  0.000394  1.33259   \n",
       "1               1   300.0  0.000394  50.0  39.842581  0.000591  1.37965   \n",
       "2               2   300.0  0.000394  70.0  30.549615  0.000659  1.41790   \n",
       "3               3   300.0  0.000394  80.0  25.469146  0.000709  1.42001   \n",
       "4               4   300.0  0.000394  90.0  17.952168  0.000811  1.42001   \n",
       "...           ...     ...       ...   ...        ...       ...      ...   \n",
       "11475       11475  7082.2  3.225682  70.0  30.549615  5.393621  1.25531   \n",
       "11476       11476  7082.2  3.225682  80.0  25.469146  5.798730  1.22907   \n",
       "11477       11477  7082.2  3.225682  90.0  17.952168  6.636533  1.22907   \n",
       "11478       11478  7082.2  3.225682  95.0  15.000000  7.099407  1.22907   \n",
       "11479       11479  7082.2  3.225682  99.0  15.000000  7.099407  1.22907   \n",
       "\n",
       "            iK  \n",
       "0      0.00000  \n",
       "1      0.01137  \n",
       "2      0.01732  \n",
       "3      0.01367  \n",
       "4      0.01367  \n",
       "...        ...  \n",
       "11475  0.18306  \n",
       "11476  0.13133  \n",
       "11477  0.13133  \n",
       "11478  0.13133  \n",
       "11479  0.13133  \n",
       "\n",
       "[11480 rows x 8 columns]"
      ]
     },
     "execution_count": 3,
     "metadata": {},
     "output_type": "execute_result"
    }
   ],
   "source": [
    "df1 = pd.read_csv('../3_get_Refractive_Index_for_40Bins_h2so4/h2so4_total.csv')\n",
    "df1"
   ]
  },
  {
   "cell_type": "code",
   "execution_count": 4,
   "id": "daf7210d",
   "metadata": {},
   "outputs": [
    {
     "data": {
      "text/plain": [
       "(287, 40, (7, 41, 40, 7))"
      ]
     },
     "execution_count": 4,
     "metadata": {},
     "output_type": "execute_result"
    }
   ],
   "source": [
    "N_Rdry = len(df1[\"Rdry_um\"].unique())\n",
    "N_wv = len(df1[\"w(nm)\"].unique())\n",
    "N_RH = len(df1[\"RH_%\"].unique())\n",
    "NUM = N_wv * N_RH\n",
    "\n",
    "data = np.zeros((N_RH, N_wv, N_Rdry, 7))\n",
    "data_new = np.zeros((N_RH*N_wv, 4+40+40))\n",
    "\n",
    "# READ(261,'(f8.1, f4.0, f7.4, E11.3, 40f12.9, 40f12.9)')\n",
    "#      * LAM_array(inum), RH(inum), MRR_array(inum),\n",
    "#      * MRI_array(inum), AA_dry(1:40,inum), AA_array(1:40,inum)\n",
    "\n",
    "NUM, N_Rdry, data.shape"
   ]
  },
  {
   "cell_type": "code",
   "execution_count": 5,
   "id": "bb536985",
   "metadata": {},
   "outputs": [
    {
     "name": "stderr",
     "output_type": "stream",
     "text": [
      "100%|██████████| 40/40 [00:02<00:00, 19.03it/s]"
     ]
    },
    {
     "name": "stdout",
     "output_type": "stream",
     "text": [
      "w(nm)      7082.200000\n",
      "Rdry_um       3.225682\n",
      "RH_%         99.000000\n",
      "wp_%         15.000000\n",
      "Rwet_um       7.099407\n",
      "N             1.229070\n",
      "iK            0.131330\n",
      "Name: 11479, dtype: float64\n"
     ]
    },
    {
     "name": "stderr",
     "output_type": "stream",
     "text": [
      "\n"
     ]
    }
   ],
   "source": [
    "for i_Rdry in tqdm(range(N_Rdry)):\n",
    "    for i_wv in range(N_wv):\n",
    "        for i_RH in range(N_RH):\n",
    "            idx = i_Rdry*(N_wv*N_RH) + i_wv*N_RH + i_RH\n",
    "            # w(nm)\tRdry_um\tRH_%\twp_%\tRwet_um\tN\tiK\n",
    "            data[i_RH, i_wv, i_Rdry, 0:8] = df1.iloc[idx][1:9]\n",
    "            \n",
    "\n",
    "print(df1.iloc[idx][1:9])\n",
    "\n",
    "\n",
    "            \n",
    "if idx+1 != len(df1): print(\"*** total length is wrong!!! ***\")"
   ]
  },
  {
   "cell_type": "code",
   "execution_count": 6,
   "id": "59dd62d6",
   "metadata": {},
   "outputs": [],
   "source": [
    "for i_RH in range(N_RH):\n",
    "    for i_wv in range(N_wv):\n",
    "        inum = i_RH*N_wv + i_wv\n",
    "        \n",
    "        wv = data[i_RH, i_wv, 0, 0]\n",
    "        RH = data[i_RH, i_wv, 0, 2]\n",
    "        MRR = data[i_RH, i_wv, 0, 5]\n",
    "        MRI = data[i_RH, i_wv, 0, 6]\n",
    "        Rdry = []\n",
    "        Rwet = []\n",
    "        \n",
    "        for i_Rdry in range(N_Rdry):\n",
    "            Rdry.append( data[i_RH, i_wv, i_Rdry, 1] )\n",
    "            Rwet.append( data[i_RH, i_wv, i_Rdry, 4] )\n",
    "        \n",
    "        data_new[inum,0:4] = [wv, RH, MRR, MRI]\n",
    "        data_new[inum,4:44] = Rdry\n",
    "        data_new[inum,44:84] = Rwet\n",
    "        \n",
    "#         if inum==0: print(data_new)\n",
    "        "
   ]
  },
  {
   "cell_type": "code",
   "execution_count": 7,
   "id": "3bfbfcbd",
   "metadata": {},
   "outputs": [],
   "source": [
    "np.savetxt('h2so4_input_spher.txt', data_new)"
   ]
  },
  {
   "cell_type": "code",
   "execution_count": 10,
   "id": "53c67f02",
   "metadata": {},
   "outputs": [
    {
     "ename": "NameError",
     "evalue": "name 'it' is not defined",
     "output_type": "error",
     "traceback": [
      "\u001b[0;31m---------------------------------------------------------------------------\u001b[0m",
      "\u001b[0;31mNameError\u001b[0m                                 Traceback (most recent call last)",
      "\u001b[0;32m<ipython-input-10-203dc2a178c1>\u001b[0m in \u001b[0;36m<module>\u001b[0;34m\u001b[0m\n\u001b[1;32m      1\u001b[0m \u001b[0;32mwith\u001b[0m \u001b[0mopen\u001b[0m\u001b[0;34m(\u001b[0m\u001b[0;34m'./h2so4_input_spher.txt'\u001b[0m\u001b[0;34m,\u001b[0m \u001b[0;34m'w'\u001b[0m\u001b[0;34m)\u001b[0m \u001b[0;32mas\u001b[0m \u001b[0mf\u001b[0m\u001b[0;34m:\u001b[0m\u001b[0;34m\u001b[0m\u001b[0;34m\u001b[0m\u001b[0m\n\u001b[1;32m      2\u001b[0m     \u001b[0;32mfor\u001b[0m \u001b[0mi\u001b[0m \u001b[0;32min\u001b[0m \u001b[0mrange\u001b[0m\u001b[0;34m(\u001b[0m\u001b[0mNUM\u001b[0m\u001b[0;34m)\u001b[0m\u001b[0;34m:\u001b[0m\u001b[0;34m\u001b[0m\u001b[0;34m\u001b[0m\u001b[0m\n\u001b[0;32m----> 3\u001b[0;31m         f.write(  str(it) + ',' \\\n\u001b[0m\u001b[1;32m      4\u001b[0m                 \u001b[0;34m+\u001b[0m \u001b[0mstr\u001b[0m\u001b[0;34m(\u001b[0m\u001b[0mLons_mid\u001b[0m\u001b[0;34m[\u001b[0m\u001b[0mix\u001b[0m\u001b[0;34m]\u001b[0m\u001b[0;34m)\u001b[0m \u001b[0;34m+\u001b[0m \u001b[0;34m','\u001b[0m\u001b[0;31m \u001b[0m\u001b[0;31m\\\u001b[0m\u001b[0;34m\u001b[0m\u001b[0;34m\u001b[0m\u001b[0m\n\u001b[1;32m      5\u001b[0m                 \u001b[0;34m+\u001b[0m \u001b[0mstr\u001b[0m\u001b[0;34m(\u001b[0m\u001b[0mLats_mid\u001b[0m\u001b[0;34m[\u001b[0m\u001b[0miy\u001b[0m\u001b[0;34m]\u001b[0m\u001b[0;34m)\u001b[0m \u001b[0;34m+\u001b[0m \u001b[0;34m','\u001b[0m\u001b[0;31m \u001b[0m\u001b[0;31m\\\u001b[0m\u001b[0;34m\u001b[0m\u001b[0;34m\u001b[0m\u001b[0m\n",
      "\u001b[0;31mNameError\u001b[0m: name 'it' is not defined"
     ]
    }
   ],
   "source": [
    "with open('./h2so4_input_spher.txt', 'w') as f:\n",
    "    for i in range(NUM):\n",
    "        f.write(  str(it) + ',' \\\n",
    "                + str(Lons_mid[ix]) + ',' \\\n",
    "                + str(Lats_mid[iy]) + ',' \\\n",
    "                        \n",
    "                + str(Num_2D[ix, iy, 0, it])  + ',' \\\n",
    "                + str(Num_2D[ix, iy, 1, it])  + ',' \\\n",
    "                + str(Num_2D[ix, iy, 2, it])  + ',' \\\n",
    "                + str(Num_2D[ix, iy, 3, it])  + ',' \\\n",
    "                + str(Num_2D[ix, iy, 4, it])  + ',' \\\n",
    "                + str(Num_2D[ix, iy, 5, it])   )\n",
    "                        \n",
    "        f.write('\\n')\n",
    "f.close()"
   ]
  },
  {
   "cell_type": "code",
   "execution_count": null,
   "id": "c877541d",
   "metadata": {},
   "outputs": [],
   "source": [
    "df_new = pd.DataFrame(data_new)\n",
    "# df_new.columns =[\"w(nm)\", \"RH_%\", \"N\", \"iK\", \"Rdry_um\", \"Rwet_um\",]\n",
    "\n",
    "df_new.to_csv('h2so4_input_spher.csv', index=\"false\", header='false')"
   ]
  },
  {
   "cell_type": "code",
   "execution_count": null,
   "id": "225d0a20",
   "metadata": {},
   "outputs": [],
   "source": [
    "df_new"
   ]
  },
  {
   "cell_type": "code",
   "execution_count": null,
   "id": "55e113ed",
   "metadata": {},
   "outputs": [],
   "source": [
    "# READ(261,'(f8.1, f4.0, f7.4, E11.3, 40f12.9, 40f12.9)')\n",
    "#      * LAM_array(inum), RH(inum), MRR_array(inum),\n",
    "#      * MRI_array(inum), AA_dry(1:40,inum), AA_array(1:40,inum)"
   ]
  },
  {
   "cell_type": "code",
   "execution_count": null,
   "id": "c64d3605",
   "metadata": {},
   "outputs": [],
   "source": []
  }
 ],
 "metadata": {
  "kernelspec": {
   "display_name": "Python [conda env:.conda-SUNenv]",
   "language": "python",
   "name": "conda-env-.conda-SUNenv-py"
  },
  "language_info": {
   "codemirror_mode": {
    "name": "ipython",
    "version": 3
   },
   "file_extension": ".py",
   "mimetype": "text/x-python",
   "name": "python",
   "nbconvert_exporter": "python",
   "pygments_lexer": "ipython3",
   "version": "3.8.5"
  }
 },
 "nbformat": 4,
 "nbformat_minor": 5
}
