{
 "cells": [
  {
   "cell_type": "code",
   "execution_count": 40,
   "id": "67bfb255",
   "metadata": {},
   "outputs": [],
   "source": [
    "import numpy as np\n",
    "import matplotlib.pyplot as plt\n"
   ]
  },
  {
   "cell_type": "code",
   "execution_count": 41,
   "id": "850cf197",
   "metadata": {},
   "outputs": [],
   "source": [
    "BIN_name = '24'\n",
    "\n",
    "with open('./plot_txt/h2so4_bin_'+BIN_name+'.dat') as f:\n",
    "    lines = f.readlines()\n",
    "    \n",
    "    w_nm = []\n",
    "    RH = []\n",
    "    N = []\n",
    "    Rdry = []\n",
    "    Rwet = []\n",
    "    Q = []\n",
    "    alpha = []\n",
    "    \n",
    "    num = 0\n",
    "    for line in lines:\n",
    "        if num>=3:\n",
    "            a = line.split(',')\n",
    "#             print(a)\n",
    "            \n",
    "            w_nm.append(float(a[-20]))\n",
    "            RH.append(float(a[-19]))\n",
    "            N.append(float(a[-18]))\n",
    "            Rdry.append(float(a[-16]))\n",
    "            Rwet.append(float(a[-15]))\n",
    "            Q.append(float(a[-13]))\n",
    "            alpha.append(float(a[-12]))\n",
    "            \n",
    "        num = num+1\n"
   ]
  },
  {
   "cell_type": "code",
   "execution_count": 42,
   "id": "bb0e5139",
   "metadata": {},
   "outputs": [
    {
     "name": "stdout",
     "output_type": "stream",
     "text": [
      "287 287 287 287 287 287 287\n"
     ]
    }
   ],
   "source": [
    "print(len(w_nm), len(RH), len(N), len(Rdry), len(Rwet), len(Q), len(alpha))\n",
    "\n",
    "w_nm = np.array(w_nm)\n",
    "RH = np.array(RH)\n",
    "N = np.array(N)\n",
    "Rdry = np.array(Rdry)\n",
    "Rwet = np.array(Rwet)\n",
    "Q = np.array(Q)\n",
    "alpha = np.array(alpha)\n",
    "\n",
    "\n",
    "data = np.zeros((7,len(w_nm)))\n",
    "\n",
    "data[0,:] = w_nm\n",
    "data[1,:] = RH\n",
    "data[2,:] = N\n",
    "data[3,:] = Rdry\n",
    "data[4,:] = Rwet\n",
    "data[5,:] = Q\n",
    "data[6,:] = alpha"
   ]
  },
  {
   "cell_type": "code",
   "execution_count": 43,
   "id": "0d2e257c",
   "metadata": {},
   "outputs": [],
   "source": [
    "with open('./plot_txt/h2so4_GC.dat') as f2:\n",
    "    lines2 = f2.readlines()\n",
    "    \n",
    "    w_nm2 = []\n",
    "    RH2 = []\n",
    "    N2 = []\n",
    "    Rdry2 = []\n",
    "    Rwet2 = []\n",
    "    Q2 = []\n",
    "    alpha2 = []\n",
    "    \n",
    "    num = 0\n",
    "    for line2 in lines2:\n",
    "        if num>=3:\n",
    "            a2 = line2.split(',')\n",
    "#             print(a)\n",
    "            \n",
    "            w_nm2.append(float(a2[-20]))\n",
    "            RH2.append(float(a2[-19]))\n",
    "            N2.append(float(a2[-18]))\n",
    "            Rdry2.append(float(a2[-16]))\n",
    "            Rwet2.append(float(a2[-15]))\n",
    "            Q2.append(float(a2[-13]))\n",
    "            alpha2.append(float(a2[-12]))\n",
    "            \n",
    "        num = num+1\n"
   ]
  },
  {
   "cell_type": "code",
   "execution_count": 44,
   "id": "2cc887c0",
   "metadata": {},
   "outputs": [
    {
     "name": "stdout",
     "output_type": "stream",
     "text": [
      "287 287 287 287 287 287 287\n"
     ]
    }
   ],
   "source": [
    "print(len(w_nm2), len(RH2), len(N2), len(Rdry2), len(Rwet2), len(Q2), len(alpha2))\n",
    "\n",
    "w_nm2 = np.array(w_nm2)\n",
    "RH2 = np.array(RH2)\n",
    "N2 = np.array(N2)\n",
    "Rdry2 = np.array(Rdry2)\n",
    "Rwet2 = np.array(Rwet2)\n",
    "Q2 = np.array(Q2) #*3.14* Rwet2**2\n",
    "alpha2 = np.array(alpha2)\n",
    "\n",
    "data2 = np.zeros((7,len(w_nm2)))\n",
    "\n",
    "data2[0,:] = w_nm2\n",
    "data2[1,:] = RH2\n",
    "data2[2,:] = N2\n",
    "data2[3,:] = Rdry2\n",
    "data2[4,:] = Rwet2\n",
    "data2[5,:] = Q2\n",
    "data2[6,:] = alpha2\n",
    "\n",
    "# data2[5,:] = data2[5,:]*3.14*data2[4,:]**2"
   ]
  },
  {
   "cell_type": "code",
   "execution_count": 45,
   "id": "20367ac0",
   "metadata": {},
   "outputs": [],
   "source": [
    "# data[2,:]"
   ]
  },
  {
   "cell_type": "code",
   "execution_count": 46,
   "id": "7754ec41",
   "metadata": {},
   "outputs": [],
   "source": [
    "# data2[2,:]-data[2,:]"
   ]
  },
  {
   "cell_type": "code",
   "execution_count": 47,
   "id": "34633bcf",
   "metadata": {},
   "outputs": [
    {
     "data": {
      "image/png": "[encoded data removed]",
      "text/plain": [
       "<Figure size 432x288 with 1 Axes>"
      ]
     },
     "metadata": {
      "needs_background": "light"
     },
     "output_type": "display_data"
    }
   ],
   "source": [
    "i1 = 0\n",
    "i2 = i1+41\n",
    "\n",
    "plt.plot(w_nm2[i1:i2], Q2[i1:i2], 'b.', label=\"GEOS-Chem\")\n",
    "plt.plot(w_nm[i1:i2], Q[i1:i2], 'r.', label=f'BIN={BIN_name}th')\n",
    "\n",
    "plt.xlabel('wavelength (nm)')\n",
    "plt.ylabel('Q');\n",
    "\n",
    "plt.xscale('log');\n",
    "plt.yscale('log');\n",
    "plt.legend();"
   ]
  },
  {
   "cell_type": "code",
   "execution_count": 48,
   "id": "e536cd1b",
   "metadata": {},
   "outputs": [
    {
     "data": {
      "image/png": "[encoded data removed]",
      "text/plain": [
       "<Figure size 432x288 with 1 Axes>"
      ]
     },
     "metadata": {
      "needs_background": "light"
     },
     "output_type": "display_data"
    }
   ],
   "source": [
    "i1 = 0\n",
    "i2 = i1+41\n",
    "\n",
    "plt.plot(w_nm2[i1:i2], Q2[i1:i2], 'b.', label=\"GEOS-Chem\")\n",
    "plt.plot(w_nm[i1:i2], Q[i1:i2], 'r.', label=f'BIN={BIN_name}th')\n",
    "\n",
    "plt.xlabel('wavelength (nm)')\n",
    "plt.ylabel('Q');\n",
    "\n",
    "plt.xscale('log');\n",
    "plt.yscale('log');\n",
    "plt.legend();"
   ]
  },
  {
   "cell_type": "code",
   "execution_count": 49,
   "id": "520943e4",
   "metadata": {},
   "outputs": [
    {
     "data": {
      "image/png": "[encoded data removed]",
      "text/plain": [
       "<Figure size 432x288 with 1 Axes>"
      ]
     },
     "metadata": {
      "needs_background": "light"
     },
     "output_type": "display_data"
    }
   ],
   "source": [
    "i1 = 0\n",
    "i2 = i1+41\n",
    "\n",
    "plt.plot(w_nm2[i1:i2], N2[i1:i2], 'b.', label=\"GEOS-Chem\")\n",
    "plt.plot(w_nm[i1:i2], N[i1:i2], 'r.', label=f'BIN={BIN_name}th')\n",
    "\n",
    "\n",
    "plt.xlabel('wavelength (nm)')\n",
    "plt.ylabel('N');\n",
    "plt.legend();"
   ]
  },
  {
   "cell_type": "code",
   "execution_count": 60,
   "id": "bab1d9dd",
   "metadata": {},
   "outputs": [
    {
     "data": {
      "image/png": "[encoded data removed]",
      "text/plain": [
       "<Figure size 432x288 with 1 Axes>"
      ]
     },
     "metadata": {
      "needs_background": "light"
     },
     "output_type": "display_data"
    }
   ],
   "source": [
    "i1 = 41*6\n",
    "i2 = i1+41\n",
    "\n",
    "plt.plot(w_nm2[i1:i2], N2[i1:i2], 'b.', label=\"GEOS-Chem\")\n",
    "plt.plot(w_nm[i1:i2], N[i1:i2], 'r.', label=f'BIN={BIN_name}th')\n",
    "\n",
    "\n",
    "plt.xlabel('wavelength (nm)')\n",
    "plt.ylabel('N');\n",
    "plt.legend();\n",
    "\n",
    "plt.xscale('log');"
   ]
  },
  {
   "cell_type": "code",
   "execution_count": 51,
   "id": "3c7f8d48",
   "metadata": {},
   "outputs": [
    {
     "name": "stdout",
     "output_type": "stream",
     "text": [
      "[-0.1364 -0.1074 -0.1004 -0.0984 -0.0974 -0.0964 -0.096  -0.0934 -0.0928\n",
      " -0.0894 -0.0887 -0.7316 -0.7471 -0.7239 -0.4174 -0.5133 -0.5248 -0.5406\n",
      " -0.3416  0.1625  0.0706 -0.0758 -0.008  -0.0255 -0.0216 -0.0045  0.1098\n",
      "  0.0966 -0.1816 -0.0662 -0.0642 -0.0639 -0.0722 -0.0796 -0.0913 -0.0956\n",
      " -0.098  -0.1074 -0.1261 -0.1534  0.092 ]\n"
     ]
    }
   ],
   "source": [
    "print( np.array(N[i1:i2]) - np.array(N2[i1:i2]) )"
   ]
  },
  {
   "cell_type": "code",
   "execution_count": null,
   "id": "4ab191e0",
   "metadata": {},
   "outputs": [],
   "source": []
  }
 ],
 "metadata": {
  "kernelspec": {
   "display_name": "Python [conda env:.conda-SUNenv]",
   "language": "python",
   "name": "conda-env-.conda-SUNenv-py"
  },
  "language_info": {
   "codemirror_mode": {
    "name": "ipython",
    "version": 3
   },
   "file_extension": ".py",
   "mimetype": "text/x-python",
   "name": "python",
   "nbconvert_exporter": "python",
   "pygments_lexer": "ipython3",
   "version": "3.8.5"
  }
 },
 "nbformat": 4,
 "nbformat_minor": 5
}
