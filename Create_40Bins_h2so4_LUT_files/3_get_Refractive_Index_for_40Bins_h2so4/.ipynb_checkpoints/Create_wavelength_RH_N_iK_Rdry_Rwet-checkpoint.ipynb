{
 "cells": [
  {
   "cell_type": "code",
   "execution_count": 2,
   "id": "7f1c3453",
   "metadata": {},
   "outputs": [],
   "source": [
    "import numpy as np\n",
    "import matplotlib.pyplot as plt\n",
    "import pandas as pd\n",
    "from tqdm import tqdm"
   ]
  },
  {
   "cell_type": "code",
   "execution_count": 3,
   "id": "be764ea5",
   "metadata": {},
   "outputs": [
    {
     "ename": "FileNotFoundError",
     "evalue": "[Errno 2] No such file or directory: './1_Refractive_index_of_sulfate_from_ARIA/Rdry_RH_wp_Rwet.csv'",
     "output_type": "error",
     "traceback": [
      "\u001b[0;31m---------------------------------------------------------------------------\u001b[0m",
      "\u001b[0;31mFileNotFoundError\u001b[0m                         Traceback (most recent call last)",
      "\u001b[0;32m<ipython-input-3-00c82cbd071f>\u001b[0m in \u001b[0;36m<module>\u001b[0;34m\u001b[0m\n\u001b[0;32m----> 1\u001b[0;31m \u001b[0mdf1\u001b[0m \u001b[0;34m=\u001b[0m \u001b[0mpd\u001b[0m\u001b[0;34m.\u001b[0m\u001b[0mread_csv\u001b[0m\u001b[0;34m(\u001b[0m\u001b[0;34m'./1_Refractive_index_of_sulfate_from_ARIA/Rdry_RH_wp_Rwet.csv'\u001b[0m\u001b[0;34m)\u001b[0m\u001b[0;34m\u001b[0m\u001b[0;34m\u001b[0m\u001b[0m\n\u001b[0m\u001b[1;32m      2\u001b[0m \u001b[0mdf2\u001b[0m \u001b[0;34m=\u001b[0m \u001b[0mpd\u001b[0m\u001b[0;34m.\u001b[0m\u001b[0mread_csv\u001b[0m\u001b[0;34m(\u001b[0m\u001b[0;34m'./2_calculate_Rwet_WP_for_each_RH_Rdry/Refractive_Index_from_ARIA/Fractive_index_LUT.csv'\u001b[0m\u001b[0;34m)\u001b[0m\u001b[0;34m\u001b[0m\u001b[0;34m\u001b[0m\u001b[0m\n\u001b[1;32m      3\u001b[0m \u001b[0mdf3\u001b[0m \u001b[0;34m=\u001b[0m \u001b[0mpd\u001b[0m\u001b[0;34m.\u001b[0m\u001b[0mread_csv\u001b[0m\u001b[0;34m(\u001b[0m\u001b[0;34m'./wavelength.csv'\u001b[0m\u001b[0;34m)\u001b[0m\u001b[0;34m\u001b[0m\u001b[0;34m\u001b[0m\u001b[0m\n",
      "\u001b[0;32m~/.conda/envs/SUNenv/lib/python3.8/site-packages/pandas/io/parsers.py\u001b[0m in \u001b[0;36mread_csv\u001b[0;34m(filepath_or_buffer, sep, delimiter, header, names, index_col, usecols, squeeze, prefix, mangle_dupe_cols, dtype, engine, converters, true_values, false_values, skipinitialspace, skiprows, skipfooter, nrows, na_values, keep_default_na, na_filter, verbose, skip_blank_lines, parse_dates, infer_datetime_format, keep_date_col, date_parser, dayfirst, cache_dates, iterator, chunksize, compression, thousands, decimal, lineterminator, quotechar, quoting, doublequote, escapechar, comment, encoding, dialect, error_bad_lines, warn_bad_lines, delim_whitespace, low_memory, memory_map, float_precision)\u001b[0m\n\u001b[1;32m    684\u001b[0m     )\n\u001b[1;32m    685\u001b[0m \u001b[0;34m\u001b[0m\u001b[0m\n\u001b[0;32m--> 686\u001b[0;31m     \u001b[0;32mreturn\u001b[0m \u001b[0m_read\u001b[0m\u001b[0;34m(\u001b[0m\u001b[0mfilepath_or_buffer\u001b[0m\u001b[0;34m,\u001b[0m \u001b[0mkwds\u001b[0m\u001b[0;34m)\u001b[0m\u001b[0;34m\u001b[0m\u001b[0;34m\u001b[0m\u001b[0m\n\u001b[0m\u001b[1;32m    687\u001b[0m \u001b[0;34m\u001b[0m\u001b[0m\n\u001b[1;32m    688\u001b[0m \u001b[0;34m\u001b[0m\u001b[0m\n",
      "\u001b[0;32m~/.conda/envs/SUNenv/lib/python3.8/site-packages/pandas/io/parsers.py\u001b[0m in \u001b[0;36m_read\u001b[0;34m(filepath_or_buffer, kwds)\u001b[0m\n\u001b[1;32m    450\u001b[0m \u001b[0;34m\u001b[0m\u001b[0m\n\u001b[1;32m    451\u001b[0m     \u001b[0;31m# Create the parser.\u001b[0m\u001b[0;34m\u001b[0m\u001b[0;34m\u001b[0m\u001b[0;34m\u001b[0m\u001b[0m\n\u001b[0;32m--> 452\u001b[0;31m     \u001b[0mparser\u001b[0m \u001b[0;34m=\u001b[0m \u001b[0mTextFileReader\u001b[0m\u001b[0;34m(\u001b[0m\u001b[0mfp_or_buf\u001b[0m\u001b[0;34m,\u001b[0m \u001b[0;34m**\u001b[0m\u001b[0mkwds\u001b[0m\u001b[0;34m)\u001b[0m\u001b[0;34m\u001b[0m\u001b[0;34m\u001b[0m\u001b[0m\n\u001b[0m\u001b[1;32m    453\u001b[0m \u001b[0;34m\u001b[0m\u001b[0m\n\u001b[1;32m    454\u001b[0m     \u001b[0;32mif\u001b[0m \u001b[0mchunksize\u001b[0m \u001b[0;32mor\u001b[0m \u001b[0miterator\u001b[0m\u001b[0;34m:\u001b[0m\u001b[0;34m\u001b[0m\u001b[0;34m\u001b[0m\u001b[0m\n",
      "\u001b[0;32m~/.conda/envs/SUNenv/lib/python3.8/site-packages/pandas/io/parsers.py\u001b[0m in \u001b[0;36m__init__\u001b[0;34m(self, f, engine, **kwds)\u001b[0m\n\u001b[1;32m    944\u001b[0m             \u001b[0mself\u001b[0m\u001b[0;34m.\u001b[0m\u001b[0moptions\u001b[0m\u001b[0;34m[\u001b[0m\u001b[0;34m\"has_index_names\"\u001b[0m\u001b[0;34m]\u001b[0m \u001b[0;34m=\u001b[0m \u001b[0mkwds\u001b[0m\u001b[0;34m[\u001b[0m\u001b[0;34m\"has_index_names\"\u001b[0m\u001b[0;34m]\u001b[0m\u001b[0;34m\u001b[0m\u001b[0;34m\u001b[0m\u001b[0m\n\u001b[1;32m    945\u001b[0m \u001b[0;34m\u001b[0m\u001b[0m\n\u001b[0;32m--> 946\u001b[0;31m         \u001b[0mself\u001b[0m\u001b[0;34m.\u001b[0m\u001b[0m_make_engine\u001b[0m\u001b[0;34m(\u001b[0m\u001b[0mself\u001b[0m\u001b[0;34m.\u001b[0m\u001b[0mengine\u001b[0m\u001b[0;34m)\u001b[0m\u001b[0;34m\u001b[0m\u001b[0;34m\u001b[0m\u001b[0m\n\u001b[0m\u001b[1;32m    947\u001b[0m \u001b[0;34m\u001b[0m\u001b[0m\n\u001b[1;32m    948\u001b[0m     \u001b[0;32mdef\u001b[0m \u001b[0mclose\u001b[0m\u001b[0;34m(\u001b[0m\u001b[0mself\u001b[0m\u001b[0;34m)\u001b[0m\u001b[0;34m:\u001b[0m\u001b[0;34m\u001b[0m\u001b[0;34m\u001b[0m\u001b[0m\n",
      "\u001b[0;32m~/.conda/envs/SUNenv/lib/python3.8/site-packages/pandas/io/parsers.py\u001b[0m in \u001b[0;36m_make_engine\u001b[0;34m(self, engine)\u001b[0m\n\u001b[1;32m   1176\u001b[0m     \u001b[0;32mdef\u001b[0m \u001b[0m_make_engine\u001b[0m\u001b[0;34m(\u001b[0m\u001b[0mself\u001b[0m\u001b[0;34m,\u001b[0m \u001b[0mengine\u001b[0m\u001b[0;34m=\u001b[0m\u001b[0;34m\"c\"\u001b[0m\u001b[0;34m)\u001b[0m\u001b[0;34m:\u001b[0m\u001b[0;34m\u001b[0m\u001b[0;34m\u001b[0m\u001b[0m\n\u001b[1;32m   1177\u001b[0m         \u001b[0;32mif\u001b[0m \u001b[0mengine\u001b[0m \u001b[0;34m==\u001b[0m \u001b[0;34m\"c\"\u001b[0m\u001b[0;34m:\u001b[0m\u001b[0;34m\u001b[0m\u001b[0;34m\u001b[0m\u001b[0m\n\u001b[0;32m-> 1178\u001b[0;31m             \u001b[0mself\u001b[0m\u001b[0;34m.\u001b[0m\u001b[0m_engine\u001b[0m \u001b[0;34m=\u001b[0m \u001b[0mCParserWrapper\u001b[0m\u001b[0;34m(\u001b[0m\u001b[0mself\u001b[0m\u001b[0;34m.\u001b[0m\u001b[0mf\u001b[0m\u001b[0;34m,\u001b[0m \u001b[0;34m**\u001b[0m\u001b[0mself\u001b[0m\u001b[0;34m.\u001b[0m\u001b[0moptions\u001b[0m\u001b[0;34m)\u001b[0m\u001b[0;34m\u001b[0m\u001b[0;34m\u001b[0m\u001b[0m\n\u001b[0m\u001b[1;32m   1179\u001b[0m         \u001b[0;32melse\u001b[0m\u001b[0;34m:\u001b[0m\u001b[0;34m\u001b[0m\u001b[0;34m\u001b[0m\u001b[0m\n\u001b[1;32m   1180\u001b[0m             \u001b[0;32mif\u001b[0m \u001b[0mengine\u001b[0m \u001b[0;34m==\u001b[0m \u001b[0;34m\"python\"\u001b[0m\u001b[0;34m:\u001b[0m\u001b[0;34m\u001b[0m\u001b[0;34m\u001b[0m\u001b[0m\n",
      "\u001b[0;32m~/.conda/envs/SUNenv/lib/python3.8/site-packages/pandas/io/parsers.py\u001b[0m in \u001b[0;36m__init__\u001b[0;34m(self, src, **kwds)\u001b[0m\n\u001b[1;32m   2006\u001b[0m         \u001b[0mkwds\u001b[0m\u001b[0;34m[\u001b[0m\u001b[0;34m\"usecols\"\u001b[0m\u001b[0;34m]\u001b[0m \u001b[0;34m=\u001b[0m \u001b[0mself\u001b[0m\u001b[0;34m.\u001b[0m\u001b[0musecols\u001b[0m\u001b[0;34m\u001b[0m\u001b[0;34m\u001b[0m\u001b[0m\n\u001b[1;32m   2007\u001b[0m \u001b[0;34m\u001b[0m\u001b[0m\n\u001b[0;32m-> 2008\u001b[0;31m         \u001b[0mself\u001b[0m\u001b[0;34m.\u001b[0m\u001b[0m_reader\u001b[0m \u001b[0;34m=\u001b[0m \u001b[0mparsers\u001b[0m\u001b[0;34m.\u001b[0m\u001b[0mTextReader\u001b[0m\u001b[0;34m(\u001b[0m\u001b[0msrc\u001b[0m\u001b[0;34m,\u001b[0m \u001b[0;34m**\u001b[0m\u001b[0mkwds\u001b[0m\u001b[0;34m)\u001b[0m\u001b[0;34m\u001b[0m\u001b[0;34m\u001b[0m\u001b[0m\n\u001b[0m\u001b[1;32m   2009\u001b[0m         \u001b[0mself\u001b[0m\u001b[0;34m.\u001b[0m\u001b[0munnamed_cols\u001b[0m \u001b[0;34m=\u001b[0m \u001b[0mself\u001b[0m\u001b[0;34m.\u001b[0m\u001b[0m_reader\u001b[0m\u001b[0;34m.\u001b[0m\u001b[0munnamed_cols\u001b[0m\u001b[0;34m\u001b[0m\u001b[0;34m\u001b[0m\u001b[0m\n\u001b[1;32m   2010\u001b[0m \u001b[0;34m\u001b[0m\u001b[0m\n",
      "\u001b[0;32mpandas/_libs/parsers.pyx\u001b[0m in \u001b[0;36mpandas._libs.parsers.TextReader.__cinit__\u001b[0;34m()\u001b[0m\n",
      "\u001b[0;32mpandas/_libs/parsers.pyx\u001b[0m in \u001b[0;36mpandas._libs.parsers.TextReader._setup_parser_source\u001b[0;34m()\u001b[0m\n",
      "\u001b[0;31mFileNotFoundError\u001b[0m: [Errno 2] No such file or directory: './1_Refractive_index_of_sulfate_from_ARIA/Rdry_RH_wp_Rwet.csv'"
     ]
    }
   ],
   "source": [
    "df1 = pd.read_csv('./1_Refractive_index_of_sulfate_from_ARIA/Rdry_RH_wp_Rwet.csv')\n",
    "df2 = pd.read_csv('./2_calculate_Rwet_WP_for_each_RH_Rdry/Refractive_Index_from_ARIA/Fractive_index_LUT.csv')\n",
    "df3 = pd.read_csv('./wavelength.csv')\n"
   ]
  },
  {
   "cell_type": "code",
   "execution_count": null,
   "id": "991e161d",
   "metadata": {},
   "outputs": [],
   "source": [
    "df2.head()"
   ]
  },
  {
   "cell_type": "code",
   "execution_count": 22,
   "id": "adba7fea",
   "metadata": {},
   "outputs": [],
   "source": [
    "wavelength = df3['wavelength']"
   ]
  },
  {
   "cell_type": "code",
   "execution_count": 23,
   "id": "8f912907",
   "metadata": {},
   "outputs": [],
   "source": [
    "# tempture is set as 240 k\n",
    "\n",
    "temp = 240 # K"
   ]
  },
  {
   "cell_type": "markdown",
   "id": "7698f1f1",
   "metadata": {},
   "source": [
    "### add wavelength to RH_wp_Rdry_Rwet"
   ]
  },
  {
   "cell_type": "markdown",
   "id": "99d6b2bc",
   "metadata": {},
   "source": [
    "### To find the N, iK: \n",
    "\n",
    "First, compare the wp \n",
    "\n",
    "Second, comare wavelength\n",
    "\n",
    "FYI: df2 is sorted from:\n",
    "\n",
    "    wp: from low to high\n",
    "    \n",
    "        temp: from low to high\n",
    "        \n",
    "            wavelength: from low to high"
   ]
  },
  {
   "cell_type": "code",
   "execution_count": 24,
   "id": "d309cc9a",
   "metadata": {},
   "outputs": [],
   "source": [
    "def find_N_iK(Array5):\n",
    "    # [wavelength_nm, RH_%, wp_%, Rdry_um, Rwet_um]\n",
    "#     print(Array5.shape)\n",
    "    \n",
    "    wavelength = Array5[0]\n",
    "    RH   = Array5[1]\n",
    "    wp   = Array5[2]\n",
    "    Rdry = Array5[3]\n",
    "    Rwet = Array5[4]\n",
    "    \n",
    "    # find closest wt_% in df2\n",
    "    df2_WPs = df2[\"wt_%\"].unique()\n",
    "    idx = (np.abs(df2_WPs - wp)).argmin()\n",
    "    wp2 = df2_WPs[idx]\n",
    "#     print(wp2)\n",
    "    \n",
    "    # for all df2 data with wp2, select closest temp\n",
    "    df2_tmp1 = df2.loc[df2[\"wt_%\"] == wp2]\n",
    "    df2_Ts = df2_tmp1[\"temp_K\"].unique()\n",
    "    idx = (np.abs(df2_Ts - temp)).argmin()\n",
    "    T2 = df2_Ts[idx] \n",
    "#     print(T2)\n",
    "    \n",
    "    # for all df2 data with wp2 and T2, select closest wavelength\n",
    "    df2_tmp2 = df2_tmp1.loc[ df2[\"temp_K\"] == T2 ]\n",
    "    df2_wv = df2_tmp2[\"wavl_nm\"].unique()\n",
    "    idx = (np.abs(df2_wv - wavelength)).argmin()\n",
    "    wavelength2 = df2_wv[idx]\n",
    "#     print(wavelength2)\n",
    "    \n",
    "    # select the df2 row with wp2, T2 and wavelength2\n",
    "    df2_tmp3 = df2_tmp2.loc[ df2[\"wavl_nm\"] == wavelength2 ]\n",
    "    [[N, iK]] = df2_tmp3[[\"n\",\"k\"]].values\n",
    "#     print([N, iK])\n",
    "    \n",
    "    return [N, iK]"
   ]
  },
  {
   "cell_type": "code",
   "execution_count": 25,
   "id": "5f907eea",
   "metadata": {},
   "outputs": [],
   "source": [
    "N_Rdry = 40\n",
    "N_RH = 7\n",
    "N_wv = len(wavelength)\n",
    "\n",
    "if N_Rdry*N_RH!=len(df1):\n",
    "    print(\"ERROR: dimension doesn't match !!!\")\n",
    "\n",
    "data = np.zeros((N_Rdry*N_RH*N_wv, 7)) # wavelength_nm, RH_%, wp_%, Rdry_um, Rwet_um"
   ]
  },
  {
   "cell_type": "code",
   "execution_count": 26,
   "id": "ab6c85ac",
   "metadata": {},
   "outputs": [
    {
     "name": "stderr",
     "output_type": "stream",
     "text": [
      "100%|██████████| 40/40 [00:57<00:00,  1.43s/it]\n"
     ]
    }
   ],
   "source": [
    "# data: [wavelength_nm, RH_%, wp_%, Rdry_um, Rwet_um]\n",
    "\n",
    "for i in tqdm(range(N_Rdry)):\n",
    "    for j in range(N_wv):\n",
    "        for k in range(N_RH):\n",
    "            \n",
    "            df1_index = i*N_RH + k\n",
    "            \n",
    "            index = i*N_wv*N_RH + j*N_RH + k\n",
    "            \n",
    "            data[index,0] = wavelength[j]\n",
    "#             print(k,j,df1_index)\n",
    "            data[index,1:5] = df1.iloc[df1_index][1:5].values\n",
    "    \n",
    "            data[index,5:7] = find_N_iK(data[index,0:5])\n",
    "                \n",
    "                \n",
    "\n",
    "    "
   ]
  },
  {
   "cell_type": "code",
   "execution_count": 27,
   "id": "daa14432",
   "metadata": {},
   "outputs": [],
   "source": [
    "df = pd.DataFrame(data)\n",
    "df.columns =[\"w(nm)\", \"Rdry_um\", \"RH_%\", \"wp_%\", \"Rwet_um\", \"N\", \"iK\"]\n",
    "\n",
    "df.to_csv('h2so4_total.csv')"
   ]
  },
  {
   "cell_type": "code",
   "execution_count": null,
   "id": "7072e84f",
   "metadata": {},
   "outputs": [],
   "source": [
    "df"
   ]
  },
  {
   "cell_type": "code",
   "execution_count": null,
   "id": "a7c69434",
   "metadata": {},
   "outputs": [],
   "source": []
  },
  {
   "cell_type": "code",
   "execution_count": null,
   "id": "43e312d2",
   "metadata": {},
   "outputs": [],
   "source": [
    "df1.iloc[0][1:5].values"
   ]
  },
  {
   "cell_type": "code",
   "execution_count": null,
   "id": "e07d42d7",
   "metadata": {},
   "outputs": [],
   "source": []
  },
  {
   "cell_type": "code",
   "execution_count": null,
   "id": "0b0410c9",
   "metadata": {},
   "outputs": [],
   "source": [
    "wavelength = df3[\"wavelength\"]\n",
    "print(len(wavelength))\n",
    "\n",
    "print(len(df1))"
   ]
  },
  {
   "cell_type": "code",
   "execution_count": null,
   "id": "efe24b4a",
   "metadata": {},
   "outputs": [],
   "source": [
    "df1.describe()"
   ]
  },
  {
   "cell_type": "code",
   "execution_count": null,
   "id": "abd61b2f",
   "metadata": {},
   "outputs": [],
   "source": [
    "df2.describe()"
   ]
  },
  {
   "cell_type": "code",
   "execution_count": null,
   "id": "03030ae0",
   "metadata": {},
   "outputs": [],
   "source": [
    "df3.describe()"
   ]
  },
  {
   "cell_type": "code",
   "execution_count": null,
   "id": "3a103bdc",
   "metadata": {},
   "outputs": [],
   "source": [
    "Rdry = df1[\"Rdry_um\"]"
   ]
  },
  {
   "cell_type": "code",
   "execution_count": null,
   "id": "cdd781d8",
   "metadata": {},
   "outputs": [],
   "source": [
    "# Rdry[0:40]"
   ]
  },
  {
   "cell_type": "code",
   "execution_count": null,
   "id": "3319efe0",
   "metadata": {},
   "outputs": [],
   "source": [
    "# Rdry[40:80]"
   ]
  },
  {
   "cell_type": "code",
   "execution_count": null,
   "id": "824dc2f3",
   "metadata": {},
   "outputs": [],
   "source": []
  },
  {
   "cell_type": "code",
   "execution_count": null,
   "id": "705506cd",
   "metadata": {},
   "outputs": [],
   "source": []
  }
 ],
 "metadata": {
  "kernelspec": {
   "display_name": "Python [conda env:.conda-SUNenv]",
   "language": "python",
   "name": "conda-env-.conda-SUNenv-py"
  },
  "language_info": {
   "codemirror_mode": {
    "name": "ipython",
    "version": 3
   },
   "file_extension": ".py",
   "mimetype": "text/x-python",
   "name": "python",
   "nbconvert_exporter": "python",
   "pygments_lexer": "ipython3",
   "version": "3.8.5"
  }
 },
 "nbformat": 4,
 "nbformat_minor": 5
}
